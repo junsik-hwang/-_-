{
 "cells": [
  {
   "cell_type": "code",
   "execution_count": 22,
   "metadata": {},
   "outputs": [],
   "source": [
    "import requests\n",
    "import time\n",
    "import json\n",
    "\n",
    "import re\n",
    "from html import unescape\n",
    "\n",
    "headers = {\"user-agent\" : \"Mozilla/5.0 (Windows NT 6.3; Win64; x64) AppleWebKit/537.36 (KHTML, like Gecko) Chrome/75.0.3770.100 Safari/537.36\"}\n",
    "\n",
    "def download(method, url, param=None, data=None, timeout=1 , maxretires=3):\n",
    "    try : \n",
    "        resp = requests.request(method, url, params=param, data=data, headers=headers)\n",
    "        resp.raise_for_status()\n",
    "    except requests.exceptions.HTTPError as e :\n",
    "        if 500 <= e.response.status_code < 600 and maxretires > 0:\n",
    "            print(maxretires)\n",
    "            time.sleep(timeout)\n",
    "            resp = download(method, url, param, data, timeout, maxretires-1)\n",
    "        else:\n",
    "            print(e.response.status_code)\n",
    "            print(e.response.reason)\n",
    "    return resp"
   ]
  },
  {
   "cell_type": "code",
   "execution_count": 23,
   "metadata": {},
   "outputs": [
    {
     "name": "stdout",
     "output_type": "stream",
     "text": [
      "Requirement already satisfied: beautifulsoup4 in c:\\users\\cdetg\\anaconda3\\lib\\site-packages (4.7.1)\n",
      "Requirement already satisfied: soupsieve>=1.2 in c:\\users\\cdetg\\anaconda3\\lib\\site-packages (from beautifulsoup4) (1.8)\n"
     ]
    }
   ],
   "source": [
    "# beautifulSoup : Parsing library\n",
    "!pip install beautifulsoup4\n",
    "from bs4 import BeautifulSoup"
   ]
  },
  {
   "cell_type": "markdown",
   "metadata": {},
   "source": [
    "# Crawling"
   ]
  },
  {
   "cell_type": "markdown",
   "metadata": {},
   "source": [
    "- 봇(bot)\n",
    "- 색인(indexing) 목적으로 쓴다.\n",
    "- 데이터를 내 원하는 만큼 가져온다. \n",
    "- focused crawling 배운다."
   ]
  },
  {
   "cell_type": "code",
   "execution_count": 3,
   "metadata": {},
   "outputs": [],
   "source": [
    "# seed 주소 : http://example.webscraping.com/places/default/index/1\n",
    "# a 태그에서 href 값을 가져올 것이다.\n",
    "\n",
    "url = \"http://example.webscraping.com/places/default/index\"\n",
    "\n",
    "html = download(\"get\", url)"
   ]
  },
  {
   "cell_type": "code",
   "execution_count": 4,
   "metadata": {},
   "outputs": [
    {
     "data": {
      "text/plain": [
       "['http://example.webscraping.com/places/default/user/register?_next=/places/default/index',\n",
       " 'http://example.webscraping.com/places/default/user/login?_next=/places/default/index',\n",
       " 'http://example.webscraping.com/places/default/index',\n",
       " 'http://example.webscraping.com/places/default/search',\n",
       " 'http://example.webscraping.com/places/default/view/Afghanistan-1',\n",
       " 'http://example.webscraping.com/places/default/view/Aland-Islands-2',\n",
       " 'http://example.webscraping.com/places/default/view/Albania-3',\n",
       " 'http://example.webscraping.com/places/default/view/Algeria-4',\n",
       " 'http://example.webscraping.com/places/default/view/American-Samoa-5',\n",
       " 'http://example.webscraping.com/places/default/view/Andorra-6',\n",
       " 'http://example.webscraping.com/places/default/view/Angola-7',\n",
       " 'http://example.webscraping.com/places/default/view/Anguilla-8',\n",
       " 'http://example.webscraping.com/places/default/view/Antarctica-9',\n",
       " 'http://example.webscraping.com/places/default/view/Antigua-and-Barbuda-10',\n",
       " 'http://example.webscraping.com/places/default/index/1']"
      ]
     },
     "execution_count": 4,
     "metadata": {},
     "output_type": "execute_result"
    }
   ],
   "source": [
    "# 내부 링크.\n",
    "dom = BeautifulSoup(html.text, \"lxml\")\n",
    "[requests.compat.urljoin(url, _[\"href\"])\n",
    " for _ in dom.find_all(\"a\") if len(_[\"href\"]) > 3]"
   ]
  },
  {
   "cell_type": "code",
   "execution_count": 9,
   "metadata": {},
   "outputs": [],
   "source": [
    "def parseURL(seed):\n",
    "    html = download(\"get\", seed)\n",
    "    dom = BeautifulSoup(html.text, 'lxml')\n",
    "    \n",
    "    return [requests.compat.urljoin(url, _[\"href\"])\n",
    "     for _ in dom.find_all(\"a\") if len(_[\"href\"]) > 3]"
   ]
  },
  {
   "cell_type": "code",
   "execution_count": null,
   "metadata": {},
   "outputs": [],
   "source": [
    "# return 한 값을 큐에 넣는다.\n",
    "# 알고리즘 URL-seen 과정 진행중...\n",
    "\n",
    "queue = list()\n",
    "queue.append(\"http://example.webscraping.com/places/default/index\")\n",
    "# 다른 검색결과에 들어가려면 이 줄에 넣는 것. \n",
    "seen = list()\n",
    "\n",
    "# 너무 빠르게 request 하지 않도록 slip을 넣는다.\n",
    "while queue:\n",
    "    baseURL = queue.pop(0) # 무조건 앞에 있는 게 나온다. 선입선출.\n",
    "    seen.append(baseURL)\n",
    "    time.sleep(1) # 슬립\n",
    "    linkList = parseURL(baseURL) # 중복되는 URL이 생긴다.\n",
    "    for link in linkList: # 중복되는 url 있으면 피할 것이다.\n",
    "        if link not in queue and link not in seen:\n",
    "            queue.append(link)\n",
    "    print(\"Queue: {0}, Seen : {1}\".format(len(queue), len(seen)))\n",
    "#     queue.extend(linkList)"
   ]
  },
  {
   "cell_type": "code",
   "execution_count": 16,
   "metadata": {},
   "outputs": [],
   "source": [
    "# href 있는지 없는지 추가\n",
    "def parseURL(seed):\n",
    "    html = download(\"get\", seed)\n",
    "    dom = BeautifulSoup(html.text, 'lxml')\n",
    "    \n",
    "    return [requests.compat.urljoin(url, _[\"href\"])\n",
    "     for _ in dom.find_all(\"a\") if _.has_attr(\"href\") and len(_[\"href\"]) > 3]"
   ]
  },
  {
   "cell_type": "code",
   "execution_count": 24,
   "metadata": {},
   "outputs": [],
   "source": [
    "url = \"https://www.google.com/search?\"\n",
    "\n",
    "param = {\n",
    "    \"q\":\"박보영\"\n",
    "}\n",
    "html = download(\"get\", url, param)\n",
    "dom = BeautifulSoup(html.text, \"lxml\")"
   ]
  },
  {
   "cell_type": "code",
   "execution_count": 26,
   "metadata": {},
   "outputs": [
    {
     "data": {
      "text/plain": [
       "['https://ko.wikipedia.org/wiki/%EB%B0%95%EB%B3%B4%EC%98%81',\n",
       " 'https://ko.wikipedia.org/wiki/%EB%B0%95%EB%B3%B4%EC%98%81%EC%9D%98_%EC%9E%91%ED%92%88_%EB%AA%A9%EB%A1%9D',\n",
       " 'https://namu.wiki/w/%EB%B0%95%EB%B3%B4%EC%98%81',\n",
       " 'https://news.joins.com/article/22895953',\n",
       " 'https://www.msn.com/ko-kr/entertainment/news/%EB%B0%95%EB%B3%B4%EC%98%81-tvn-%EB%93%9C%EB%9D%BC%EB%A7%88-%EC%96%B4%EB%B9%84%EC%8A%A4-%EC%97%AC%EC%A3%BC%EC%9D%B8%EA%B3%B5/ar-BBLZzVh',\n",
       " 'https://www.msn.com/ko-kr/entertainment/tv/hd%EC%8A%A4%ED%86%A0%EB%A6%AC-%EC%9E%91%EC%9D%80-%EA%B1%B0%EC%9D%B8-%EB%B0%95%EB%B3%B4%EC%98%81%E2%80%A6%EA%B7%B8%EC%9D%98-%EC%97%B0%EA%B8%B0%EC%97%90-%EB%8C%80%ED%95%9C-%ED%9D%94%EC%A0%81%EB%93%A4/ar-BBUvL0V',\n",
       " 'https://movie.daum.net/person/main?personId=105244',\n",
       " 'https://twitter.com/hashtag/%EB%B0%95%EB%B3%B4%EC%98%81']"
      ]
     },
     "execution_count": 26,
     "metadata": {},
     "output_type": "execute_result"
    }
   ],
   "source": [
    "[_.find_parent()[\"href\"] for _ in dom.select(\".LC20lb\")]"
   ]
  },
  {
   "cell_type": "code",
   "execution_count": 27,
   "metadata": {},
   "outputs": [
    {
     "name": "stdout",
     "output_type": "stream",
     "text": [
      "Queue: 864, Seen : 1\n",
      "Queue: 1123, Seen : 2\n",
      "Queue: 2092, Seen : 3\n",
      "Queue: 2214, Seen : 4\n",
      "Queue: 2248, Seen : 5\n",
      "Queue: 2257, Seen : 6\n",
      "Queue: 2300, Seen : 7\n",
      "Queue: 2483, Seen : 8\n",
      "Queue: 2520, Seen : 9\n",
      "Queue: 2522, Seen : 10\n",
      "404\n",
      "Not Found\n",
      "Queue: 2522, Seen : 11\n",
      "404\n",
      "Not Found\n",
      "Queue: 2521, Seen : 12\n",
      "404\n",
      "Not Found\n",
      "Queue: 2520, Seen : 13\n",
      "404\n",
      "Not Found\n",
      "Queue: 2519, Seen : 14\n",
      "404\n",
      "Not Found\n",
      "Queue: 2518, Seen : 15\n"
     ]
    },
    {
     "ename": "KeyboardInterrupt",
     "evalue": "",
     "output_type": "error",
     "traceback": [
      "\u001b[1;31m---------------------------------------------------------------------------\u001b[0m",
      "\u001b[1;31mKeyboardInterrupt\u001b[0m                         Traceback (most recent call last)",
      "\u001b[1;32m<ipython-input-27-34486d9d921c>\u001b[0m in \u001b[0;36m<module>\u001b[1;34m\u001b[0m\n\u001b[0;32m      6\u001b[0m     \u001b[0mbaseURL\u001b[0m \u001b[1;33m=\u001b[0m \u001b[0mqueue\u001b[0m\u001b[1;33m.\u001b[0m\u001b[0mpop\u001b[0m\u001b[1;33m(\u001b[0m\u001b[1;36m0\u001b[0m\u001b[1;33m)\u001b[0m \u001b[1;31m# 무조건 앞에 있는 게 나온다. 선입선출. pop(-1) 로 바꾸면 스택이 된다.\u001b[0m\u001b[1;33m\u001b[0m\u001b[1;33m\u001b[0m\u001b[0m\n\u001b[0;32m      7\u001b[0m     \u001b[0mseen\u001b[0m\u001b[1;33m.\u001b[0m\u001b[0mappend\u001b[0m\u001b[1;33m(\u001b[0m\u001b[0mbaseURL\u001b[0m\u001b[1;33m)\u001b[0m\u001b[1;33m\u001b[0m\u001b[1;33m\u001b[0m\u001b[0m\n\u001b[1;32m----> 8\u001b[1;33m     \u001b[0mtime\u001b[0m\u001b[1;33m.\u001b[0m\u001b[0msleep\u001b[0m\u001b[1;33m(\u001b[0m\u001b[1;36m1\u001b[0m\u001b[1;33m)\u001b[0m \u001b[1;31m# 슬립\u001b[0m\u001b[1;33m\u001b[0m\u001b[1;33m\u001b[0m\u001b[0m\n\u001b[0m\u001b[0;32m      9\u001b[0m     \u001b[0mlinkList\u001b[0m \u001b[1;33m=\u001b[0m \u001b[0mparseURL\u001b[0m\u001b[1;33m(\u001b[0m\u001b[0mbaseURL\u001b[0m\u001b[1;33m)\u001b[0m \u001b[1;31m# 중복되는 URL이 생긴다.\u001b[0m\u001b[1;33m\u001b[0m\u001b[1;33m\u001b[0m\u001b[0m\n\u001b[0;32m     10\u001b[0m     \u001b[1;32mfor\u001b[0m \u001b[0mlink\u001b[0m \u001b[1;32min\u001b[0m \u001b[0mlinkList\u001b[0m\u001b[1;33m:\u001b[0m \u001b[1;31m# 중복되는 url 있으면 피할 것이다.\u001b[0m\u001b[1;33m\u001b[0m\u001b[1;33m\u001b[0m\u001b[0m\n",
      "\u001b[1;31mKeyboardInterrupt\u001b[0m: "
     ]
    }
   ],
   "source": [
    "queue = list()\n",
    "queue.extend([_.find_parent()[\"href\"] for _ in dom.select(\".LC20lb\")])\n",
    "seen = list()\n",
    "\n",
    "while queue:\n",
    "    baseURL = queue.pop(0) # 무조건 앞에 있는 게 나온다. 선입선출. pop(-1) 로 바꾸면 스택이 된다.\n",
    "    seen.append(baseURL)\n",
    "    time.sleep(1) # 슬립\n",
    "    linkList = parseURL(baseURL) # 중복되는 URL이 생긴다.\n",
    "    for link in linkList: # 중복되는 url 있으면 피할 것이다.\n",
    "        if link not in queue and link not in seen:\n",
    "            queue.append(link)\n",
    "    print(\"Queue: {0}, Seen : {1}\".format(len(queue), len(seen)))\n",
    "#     queue.extend(linkList)"
   ]
  },
  {
   "cell_type": "markdown",
   "metadata": {},
   "source": [
    "## 네이버 focused crawling 하기"
   ]
  },
  {
   "cell_type": "code",
   "execution_count": 42,
   "metadata": {},
   "outputs": [],
   "source": [
    "url = \"https://search.naver.com/search.naver\"\n",
    "param = {\n",
    "    \"query\":\"박보영\"\n",
    "}\n",
    "html = download(\"get\", url, param)\n",
    "dom = BeautifulSoup(html.text, \"lxml\")"
   ]
  },
  {
   "cell_type": "code",
   "execution_count": 43,
   "metadata": {},
   "outputs": [
    {
     "data": {
      "text/plain": [
       "['https://blog.naver.com/imagetech1?Redirect=Log&logNo=221530358950',\n",
       " 'https://asovc7777.blog.me/221548676988',\n",
       " 'http://hshlog.com/221559890110',\n",
       " 'https://blog.naver.com/js2y86?Redirect=Log&logNo=221530397718',\n",
       " 'https://blog.naver.com/dlqlwm14?Redirect=Log&logNo=221529807195']"
      ]
     },
     "execution_count": 43,
     "metadata": {},
     "output_type": "execute_result"
    }
   ],
   "source": [
    "[_[\"href\"] for _ in dom.select(\"a.sh_blog_title._sp_each_url._sp_each_title\")]"
   ]
  },
  {
   "cell_type": "code",
   "execution_count": 31,
   "metadata": {},
   "outputs": [
    {
     "data": {
      "text/plain": [
       "ParseResult(scheme='https', netloc='blog.naver.com', path='/dlqlwm14', params='', query='Redirect=Log&logNo=221529807195', fragment='')"
      ]
     },
     "execution_count": 31,
     "metadata": {},
     "output_type": "execute_result"
    }
   ],
   "source": [
    "requests.compat.urlparse(\"https://blog.naver.com/dlqlwm14?Redirect=Log&logNo=221529807195\")"
   ]
  },
  {
   "cell_type": "code",
   "execution_count": 32,
   "metadata": {},
   "outputs": [],
   "source": [
    "def checkBlog(url):\n",
    "    return requests.compat.urlparse(url)[1] == \"blog.naver.com\""
   ]
  },
  {
   "cell_type": "code",
   "execution_count": 34,
   "metadata": {},
   "outputs": [
    {
     "data": {
      "text/plain": [
       "True"
      ]
     },
     "execution_count": 34,
     "metadata": {},
     "output_type": "execute_result"
    }
   ],
   "source": [
    "checkBlog(\"https://blog.naver.com/dlqlwm14?Redirect=Log&logNo=221529807195\")"
   ]
  },
  {
   "cell_type": "code",
   "execution_count": 35,
   "metadata": {},
   "outputs": [
    {
     "data": {
      "text/plain": [
       "False"
      ]
     },
     "execution_count": 35,
     "metadata": {},
     "output_type": "execute_result"
    }
   ],
   "source": [
    "checkBlog(\"http://hshlog.com/221559890110\")"
   ]
  },
  {
   "cell_type": "code",
   "execution_count": 44,
   "metadata": {},
   "outputs": [
    {
     "data": {
      "text/plain": [
       "['https://blog.naver.com/imagetech1?Redirect=Log&logNo=221530358950',\n",
       " 'https://blog.naver.com/js2y86?Redirect=Log&logNo=221530397718',\n",
       " 'https://blog.naver.com/dlqlwm14?Redirect=Log&logNo=221529807195']"
      ]
     },
     "execution_count": 44,
     "metadata": {},
     "output_type": "execute_result"
    }
   ],
   "source": [
    "[_[\"href\"] for _ in dom.select(\"a.sh_blog_title._sp_each_url._sp_each_title\")\n",
    "if checkBlog(_[\"href\"])]"
   ]
  },
  {
   "cell_type": "code",
   "execution_count": 45,
   "metadata": {},
   "outputs": [],
   "source": [
    "def parseURL(seed):\n",
    "    html = download(\"get\", seed)\n",
    "    dom = BeautifulSoup(html.text, 'lxml')\n",
    "    \n",
    "    if len(dom.select(\"#mainFrame\")) < 1:\n",
    "        return []\n",
    "   \n",
    "    seed = requests.compat.urljoin(seed, dom.select(\"#mainFrame\")[0][\"src\"])\n",
    "   \n",
    "    html = download(\"get\", seed)\n",
    "    dom = BeautifulSoup(html.text, 'lxml')\n",
    "    \n",
    "    return [requests.compat.urljoin(seed, _[\"href\"])\n",
    "     for _ in dom.find_all(\"a\") if _.has_attr(\"href\") and len(_[\"href\"]) > 3\n",
    "           and checkBlog(requests.compat.urljoin(seed, _[\"href\"]))]"
   ]
  },
  {
   "cell_type": "code",
   "execution_count": 46,
   "metadata": {
    "scrolled": true
   },
   "outputs": [
    {
     "name": "stdout",
     "output_type": "stream",
     "text": [
      "Queue: 17, Seen : 1\n",
      "Queue: 32, Seen : 2\n",
      "Queue: 48, Seen : 3\n",
      "Queue: 47, Seen : 4\n",
      "Queue: 46, Seen : 5\n",
      "Queue: 45, Seen : 6\n",
      "Queue: 44, Seen : 7\n",
      "Queue: 43, Seen : 8\n",
      "Queue: 42, Seen : 9\n",
      "Queue: 41, Seen : 10\n",
      "Queue: 40, Seen : 11\n",
      "Queue: 39, Seen : 12\n",
      "Queue: 38, Seen : 13\n",
      "Queue: 37, Seen : 14\n",
      "Queue: 64, Seen : 15\n",
      "Queue: 63, Seen : 16\n",
      "404\n",
      "Not Found\n",
      "Queue: 62, Seen : 17\n",
      "Queue: 61, Seen : 18\n",
      "Queue: 60, Seen : 19\n",
      "Queue: 59, Seen : 20\n",
      "Queue: 58, Seen : 21\n",
      "Queue: 57, Seen : 22\n",
      "Queue: 56, Seen : 23\n",
      "Queue: 55, Seen : 24\n",
      "Queue: 54, Seen : 25\n"
     ]
    },
    {
     "ename": "KeyboardInterrupt",
     "evalue": "",
     "output_type": "error",
     "traceback": [
      "\u001b[1;31m---------------------------------------------------------------------------\u001b[0m",
      "\u001b[1;31mTypeError\u001b[0m                                 Traceback (most recent call last)",
      "\u001b[1;32mC:\\Users\\cdetg\\Anaconda3\\lib\\site-packages\\urllib3\\connectionpool.py\u001b[0m in \u001b[0;36m_make_request\u001b[1;34m(self, conn, method, url, timeout, chunked, **httplib_request_kw)\u001b[0m\n\u001b[0;32m    376\u001b[0m             \u001b[1;32mtry\u001b[0m\u001b[1;33m:\u001b[0m  \u001b[1;31m# Python 2.7, use buffering of HTTP responses\u001b[0m\u001b[1;33m\u001b[0m\u001b[1;33m\u001b[0m\u001b[0m\n\u001b[1;32m--> 377\u001b[1;33m                 \u001b[0mhttplib_response\u001b[0m \u001b[1;33m=\u001b[0m \u001b[0mconn\u001b[0m\u001b[1;33m.\u001b[0m\u001b[0mgetresponse\u001b[0m\u001b[1;33m(\u001b[0m\u001b[0mbuffering\u001b[0m\u001b[1;33m=\u001b[0m\u001b[1;32mTrue\u001b[0m\u001b[1;33m)\u001b[0m\u001b[1;33m\u001b[0m\u001b[1;33m\u001b[0m\u001b[0m\n\u001b[0m\u001b[0;32m    378\u001b[0m             \u001b[1;32mexcept\u001b[0m \u001b[0mTypeError\u001b[0m\u001b[1;33m:\u001b[0m  \u001b[1;31m# Python 3\u001b[0m\u001b[1;33m\u001b[0m\u001b[1;33m\u001b[0m\u001b[0m\n",
      "\u001b[1;31mTypeError\u001b[0m: getresponse() got an unexpected keyword argument 'buffering'",
      "\nDuring handling of the above exception, another exception occurred:\n",
      "\u001b[1;31mKeyboardInterrupt\u001b[0m                         Traceback (most recent call last)",
      "\u001b[1;32m<ipython-input-46-fe9db517ef00>\u001b[0m in \u001b[0;36m<module>\u001b[1;34m\u001b[0m\n\u001b[0;32m      9\u001b[0m     \u001b[0mseen\u001b[0m\u001b[1;33m.\u001b[0m\u001b[0mappend\u001b[0m\u001b[1;33m(\u001b[0m\u001b[0mbaseURL\u001b[0m\u001b[1;33m)\u001b[0m\u001b[1;33m\u001b[0m\u001b[1;33m\u001b[0m\u001b[0m\n\u001b[0;32m     10\u001b[0m     \u001b[0mtime\u001b[0m\u001b[1;33m.\u001b[0m\u001b[0msleep\u001b[0m\u001b[1;33m(\u001b[0m\u001b[1;36m1\u001b[0m\u001b[1;33m)\u001b[0m \u001b[1;31m# 슬립\u001b[0m\u001b[1;33m\u001b[0m\u001b[1;33m\u001b[0m\u001b[0m\n\u001b[1;32m---> 11\u001b[1;33m     \u001b[0mlinkList\u001b[0m \u001b[1;33m=\u001b[0m \u001b[0mparseURL\u001b[0m\u001b[1;33m(\u001b[0m\u001b[0mbaseURL\u001b[0m\u001b[1;33m)\u001b[0m \u001b[1;31m# 중복되는 URL이 생긴다.\u001b[0m\u001b[1;33m\u001b[0m\u001b[1;33m\u001b[0m\u001b[0m\n\u001b[0m\u001b[0;32m     12\u001b[0m     \u001b[1;32mfor\u001b[0m \u001b[0mlink\u001b[0m \u001b[1;32min\u001b[0m \u001b[0mlinkList\u001b[0m\u001b[1;33m:\u001b[0m \u001b[1;31m# 중복되는 url 있으면 피할 것이다.\u001b[0m\u001b[1;33m\u001b[0m\u001b[1;33m\u001b[0m\u001b[0m\n\u001b[0;32m     13\u001b[0m         \u001b[1;32mif\u001b[0m \u001b[0mlink\u001b[0m \u001b[1;32mnot\u001b[0m \u001b[1;32min\u001b[0m \u001b[0mqueue\u001b[0m \u001b[1;32mand\u001b[0m \u001b[0mlink\u001b[0m \u001b[1;32mnot\u001b[0m \u001b[1;32min\u001b[0m \u001b[0mseen\u001b[0m\u001b[1;33m:\u001b[0m\u001b[1;33m\u001b[0m\u001b[1;33m\u001b[0m\u001b[0m\n",
      "\u001b[1;32m<ipython-input-45-be5376c13a3b>\u001b[0m in \u001b[0;36mparseURL\u001b[1;34m(seed)\u001b[0m\n\u001b[0;32m      1\u001b[0m \u001b[1;32mdef\u001b[0m \u001b[0mparseURL\u001b[0m\u001b[1;33m(\u001b[0m\u001b[0mseed\u001b[0m\u001b[1;33m)\u001b[0m\u001b[1;33m:\u001b[0m\u001b[1;33m\u001b[0m\u001b[1;33m\u001b[0m\u001b[0m\n\u001b[1;32m----> 2\u001b[1;33m     \u001b[0mhtml\u001b[0m \u001b[1;33m=\u001b[0m \u001b[0mdownload\u001b[0m\u001b[1;33m(\u001b[0m\u001b[1;34m\"get\"\u001b[0m\u001b[1;33m,\u001b[0m \u001b[0mseed\u001b[0m\u001b[1;33m)\u001b[0m\u001b[1;33m\u001b[0m\u001b[1;33m\u001b[0m\u001b[0m\n\u001b[0m\u001b[0;32m      3\u001b[0m     \u001b[0mdom\u001b[0m \u001b[1;33m=\u001b[0m \u001b[0mBeautifulSoup\u001b[0m\u001b[1;33m(\u001b[0m\u001b[0mhtml\u001b[0m\u001b[1;33m.\u001b[0m\u001b[0mtext\u001b[0m\u001b[1;33m,\u001b[0m \u001b[1;34m'lxml'\u001b[0m\u001b[1;33m)\u001b[0m\u001b[1;33m\u001b[0m\u001b[1;33m\u001b[0m\u001b[0m\n\u001b[0;32m      4\u001b[0m \u001b[1;33m\u001b[0m\u001b[0m\n\u001b[0;32m      5\u001b[0m     \u001b[1;32mif\u001b[0m \u001b[0mlen\u001b[0m\u001b[1;33m(\u001b[0m\u001b[0mdom\u001b[0m\u001b[1;33m.\u001b[0m\u001b[0mselect\u001b[0m\u001b[1;33m(\u001b[0m\u001b[1;34m\"#mainFrame\"\u001b[0m\u001b[1;33m)\u001b[0m\u001b[1;33m)\u001b[0m \u001b[1;33m<\u001b[0m \u001b[1;36m1\u001b[0m\u001b[1;33m:\u001b[0m\u001b[1;33m\u001b[0m\u001b[1;33m\u001b[0m\u001b[0m\n",
      "\u001b[1;32m<ipython-input-22-0537e93dca88>\u001b[0m in \u001b[0;36mdownload\u001b[1;34m(method, url, param, data, timeout, maxretires)\u001b[0m\n\u001b[0;32m     10\u001b[0m \u001b[1;32mdef\u001b[0m \u001b[0mdownload\u001b[0m\u001b[1;33m(\u001b[0m\u001b[0mmethod\u001b[0m\u001b[1;33m,\u001b[0m \u001b[0murl\u001b[0m\u001b[1;33m,\u001b[0m \u001b[0mparam\u001b[0m\u001b[1;33m=\u001b[0m\u001b[1;32mNone\u001b[0m\u001b[1;33m,\u001b[0m \u001b[0mdata\u001b[0m\u001b[1;33m=\u001b[0m\u001b[1;32mNone\u001b[0m\u001b[1;33m,\u001b[0m \u001b[0mtimeout\u001b[0m\u001b[1;33m=\u001b[0m\u001b[1;36m1\u001b[0m \u001b[1;33m,\u001b[0m \u001b[0mmaxretires\u001b[0m\u001b[1;33m=\u001b[0m\u001b[1;36m3\u001b[0m\u001b[1;33m)\u001b[0m\u001b[1;33m:\u001b[0m\u001b[1;33m\u001b[0m\u001b[1;33m\u001b[0m\u001b[0m\n\u001b[0;32m     11\u001b[0m     \u001b[1;32mtry\u001b[0m \u001b[1;33m:\u001b[0m\u001b[1;33m\u001b[0m\u001b[1;33m\u001b[0m\u001b[0m\n\u001b[1;32m---> 12\u001b[1;33m         \u001b[0mresp\u001b[0m \u001b[1;33m=\u001b[0m \u001b[0mrequests\u001b[0m\u001b[1;33m.\u001b[0m\u001b[0mrequest\u001b[0m\u001b[1;33m(\u001b[0m\u001b[0mmethod\u001b[0m\u001b[1;33m,\u001b[0m \u001b[0murl\u001b[0m\u001b[1;33m,\u001b[0m \u001b[0mparams\u001b[0m\u001b[1;33m=\u001b[0m\u001b[0mparam\u001b[0m\u001b[1;33m,\u001b[0m \u001b[0mdata\u001b[0m\u001b[1;33m=\u001b[0m\u001b[0mdata\u001b[0m\u001b[1;33m,\u001b[0m \u001b[0mheaders\u001b[0m\u001b[1;33m=\u001b[0m\u001b[0mheaders\u001b[0m\u001b[1;33m)\u001b[0m\u001b[1;33m\u001b[0m\u001b[1;33m\u001b[0m\u001b[0m\n\u001b[0m\u001b[0;32m     13\u001b[0m         \u001b[0mresp\u001b[0m\u001b[1;33m.\u001b[0m\u001b[0mraise_for_status\u001b[0m\u001b[1;33m(\u001b[0m\u001b[1;33m)\u001b[0m\u001b[1;33m\u001b[0m\u001b[1;33m\u001b[0m\u001b[0m\n\u001b[0;32m     14\u001b[0m     \u001b[1;32mexcept\u001b[0m \u001b[0mrequests\u001b[0m\u001b[1;33m.\u001b[0m\u001b[0mexceptions\u001b[0m\u001b[1;33m.\u001b[0m\u001b[0mHTTPError\u001b[0m \u001b[1;32mas\u001b[0m \u001b[0me\u001b[0m \u001b[1;33m:\u001b[0m\u001b[1;33m\u001b[0m\u001b[1;33m\u001b[0m\u001b[0m\n",
      "\u001b[1;32mC:\\Users\\cdetg\\Anaconda3\\lib\\site-packages\\requests\\api.py\u001b[0m in \u001b[0;36mrequest\u001b[1;34m(method, url, **kwargs)\u001b[0m\n\u001b[0;32m     58\u001b[0m     \u001b[1;31m# cases, and look like a memory leak in others.\u001b[0m\u001b[1;33m\u001b[0m\u001b[1;33m\u001b[0m\u001b[1;33m\u001b[0m\u001b[0m\n\u001b[0;32m     59\u001b[0m     \u001b[1;32mwith\u001b[0m \u001b[0msessions\u001b[0m\u001b[1;33m.\u001b[0m\u001b[0mSession\u001b[0m\u001b[1;33m(\u001b[0m\u001b[1;33m)\u001b[0m \u001b[1;32mas\u001b[0m \u001b[0msession\u001b[0m\u001b[1;33m:\u001b[0m\u001b[1;33m\u001b[0m\u001b[1;33m\u001b[0m\u001b[0m\n\u001b[1;32m---> 60\u001b[1;33m         \u001b[1;32mreturn\u001b[0m \u001b[0msession\u001b[0m\u001b[1;33m.\u001b[0m\u001b[0mrequest\u001b[0m\u001b[1;33m(\u001b[0m\u001b[0mmethod\u001b[0m\u001b[1;33m=\u001b[0m\u001b[0mmethod\u001b[0m\u001b[1;33m,\u001b[0m \u001b[0murl\u001b[0m\u001b[1;33m=\u001b[0m\u001b[0murl\u001b[0m\u001b[1;33m,\u001b[0m \u001b[1;33m**\u001b[0m\u001b[0mkwargs\u001b[0m\u001b[1;33m)\u001b[0m\u001b[1;33m\u001b[0m\u001b[1;33m\u001b[0m\u001b[0m\n\u001b[0m\u001b[0;32m     61\u001b[0m \u001b[1;33m\u001b[0m\u001b[0m\n\u001b[0;32m     62\u001b[0m \u001b[1;33m\u001b[0m\u001b[0m\n",
      "\u001b[1;32mC:\\Users\\cdetg\\Anaconda3\\lib\\site-packages\\requests\\sessions.py\u001b[0m in \u001b[0;36mrequest\u001b[1;34m(self, method, url, params, data, headers, cookies, files, auth, timeout, allow_redirects, proxies, hooks, stream, verify, cert, json)\u001b[0m\n\u001b[0;32m    531\u001b[0m         }\n\u001b[0;32m    532\u001b[0m         \u001b[0msend_kwargs\u001b[0m\u001b[1;33m.\u001b[0m\u001b[0mupdate\u001b[0m\u001b[1;33m(\u001b[0m\u001b[0msettings\u001b[0m\u001b[1;33m)\u001b[0m\u001b[1;33m\u001b[0m\u001b[1;33m\u001b[0m\u001b[0m\n\u001b[1;32m--> 533\u001b[1;33m         \u001b[0mresp\u001b[0m \u001b[1;33m=\u001b[0m \u001b[0mself\u001b[0m\u001b[1;33m.\u001b[0m\u001b[0msend\u001b[0m\u001b[1;33m(\u001b[0m\u001b[0mprep\u001b[0m\u001b[1;33m,\u001b[0m \u001b[1;33m**\u001b[0m\u001b[0msend_kwargs\u001b[0m\u001b[1;33m)\u001b[0m\u001b[1;33m\u001b[0m\u001b[1;33m\u001b[0m\u001b[0m\n\u001b[0m\u001b[0;32m    534\u001b[0m \u001b[1;33m\u001b[0m\u001b[0m\n\u001b[0;32m    535\u001b[0m         \u001b[1;32mreturn\u001b[0m \u001b[0mresp\u001b[0m\u001b[1;33m\u001b[0m\u001b[1;33m\u001b[0m\u001b[0m\n",
      "\u001b[1;32mC:\\Users\\cdetg\\Anaconda3\\lib\\site-packages\\requests\\sessions.py\u001b[0m in \u001b[0;36msend\u001b[1;34m(self, request, **kwargs)\u001b[0m\n\u001b[0;32m    644\u001b[0m \u001b[1;33m\u001b[0m\u001b[0m\n\u001b[0;32m    645\u001b[0m         \u001b[1;31m# Send the request\u001b[0m\u001b[1;33m\u001b[0m\u001b[1;33m\u001b[0m\u001b[1;33m\u001b[0m\u001b[0m\n\u001b[1;32m--> 646\u001b[1;33m         \u001b[0mr\u001b[0m \u001b[1;33m=\u001b[0m \u001b[0madapter\u001b[0m\u001b[1;33m.\u001b[0m\u001b[0msend\u001b[0m\u001b[1;33m(\u001b[0m\u001b[0mrequest\u001b[0m\u001b[1;33m,\u001b[0m \u001b[1;33m**\u001b[0m\u001b[0mkwargs\u001b[0m\u001b[1;33m)\u001b[0m\u001b[1;33m\u001b[0m\u001b[1;33m\u001b[0m\u001b[0m\n\u001b[0m\u001b[0;32m    647\u001b[0m \u001b[1;33m\u001b[0m\u001b[0m\n\u001b[0;32m    648\u001b[0m         \u001b[1;31m# Total elapsed time of the request (approximately)\u001b[0m\u001b[1;33m\u001b[0m\u001b[1;33m\u001b[0m\u001b[1;33m\u001b[0m\u001b[0m\n",
      "\u001b[1;32mC:\\Users\\cdetg\\Anaconda3\\lib\\site-packages\\requests\\adapters.py\u001b[0m in \u001b[0;36msend\u001b[1;34m(self, request, stream, timeout, verify, cert, proxies)\u001b[0m\n\u001b[0;32m    447\u001b[0m                     \u001b[0mdecode_content\u001b[0m\u001b[1;33m=\u001b[0m\u001b[1;32mFalse\u001b[0m\u001b[1;33m,\u001b[0m\u001b[1;33m\u001b[0m\u001b[1;33m\u001b[0m\u001b[0m\n\u001b[0;32m    448\u001b[0m                     \u001b[0mretries\u001b[0m\u001b[1;33m=\u001b[0m\u001b[0mself\u001b[0m\u001b[1;33m.\u001b[0m\u001b[0mmax_retries\u001b[0m\u001b[1;33m,\u001b[0m\u001b[1;33m\u001b[0m\u001b[1;33m\u001b[0m\u001b[0m\n\u001b[1;32m--> 449\u001b[1;33m                     \u001b[0mtimeout\u001b[0m\u001b[1;33m=\u001b[0m\u001b[0mtimeout\u001b[0m\u001b[1;33m\u001b[0m\u001b[1;33m\u001b[0m\u001b[0m\n\u001b[0m\u001b[0;32m    450\u001b[0m                 )\n\u001b[0;32m    451\u001b[0m \u001b[1;33m\u001b[0m\u001b[0m\n",
      "\u001b[1;32mC:\\Users\\cdetg\\Anaconda3\\lib\\site-packages\\urllib3\\connectionpool.py\u001b[0m in \u001b[0;36murlopen\u001b[1;34m(self, method, url, body, headers, retries, redirect, assert_same_host, timeout, pool_timeout, release_conn, chunked, body_pos, **response_kw)\u001b[0m\n\u001b[0;32m    598\u001b[0m                                                   \u001b[0mtimeout\u001b[0m\u001b[1;33m=\u001b[0m\u001b[0mtimeout_obj\u001b[0m\u001b[1;33m,\u001b[0m\u001b[1;33m\u001b[0m\u001b[1;33m\u001b[0m\u001b[0m\n\u001b[0;32m    599\u001b[0m                                                   \u001b[0mbody\u001b[0m\u001b[1;33m=\u001b[0m\u001b[0mbody\u001b[0m\u001b[1;33m,\u001b[0m \u001b[0mheaders\u001b[0m\u001b[1;33m=\u001b[0m\u001b[0mheaders\u001b[0m\u001b[1;33m,\u001b[0m\u001b[1;33m\u001b[0m\u001b[1;33m\u001b[0m\u001b[0m\n\u001b[1;32m--> 600\u001b[1;33m                                                   chunked=chunked)\n\u001b[0m\u001b[0;32m    601\u001b[0m \u001b[1;33m\u001b[0m\u001b[0m\n\u001b[0;32m    602\u001b[0m             \u001b[1;31m# If we're going to release the connection in ``finally:``, then\u001b[0m\u001b[1;33m\u001b[0m\u001b[1;33m\u001b[0m\u001b[1;33m\u001b[0m\u001b[0m\n",
      "\u001b[1;32mC:\\Users\\cdetg\\Anaconda3\\lib\\site-packages\\urllib3\\connectionpool.py\u001b[0m in \u001b[0;36m_make_request\u001b[1;34m(self, conn, method, url, timeout, chunked, **httplib_request_kw)\u001b[0m\n\u001b[0;32m    378\u001b[0m             \u001b[1;32mexcept\u001b[0m \u001b[0mTypeError\u001b[0m\u001b[1;33m:\u001b[0m  \u001b[1;31m# Python 3\u001b[0m\u001b[1;33m\u001b[0m\u001b[1;33m\u001b[0m\u001b[0m\n\u001b[0;32m    379\u001b[0m                 \u001b[1;32mtry\u001b[0m\u001b[1;33m:\u001b[0m\u001b[1;33m\u001b[0m\u001b[1;33m\u001b[0m\u001b[0m\n\u001b[1;32m--> 380\u001b[1;33m                     \u001b[0mhttplib_response\u001b[0m \u001b[1;33m=\u001b[0m \u001b[0mconn\u001b[0m\u001b[1;33m.\u001b[0m\u001b[0mgetresponse\u001b[0m\u001b[1;33m(\u001b[0m\u001b[1;33m)\u001b[0m\u001b[1;33m\u001b[0m\u001b[1;33m\u001b[0m\u001b[0m\n\u001b[0m\u001b[0;32m    381\u001b[0m                 \u001b[1;32mexcept\u001b[0m \u001b[0mException\u001b[0m \u001b[1;32mas\u001b[0m \u001b[0me\u001b[0m\u001b[1;33m:\u001b[0m\u001b[1;33m\u001b[0m\u001b[1;33m\u001b[0m\u001b[0m\n\u001b[0;32m    382\u001b[0m                     \u001b[1;31m# Remove the TypeError from the exception chain in Python 3;\u001b[0m\u001b[1;33m\u001b[0m\u001b[1;33m\u001b[0m\u001b[1;33m\u001b[0m\u001b[0m\n",
      "\u001b[1;32mC:\\Users\\cdetg\\Anaconda3\\lib\\http\\client.py\u001b[0m in \u001b[0;36mgetresponse\u001b[1;34m(self)\u001b[0m\n\u001b[0;32m   1319\u001b[0m         \u001b[1;32mtry\u001b[0m\u001b[1;33m:\u001b[0m\u001b[1;33m\u001b[0m\u001b[1;33m\u001b[0m\u001b[0m\n\u001b[0;32m   1320\u001b[0m             \u001b[1;32mtry\u001b[0m\u001b[1;33m:\u001b[0m\u001b[1;33m\u001b[0m\u001b[1;33m\u001b[0m\u001b[0m\n\u001b[1;32m-> 1321\u001b[1;33m                 \u001b[0mresponse\u001b[0m\u001b[1;33m.\u001b[0m\u001b[0mbegin\u001b[0m\u001b[1;33m(\u001b[0m\u001b[1;33m)\u001b[0m\u001b[1;33m\u001b[0m\u001b[1;33m\u001b[0m\u001b[0m\n\u001b[0m\u001b[0;32m   1322\u001b[0m             \u001b[1;32mexcept\u001b[0m \u001b[0mConnectionError\u001b[0m\u001b[1;33m:\u001b[0m\u001b[1;33m\u001b[0m\u001b[1;33m\u001b[0m\u001b[0m\n\u001b[0;32m   1323\u001b[0m                 \u001b[0mself\u001b[0m\u001b[1;33m.\u001b[0m\u001b[0mclose\u001b[0m\u001b[1;33m(\u001b[0m\u001b[1;33m)\u001b[0m\u001b[1;33m\u001b[0m\u001b[1;33m\u001b[0m\u001b[0m\n",
      "\u001b[1;32mC:\\Users\\cdetg\\Anaconda3\\lib\\http\\client.py\u001b[0m in \u001b[0;36mbegin\u001b[1;34m(self)\u001b[0m\n\u001b[0;32m    294\u001b[0m         \u001b[1;31m# read until we get a non-100 response\u001b[0m\u001b[1;33m\u001b[0m\u001b[1;33m\u001b[0m\u001b[1;33m\u001b[0m\u001b[0m\n\u001b[0;32m    295\u001b[0m         \u001b[1;32mwhile\u001b[0m \u001b[1;32mTrue\u001b[0m\u001b[1;33m:\u001b[0m\u001b[1;33m\u001b[0m\u001b[1;33m\u001b[0m\u001b[0m\n\u001b[1;32m--> 296\u001b[1;33m             \u001b[0mversion\u001b[0m\u001b[1;33m,\u001b[0m \u001b[0mstatus\u001b[0m\u001b[1;33m,\u001b[0m \u001b[0mreason\u001b[0m \u001b[1;33m=\u001b[0m \u001b[0mself\u001b[0m\u001b[1;33m.\u001b[0m\u001b[0m_read_status\u001b[0m\u001b[1;33m(\u001b[0m\u001b[1;33m)\u001b[0m\u001b[1;33m\u001b[0m\u001b[1;33m\u001b[0m\u001b[0m\n\u001b[0m\u001b[0;32m    297\u001b[0m             \u001b[1;32mif\u001b[0m \u001b[0mstatus\u001b[0m \u001b[1;33m!=\u001b[0m \u001b[0mCONTINUE\u001b[0m\u001b[1;33m:\u001b[0m\u001b[1;33m\u001b[0m\u001b[1;33m\u001b[0m\u001b[0m\n\u001b[0;32m    298\u001b[0m                 \u001b[1;32mbreak\u001b[0m\u001b[1;33m\u001b[0m\u001b[1;33m\u001b[0m\u001b[0m\n",
      "\u001b[1;32mC:\\Users\\cdetg\\Anaconda3\\lib\\http\\client.py\u001b[0m in \u001b[0;36m_read_status\u001b[1;34m(self)\u001b[0m\n\u001b[0;32m    255\u001b[0m \u001b[1;33m\u001b[0m\u001b[0m\n\u001b[0;32m    256\u001b[0m     \u001b[1;32mdef\u001b[0m \u001b[0m_read_status\u001b[0m\u001b[1;33m(\u001b[0m\u001b[0mself\u001b[0m\u001b[1;33m)\u001b[0m\u001b[1;33m:\u001b[0m\u001b[1;33m\u001b[0m\u001b[1;33m\u001b[0m\u001b[0m\n\u001b[1;32m--> 257\u001b[1;33m         \u001b[0mline\u001b[0m \u001b[1;33m=\u001b[0m \u001b[0mstr\u001b[0m\u001b[1;33m(\u001b[0m\u001b[0mself\u001b[0m\u001b[1;33m.\u001b[0m\u001b[0mfp\u001b[0m\u001b[1;33m.\u001b[0m\u001b[0mreadline\u001b[0m\u001b[1;33m(\u001b[0m\u001b[0m_MAXLINE\u001b[0m \u001b[1;33m+\u001b[0m \u001b[1;36m1\u001b[0m\u001b[1;33m)\u001b[0m\u001b[1;33m,\u001b[0m \u001b[1;34m\"iso-8859-1\"\u001b[0m\u001b[1;33m)\u001b[0m\u001b[1;33m\u001b[0m\u001b[1;33m\u001b[0m\u001b[0m\n\u001b[0m\u001b[0;32m    258\u001b[0m         \u001b[1;32mif\u001b[0m \u001b[0mlen\u001b[0m\u001b[1;33m(\u001b[0m\u001b[0mline\u001b[0m\u001b[1;33m)\u001b[0m \u001b[1;33m>\u001b[0m \u001b[0m_MAXLINE\u001b[0m\u001b[1;33m:\u001b[0m\u001b[1;33m\u001b[0m\u001b[1;33m\u001b[0m\u001b[0m\n\u001b[0;32m    259\u001b[0m             \u001b[1;32mraise\u001b[0m \u001b[0mLineTooLong\u001b[0m\u001b[1;33m(\u001b[0m\u001b[1;34m\"status line\"\u001b[0m\u001b[1;33m)\u001b[0m\u001b[1;33m\u001b[0m\u001b[1;33m\u001b[0m\u001b[0m\n",
      "\u001b[1;32mC:\\Users\\cdetg\\Anaconda3\\lib\\socket.py\u001b[0m in \u001b[0;36mreadinto\u001b[1;34m(self, b)\u001b[0m\n\u001b[0;32m    587\u001b[0m         \u001b[1;32mwhile\u001b[0m \u001b[1;32mTrue\u001b[0m\u001b[1;33m:\u001b[0m\u001b[1;33m\u001b[0m\u001b[1;33m\u001b[0m\u001b[0m\n\u001b[0;32m    588\u001b[0m             \u001b[1;32mtry\u001b[0m\u001b[1;33m:\u001b[0m\u001b[1;33m\u001b[0m\u001b[1;33m\u001b[0m\u001b[0m\n\u001b[1;32m--> 589\u001b[1;33m                 \u001b[1;32mreturn\u001b[0m \u001b[0mself\u001b[0m\u001b[1;33m.\u001b[0m\u001b[0m_sock\u001b[0m\u001b[1;33m.\u001b[0m\u001b[0mrecv_into\u001b[0m\u001b[1;33m(\u001b[0m\u001b[0mb\u001b[0m\u001b[1;33m)\u001b[0m\u001b[1;33m\u001b[0m\u001b[1;33m\u001b[0m\u001b[0m\n\u001b[0m\u001b[0;32m    590\u001b[0m             \u001b[1;32mexcept\u001b[0m \u001b[0mtimeout\u001b[0m\u001b[1;33m:\u001b[0m\u001b[1;33m\u001b[0m\u001b[1;33m\u001b[0m\u001b[0m\n\u001b[0;32m    591\u001b[0m                 \u001b[0mself\u001b[0m\u001b[1;33m.\u001b[0m\u001b[0m_timeout_occurred\u001b[0m \u001b[1;33m=\u001b[0m \u001b[1;32mTrue\u001b[0m\u001b[1;33m\u001b[0m\u001b[1;33m\u001b[0m\u001b[0m\n",
      "\u001b[1;32mC:\\Users\\cdetg\\Anaconda3\\lib\\site-packages\\urllib3\\contrib\\pyopenssl.py\u001b[0m in \u001b[0;36mrecv_into\u001b[1;34m(self, *args, **kwargs)\u001b[0m\n\u001b[0;32m    292\u001b[0m     \u001b[1;32mdef\u001b[0m \u001b[0mrecv_into\u001b[0m\u001b[1;33m(\u001b[0m\u001b[0mself\u001b[0m\u001b[1;33m,\u001b[0m \u001b[1;33m*\u001b[0m\u001b[0margs\u001b[0m\u001b[1;33m,\u001b[0m \u001b[1;33m**\u001b[0m\u001b[0mkwargs\u001b[0m\u001b[1;33m)\u001b[0m\u001b[1;33m:\u001b[0m\u001b[1;33m\u001b[0m\u001b[1;33m\u001b[0m\u001b[0m\n\u001b[0;32m    293\u001b[0m         \u001b[1;32mtry\u001b[0m\u001b[1;33m:\u001b[0m\u001b[1;33m\u001b[0m\u001b[1;33m\u001b[0m\u001b[0m\n\u001b[1;32m--> 294\u001b[1;33m             \u001b[1;32mreturn\u001b[0m \u001b[0mself\u001b[0m\u001b[1;33m.\u001b[0m\u001b[0mconnection\u001b[0m\u001b[1;33m.\u001b[0m\u001b[0mrecv_into\u001b[0m\u001b[1;33m(\u001b[0m\u001b[1;33m*\u001b[0m\u001b[0margs\u001b[0m\u001b[1;33m,\u001b[0m \u001b[1;33m**\u001b[0m\u001b[0mkwargs\u001b[0m\u001b[1;33m)\u001b[0m\u001b[1;33m\u001b[0m\u001b[1;33m\u001b[0m\u001b[0m\n\u001b[0m\u001b[0;32m    295\u001b[0m         \u001b[1;32mexcept\u001b[0m \u001b[0mOpenSSL\u001b[0m\u001b[1;33m.\u001b[0m\u001b[0mSSL\u001b[0m\u001b[1;33m.\u001b[0m\u001b[0mSysCallError\u001b[0m \u001b[1;32mas\u001b[0m \u001b[0me\u001b[0m\u001b[1;33m:\u001b[0m\u001b[1;33m\u001b[0m\u001b[1;33m\u001b[0m\u001b[0m\n\u001b[0;32m    296\u001b[0m             \u001b[1;32mif\u001b[0m \u001b[0mself\u001b[0m\u001b[1;33m.\u001b[0m\u001b[0msuppress_ragged_eofs\u001b[0m \u001b[1;32mand\u001b[0m \u001b[0me\u001b[0m\u001b[1;33m.\u001b[0m\u001b[0margs\u001b[0m \u001b[1;33m==\u001b[0m \u001b[1;33m(\u001b[0m\u001b[1;33m-\u001b[0m\u001b[1;36m1\u001b[0m\u001b[1;33m,\u001b[0m \u001b[1;34m'Unexpected EOF'\u001b[0m\u001b[1;33m)\u001b[0m\u001b[1;33m:\u001b[0m\u001b[1;33m\u001b[0m\u001b[1;33m\u001b[0m\u001b[0m\n",
      "\u001b[1;32mC:\\Users\\cdetg\\Anaconda3\\lib\\site-packages\\OpenSSL\\SSL.py\u001b[0m in \u001b[0;36mrecv_into\u001b[1;34m(self, buffer, nbytes, flags)\u001b[0m\n\u001b[0;32m   1819\u001b[0m             \u001b[0mresult\u001b[0m \u001b[1;33m=\u001b[0m \u001b[0m_lib\u001b[0m\u001b[1;33m.\u001b[0m\u001b[0mSSL_peek\u001b[0m\u001b[1;33m(\u001b[0m\u001b[0mself\u001b[0m\u001b[1;33m.\u001b[0m\u001b[0m_ssl\u001b[0m\u001b[1;33m,\u001b[0m \u001b[0mbuf\u001b[0m\u001b[1;33m,\u001b[0m \u001b[0mnbytes\u001b[0m\u001b[1;33m)\u001b[0m\u001b[1;33m\u001b[0m\u001b[1;33m\u001b[0m\u001b[0m\n\u001b[0;32m   1820\u001b[0m         \u001b[1;32melse\u001b[0m\u001b[1;33m:\u001b[0m\u001b[1;33m\u001b[0m\u001b[1;33m\u001b[0m\u001b[0m\n\u001b[1;32m-> 1821\u001b[1;33m             \u001b[0mresult\u001b[0m \u001b[1;33m=\u001b[0m \u001b[0m_lib\u001b[0m\u001b[1;33m.\u001b[0m\u001b[0mSSL_read\u001b[0m\u001b[1;33m(\u001b[0m\u001b[0mself\u001b[0m\u001b[1;33m.\u001b[0m\u001b[0m_ssl\u001b[0m\u001b[1;33m,\u001b[0m \u001b[0mbuf\u001b[0m\u001b[1;33m,\u001b[0m \u001b[0mnbytes\u001b[0m\u001b[1;33m)\u001b[0m\u001b[1;33m\u001b[0m\u001b[1;33m\u001b[0m\u001b[0m\n\u001b[0m\u001b[0;32m   1822\u001b[0m         \u001b[0mself\u001b[0m\u001b[1;33m.\u001b[0m\u001b[0m_raise_ssl_error\u001b[0m\u001b[1;33m(\u001b[0m\u001b[0mself\u001b[0m\u001b[1;33m.\u001b[0m\u001b[0m_ssl\u001b[0m\u001b[1;33m,\u001b[0m \u001b[0mresult\u001b[0m\u001b[1;33m)\u001b[0m\u001b[1;33m\u001b[0m\u001b[1;33m\u001b[0m\u001b[0m\n\u001b[0;32m   1823\u001b[0m \u001b[1;33m\u001b[0m\u001b[0m\n",
      "\u001b[1;31mKeyboardInterrupt\u001b[0m: "
     ]
    }
   ],
   "source": [
    "queue = list()\n",
    "queue.extend([_[\"href\"] for _ in dom.select(\"a.sh_blog_title._sp_each_url._sp_each_title\")\n",
    "if checkBlog(_[\"href\"])])\n",
    "seen = list()\n",
    "\n",
    "while queue:\n",
    "    baseURL = queue.pop(0)\n",
    "    seen.append(baseURL)\n",
    "    time.sleep(1) # 슬립\n",
    "    linkList = parseURL(baseURL)\n",
    "    for link in linkList:\n",
    "        if link not in queue and link not in seen:\n",
    "            queue.append(link)\n",
    "    print(\"Queue: {0}, Seen : {1}\".format(len(queue), len(seen)))\n",
    "#     queue.extend(linkList)"
   ]
  },
  {
   "cell_type": "markdown",
   "metadata": {},
   "source": [
    "## 다음focused crawling 하기"
   ]
  },
  {
   "cell_type": "code",
   "execution_count": 90,
   "metadata": {},
   "outputs": [],
   "source": [
    "url = \"https://search.daum.net/search\"\n",
    "param = {\n",
    "    \"q\":\"박보영\"\n",
    "}\n",
    "html = download(\"get\", url, param)\n",
    "dom = BeautifulSoup(html.text, \"lxml\")"
   ]
  },
  {
   "cell_type": "code",
   "execution_count": 96,
   "metadata": {},
   "outputs": [
    {
     "data": {
      "text/plain": [
       "['http://adam24eve.tistory.com/858',\n",
       " 'http://cscs0717.tistory.com/27',\n",
       " 'http://listup.tistory.com/248',\n",
       " 'http://34344541.tistory.com/43']"
      ]
     },
     "execution_count": 96,
     "metadata": {},
     "output_type": "execute_result"
    }
   ],
   "source": [
    "[_[\"href\"] for _ in dom.select(\"#blogColl .f_link_b\")]"
   ]
  },
  {
   "cell_type": "code",
   "execution_count": 125,
   "metadata": {},
   "outputs": [],
   "source": [
    "def checkBlog(url):\n",
    "    return requests.compat.urlparse(url)[1].endswith(\"tistory.com\")"
   ]
  },
  {
   "cell_type": "code",
   "execution_count": 126,
   "metadata": {},
   "outputs": [
    {
     "data": {
      "text/plain": [
       "<re.Match object; span=(0, 28), match='http://adam24eve.tistory.com'>"
      ]
     },
     "execution_count": 126,
     "metadata": {},
     "output_type": "execute_result"
    }
   ],
   "source": [
    "re.search(\".+?\\.tistory.com\", \"http://adam24eve.tistory.com/858\")"
   ]
  },
  {
   "cell_type": "code",
   "execution_count": 110,
   "metadata": {},
   "outputs": [
    {
     "data": {
      "text/plain": [
       "['http://adam24eve.tistory.com/858',\n",
       " 'http://cscs0717.tistory.com/27',\n",
       " 'http://listup.tistory.com/248',\n",
       " 'http://34344541.tistory.com/43']"
      ]
     },
     "execution_count": 110,
     "metadata": {},
     "output_type": "execute_result"
    }
   ],
   "source": [
    "[_[\"href\"] for _ in dom.select(\"#blogColl .f_link_b\")\n",
    "if checkBlog(_[\"href\"])]"
   ]
  },
  {
   "cell_type": "code",
   "execution_count": 115,
   "metadata": {},
   "outputs": [],
   "source": [
    "def parseURL(seed):\n",
    "    html = download(\"get\", seed)\n",
    "    dom = BeautifulSoup(html.text, 'lxml')\n",
    "    \n",
    "    return [requests.compat.urljoin(seed, _[\"href\"])\n",
    "     for _ in dom.find_all(\"a\") if _.has_attr(\"href\") and len(_[\"href\"]) > 3\n",
    "           and checkBlog(requests.compat.urljoin(seed, _[\"href\"]))]"
   ]
  },
  {
   "cell_type": "code",
   "execution_count": 119,
   "metadata": {
    "collapsed": true
   },
   "outputs": [
    {
     "name": "stdout",
     "output_type": "stream",
     "text": [
      "Queue: 44, Seen : 1\n",
      "Queue: 60, Seen : 2\n",
      "Queue: 83, Seen : 3\n",
      "Queue: 90, Seen : 4\n",
      "Queue: 96, Seen : 5\n",
      "Queue: 102, Seen : 6\n",
      "Queue: 108, Seen : 7\n",
      "Queue: 111, Seen : 8\n",
      "Queue: 118, Seen : 9\n",
      "Queue: 121, Seen : 10\n",
      "Queue: 120, Seen : 11\n",
      "Queue: 119, Seen : 12\n",
      "Queue: 118, Seen : 13\n",
      "Queue: 117, Seen : 14\n",
      "Queue: 116, Seen : 15\n",
      "Queue: 115, Seen : 16\n",
      "Queue: 116, Seen : 17\n",
      "Queue: 115, Seen : 18\n",
      "Queue: 114, Seen : 19\n",
      "Queue: 113, Seen : 20\n",
      "Queue: 128, Seen : 21\n",
      "Queue: 140, Seen : 22\n",
      "Queue: 148, Seen : 23\n",
      "Queue: 150, Seen : 24\n",
      "Queue: 150, Seen : 25\n",
      "Queue: 157, Seen : 26\n",
      "Queue: 166, Seen : 27\n",
      "Queue: 171, Seen : 28\n",
      "Queue: 170, Seen : 29\n",
      "Queue: 170, Seen : 30\n",
      "Queue: 180, Seen : 31\n",
      "Queue: 180, Seen : 32\n",
      "Queue: 185, Seen : 33\n",
      "Queue: 185, Seen : 34\n",
      "Queue: 193, Seen : 35\n",
      "Queue: 203, Seen : 36\n",
      "Queue: 209, Seen : 37\n",
      "Queue: 213, Seen : 38\n",
      "Queue: 233, Seen : 39\n",
      "Queue: 248, Seen : 40\n",
      "Queue: 265, Seen : 41\n",
      "Queue: 276, Seen : 42\n",
      "Queue: 290, Seen : 43\n",
      "Queue: 294, Seen : 44\n",
      "Queue: 295, Seen : 45\n",
      "Queue: 294, Seen : 46\n",
      "Queue: 307, Seen : 47\n",
      "Queue: 314, Seen : 48\n",
      "Queue: 324, Seen : 49\n",
      "Queue: 330, Seen : 50\n",
      "Queue: 333, Seen : 51\n",
      "Queue: 332, Seen : 52\n",
      "Queue: 338, Seen : 53\n",
      "Queue: 349, Seen : 54\n",
      "Queue: 352, Seen : 55\n",
      "Queue: 352, Seen : 56\n",
      "Queue: 355, Seen : 57\n",
      "Queue: 358, Seen : 58\n",
      "Queue: 363, Seen : 59\n",
      "Queue: 362, Seen : 60\n",
      "Queue: 361, Seen : 61\n",
      "Queue: 360, Seen : 62\n",
      "Queue: 359, Seen : 63\n",
      "Queue: 358, Seen : 64\n",
      "Queue: 362, Seen : 65\n",
      "Queue: 363, Seen : 66\n",
      "Queue: 1519, Seen : 67\n",
      "Queue: 1524, Seen : 68\n",
      "Queue: 1523, Seen : 69\n",
      "Queue: 1529, Seen : 70\n",
      "Queue: 1528, Seen : 71\n",
      "Queue: 1529, Seen : 72\n",
      "Queue: 1530, Seen : 73\n",
      "Queue: 1531, Seen : 74\n",
      "Queue: 1532, Seen : 75\n",
      "Queue: 1533, Seen : 76\n",
      "Queue: 1534, Seen : 77\n",
      "Queue: 1542, Seen : 78\n",
      "Queue: 1555, Seen : 79\n",
      "Queue: 1565, Seen : 80\n",
      "Queue: 1574, Seen : 81\n",
      "Queue: 1583, Seen : 82\n",
      "Queue: 1594, Seen : 83\n",
      "Queue: 1601, Seen : 84\n",
      "Queue: 1611, Seen : 85\n",
      "Queue: 1619, Seen : 86\n",
      "Queue: 1618, Seen : 87\n",
      "Queue: 1618, Seen : 88\n",
      "Queue: 1619, Seen : 89\n",
      "Queue: 1622, Seen : 90\n",
      "Queue: 1622, Seen : 91\n",
      "Queue: 1623, Seen : 92\n",
      "Queue: 1624, Seen : 93\n",
      "Queue: 1628, Seen : 94\n",
      "Queue: 1627, Seen : 95\n",
      "Queue: 1626, Seen : 96\n",
      "Queue: 1625, Seen : 97\n",
      "Queue: 1626, Seen : 98\n",
      "Queue: 1628, Seen : 99\n",
      "Queue: 1631, Seen : 100\n",
      "Queue: 1635, Seen : 101\n",
      "Queue: 1639, Seen : 102\n",
      "Queue: 1645, Seen : 103\n",
      "Queue: 1648, Seen : 104\n",
      "Queue: 1649, Seen : 105\n",
      "Queue: 1651, Seen : 106\n",
      "Queue: 1654, Seen : 107\n",
      "Queue: 1657, Seen : 108\n",
      "Queue: 1662, Seen : 109\n",
      "Queue: 1663, Seen : 110\n",
      "Queue: 1664, Seen : 111\n",
      "Queue: 1665, Seen : 112\n",
      "Queue: 1667, Seen : 113\n",
      "Queue: 1670, Seen : 114\n",
      "Queue: 1672, Seen : 115\n",
      "Queue: 1673, Seen : 116\n",
      "Queue: 1673, Seen : 117\n",
      "Queue: 1673, Seen : 118\n",
      "Queue: 1676, Seen : 119\n",
      "Queue: 1680, Seen : 120\n",
      "Queue: 1683, Seen : 121\n",
      "Queue: 1682, Seen : 122\n",
      "Queue: 1682, Seen : 123\n",
      "Queue: 1683, Seen : 124\n",
      "Queue: 1685, Seen : 125\n",
      "Queue: 1688, Seen : 126\n",
      "Queue: 1690, Seen : 127\n",
      "Queue: 1695, Seen : 128\n",
      "Queue: 1695, Seen : 129\n",
      "Queue: 1699, Seen : 130\n",
      "Queue: 1699, Seen : 131\n",
      "Queue: 1707, Seen : 132\n",
      "Queue: 1710, Seen : 133\n",
      "Queue: 1710, Seen : 134\n",
      "Queue: 1709, Seen : 135\n",
      "Queue: 1708, Seen : 136\n",
      "Queue: 1707, Seen : 137\n",
      "Queue: 1706, Seen : 138\n",
      "Queue: 1705, Seen : 139\n",
      "Queue: 1704, Seen : 140\n",
      "Queue: 1703, Seen : 141\n",
      "Queue: 1705, Seen : 142\n",
      "Queue: 1704, Seen : 143\n",
      "Queue: 1705, Seen : 144\n",
      "Queue: 1704, Seen : 145\n",
      "Queue: 1703, Seen : 146\n",
      "Queue: 1704, Seen : 147\n",
      "Queue: 1708, Seen : 148\n",
      "Queue: 1713, Seen : 149\n",
      "Queue: 1713, Seen : 150\n",
      "Queue: 1712, Seen : 151\n",
      "Queue: 1711, Seen : 152\n",
      "Queue: 1710, Seen : 153\n",
      "Queue: 1709, Seen : 154\n",
      "Queue: 1708, Seen : 155\n",
      "Queue: 1707, Seen : 156\n",
      "Queue: 1706, Seen : 157\n"
     ]
    },
    {
     "ename": "KeyboardInterrupt",
     "evalue": "",
     "output_type": "error",
     "traceback": [
      "\u001b[1;31m---------------------------------------------------------------------------\u001b[0m",
      "\u001b[1;31mKeyboardInterrupt\u001b[0m                         Traceback (most recent call last)",
      "\u001b[1;32m<ipython-input-119-1586eda62d14>\u001b[0m in \u001b[0;36m<module>\u001b[1;34m\u001b[0m\n\u001b[0;32m      7\u001b[0m     \u001b[0mbaseURL\u001b[0m \u001b[1;33m=\u001b[0m \u001b[0mqueue\u001b[0m\u001b[1;33m.\u001b[0m\u001b[0mpop\u001b[0m\u001b[1;33m(\u001b[0m\u001b[1;36m0\u001b[0m\u001b[1;33m)\u001b[0m \u001b[1;31m# 무조건 앞에 있는 게 나온다. 선입선출. pop(-1) 로 바꾸면 스택이 된다.\u001b[0m\u001b[1;33m\u001b[0m\u001b[1;33m\u001b[0m\u001b[0m\n\u001b[0;32m      8\u001b[0m     \u001b[0mseen\u001b[0m\u001b[1;33m.\u001b[0m\u001b[0mappend\u001b[0m\u001b[1;33m(\u001b[0m\u001b[0mbaseURL\u001b[0m\u001b[1;33m)\u001b[0m\u001b[1;33m\u001b[0m\u001b[1;33m\u001b[0m\u001b[0m\n\u001b[1;32m----> 9\u001b[1;33m     \u001b[0mtime\u001b[0m\u001b[1;33m.\u001b[0m\u001b[0msleep\u001b[0m\u001b[1;33m(\u001b[0m\u001b[1;36m1\u001b[0m\u001b[1;33m)\u001b[0m \u001b[1;31m# 슬립\u001b[0m\u001b[1;33m\u001b[0m\u001b[1;33m\u001b[0m\u001b[0m\n\u001b[0m\u001b[0;32m     10\u001b[0m     \u001b[0mlinkList\u001b[0m \u001b[1;33m=\u001b[0m \u001b[0mparseURL\u001b[0m\u001b[1;33m(\u001b[0m\u001b[0mbaseURL\u001b[0m\u001b[1;33m)\u001b[0m \u001b[1;31m# 중복되는 URL이 생긴다.\u001b[0m\u001b[1;33m\u001b[0m\u001b[1;33m\u001b[0m\u001b[0m\n\u001b[0;32m     11\u001b[0m     \u001b[1;32mfor\u001b[0m \u001b[0mlink\u001b[0m \u001b[1;32min\u001b[0m \u001b[0mlinkList\u001b[0m\u001b[1;33m:\u001b[0m \u001b[1;31m# 중복되는 url 있으면 피할 것이다.\u001b[0m\u001b[1;33m\u001b[0m\u001b[1;33m\u001b[0m\u001b[0m\n",
      "\u001b[1;31mKeyboardInterrupt\u001b[0m: "
     ]
    }
   ],
   "source": [
    "queue = list()\n",
    "queue.extend([_[\"href\"] for _ in dom.select(\"#blogColl .f_link_b\")\n",
    "             if checkBlog(_[\"href\"])])\n",
    "seen = list()\n",
    "\n",
    "while queue:\n",
    "    baseURL = queue.pop(0) # 무조건 앞에 있는 게 나온다. 선입선출. pop(-1) 로 바꾸면 스택이 된다.\n",
    "    seen.append(baseURL)\n",
    "    time.sleep(1) # 슬립\n",
    "    linkList = parseURL(baseURL) # 중복되는 URL이 생긴다.\n",
    "    for link in linkList: # 중복되는 url 있으면 피할 것이다.\n",
    "        if link not in queue and link not in seen:\n",
    "            queue.append(link)\n",
    "    print(\"Queue: {0}, Seen : {1}\".format(len(queue), len(seen)))\n",
    "#     queue.extend(linkList)"
   ]
  },
  {
   "cell_type": "markdown",
   "metadata": {},
   "source": [
    "------------------------------------------------------"
   ]
  },
  {
   "cell_type": "code",
   "execution_count": 122,
   "metadata": {},
   "outputs": [],
   "source": [
    "def parseURL(seed):\n",
    "    html = download(\"get\", seed[0])\n",
    "    dom = BeautifulSoup(html.text, 'lxml')\n",
    "    \n",
    "    return [(requests.compat.urljoin(seed[0], _[\"href\"]), seed[1]+1)\n",
    "     for _ in dom.find_all(\"a\") if seed[1] < 2 and _.has_attr(\"href\") and len(_[\"href\"]) > 3\n",
    "           and checkBlog(requests.compat.urljoin(seed[0], _[\"href\"]))]"
   ]
  },
  {
   "cell_type": "code",
   "execution_count": 123,
   "metadata": {
    "scrolled": true
   },
   "outputs": [
    {
     "name": "stdout",
     "output_type": "stream",
     "text": [
      "Queue: 45, Seen : 1\n",
      "Queue: 61, Seen : 2\n",
      "Queue: 85, Seen : 3\n",
      "Queue: 92, Seen : 4\n",
      "Queue: 91, Seen : 5\n",
      "Queue: 90, Seen : 6\n",
      "Queue: 89, Seen : 7\n",
      "Queue: 88, Seen : 8\n",
      "Queue: 87, Seen : 9\n",
      "Queue: 86, Seen : 10\n",
      "Queue: 85, Seen : 11\n",
      "Queue: 84, Seen : 12\n",
      "Queue: 83, Seen : 13\n",
      "Queue: 82, Seen : 14\n",
      "Queue: 81, Seen : 15\n",
      "Queue: 80, Seen : 16\n",
      "Queue: 79, Seen : 17\n",
      "Queue: 78, Seen : 18\n",
      "Queue: 77, Seen : 19\n",
      "Queue: 76, Seen : 20\n",
      "Queue: 75, Seen : 21\n",
      "Queue: 74, Seen : 22\n",
      "Queue: 73, Seen : 23\n",
      "Queue: 72, Seen : 24\n",
      "Queue: 71, Seen : 25\n",
      "Queue: 70, Seen : 26\n",
      "Queue: 69, Seen : 27\n",
      "Queue: 68, Seen : 28\n",
      "Queue: 67, Seen : 29\n",
      "Queue: 66, Seen : 30\n",
      "Queue: 65, Seen : 31\n",
      "Queue: 64, Seen : 32\n",
      "Queue: 63, Seen : 33\n",
      "Queue: 62, Seen : 34\n",
      "Queue: 61, Seen : 35\n",
      "Queue: 60, Seen : 36\n",
      "Queue: 59, Seen : 37\n",
      "Queue: 58, Seen : 38\n",
      "Queue: 57, Seen : 39\n",
      "Queue: 56, Seen : 40\n",
      "Queue: 55, Seen : 41\n",
      "Queue: 54, Seen : 42\n",
      "Queue: 53, Seen : 43\n",
      "Queue: 52, Seen : 44\n",
      "Queue: 51, Seen : 45\n",
      "Queue: 50, Seen : 46\n",
      "Queue: 49, Seen : 47\n",
      "Queue: 48, Seen : 48\n",
      "Queue: 47, Seen : 49\n",
      "Queue: 46, Seen : 50\n",
      "Queue: 45, Seen : 51\n",
      "Queue: 44, Seen : 52\n",
      "Queue: 43, Seen : 53\n",
      "Queue: 42, Seen : 54\n",
      "Queue: 41, Seen : 55\n",
      "Queue: 40, Seen : 56\n",
      "Queue: 39, Seen : 57\n",
      "Queue: 38, Seen : 58\n",
      "Queue: 37, Seen : 59\n",
      "Queue: 36, Seen : 60\n",
      "Queue: 35, Seen : 61\n",
      "Queue: 34, Seen : 62\n",
      "Queue: 33, Seen : 63\n",
      "Queue: 32, Seen : 64\n",
      "Queue: 31, Seen : 65\n",
      "Queue: 30, Seen : 66\n",
      "Queue: 29, Seen : 67\n",
      "Queue: 28, Seen : 68\n",
      "Queue: 27, Seen : 69\n",
      "Queue: 26, Seen : 70\n",
      "Queue: 25, Seen : 71\n",
      "Queue: 24, Seen : 72\n",
      "Queue: 23, Seen : 73\n",
      "Queue: 22, Seen : 74\n",
      "Queue: 21, Seen : 75\n",
      "Queue: 20, Seen : 76\n",
      "Queue: 19, Seen : 77\n",
      "Queue: 18, Seen : 78\n",
      "Queue: 17, Seen : 79\n",
      "Queue: 16, Seen : 80\n",
      "Queue: 15, Seen : 81\n",
      "Queue: 14, Seen : 82\n",
      "Queue: 13, Seen : 83\n",
      "Queue: 12, Seen : 84\n",
      "Queue: 11, Seen : 85\n",
      "Queue: 10, Seen : 86\n",
      "Queue: 9, Seen : 87\n",
      "Queue: 8, Seen : 88\n",
      "Queue: 7, Seen : 89\n",
      "Queue: 6, Seen : 90\n",
      "Queue: 5, Seen : 91\n",
      "Queue: 4, Seen : 92\n",
      "Queue: 3, Seen : 93\n",
      "Queue: 2, Seen : 94\n",
      "Queue: 1, Seen : 95\n",
      "Queue: 0, Seen : 96\n"
     ]
    }
   ],
   "source": [
    "queue = list()\n",
    "queue.extend([(_[\"href\"], 1) for _ in dom.select(\"#blogColl .f_link_b\")\n",
    "             if checkBlog(_[\"href\"])])\n",
    "seen = list()\n",
    "\n",
    "while queue:\n",
    "    baseURL = queue.pop(0) \n",
    "    seen.append(baseURL)\n",
    "    time.sleep(1) # 슬립\n",
    "    linkList = parseURL(baseURL) # 중복되는 URL이 생긴다.\n",
    "    for link in linkList: # 중복되는 url 있으면 피할 것이다.\n",
    "        if link not in queue and link not in seen:\n",
    "            queue.append(link)\n",
    "    print(\"Queue: {0}, Seen : {1}\".format(len(queue), len(seen)))\n",
    "#     queue.extend(linkList)"
   ]
  },
  {
   "cell_type": "code",
   "execution_count": 124,
   "metadata": {},
   "outputs": [
    {
     "data": {
      "text/plain": [
       "[('http://adam24eve.tistory.com/858', 1),\n",
       " ('http://cscs0717.tistory.com/27', 1),\n",
       " ('http://listup.tistory.com/248', 1),\n",
       " ('http://34344541.tistory.com/43', 1),\n",
       " ('http://adam24eve.tistory.com/category', 2),\n",
       " ('http://adam24eve.tistory.com/category/Cosmos', 2),\n",
       " ('http://adam24eve.tistory.com/category/Mystery%20world', 2),\n",
       " ('http://adam24eve.tistory.com/category/Star', 2),\n",
       " ('http://adam24eve.tistory.com/category/Political%20', 2),\n",
       " ('http://adam24eve.tistory.com/category/It-game', 2),\n",
       " ('http://adam24eve.tistory.com/guestbook', 2),\n",
       " ('https://adam24eve.tistory.com/rss', 2),\n",
       " ('http://adam24eve.tistory.com/858', 2),\n",
       " ('http://adam24eve.tistory.com/tag/%EA%B9%80%EC%98%81%EA%B4%91', 2),\n",
       " ('http://adam24eve.tistory.com/tag/%EA%B9%80%EC%98%81%EA%B4%91%20%EB%82%98%EC%9D%B4',\n",
       "  2),\n",
       " ('http://adam24eve.tistory.com/tag/%EA%B9%80%EC%98%81%EA%B4%91%20%EB%B0%95%EB%B3%B4%EC%98%81%20%EC%97%B4%EC%95%A0',\n",
       "  2),\n",
       " ('http://adam24eve.tistory.com/tag/%EA%B9%80%EC%98%81%EA%B4%91%20%ED%82%A4',\n",
       "  2),\n",
       " ('http://adam24eve.tistory.com/tag/%EB%AF%B8%EC%9A%B0%EC%83%88', 2),\n",
       " ('http://adam24eve.tistory.com/tag/%EB%AF%B8%EC%9A%B4%EC%9A%B0%EB%A6%AC%EC%83%88%EB%81%BC',\n",
       "  2),\n",
       " ('http://adam24eve.tistory.com/tag/%EB%B0%95%EB%B3%B4%EC%98%81', 2),\n",
       " ('http://adam24eve.tistory.com/tag/%EB%B0%95%EB%B3%B4%EC%98%81%20%ED%82%A4',\n",
       "  2),\n",
       " ('http://adam24eve.tistory.com/860?category=820301', 2),\n",
       " ('http://adam24eve.tistory.com/859?category=820301', 2),\n",
       " ('http://adam24eve.tistory.com/857?category=820301', 2),\n",
       " ('http://adam24eve.tistory.com/855?category=820301', 2),\n",
       " ('http://adam24eve.tistory.com/859', 2),\n",
       " ('http://adam24eve.tistory.com/983', 2),\n",
       " ('http://adam24eve.tistory.com/862', 2),\n",
       " ('http://adam24eve.tistory.com/861', 2),\n",
       " ('http://adam24eve.tistory.com/860', 2),\n",
       " ('http://adam24eve.tistory.com/857', 2),\n",
       " ('http://adam24eve.tistory.com/856', 2),\n",
       " ('http://adam24eve.tistory.com/855', 2),\n",
       " ('http://adam24eve.tistory.com/854', 2),\n",
       " ('http://adam24eve.tistory.com/notice/406', 2),\n",
       " ('http://adam24eve.tistory.com/982', 2),\n",
       " ('http://adam24eve.tistory.com/981', 2),\n",
       " ('http://adam24eve.tistory.com/980', 2),\n",
       " ('http://adam24eve.tistory.com/979', 2),\n",
       " ('http://adam24eve.tistory.com/957#comment15494479', 2),\n",
       " ('http://adam24eve.tistory.com/810#comment15492825', 2),\n",
       " ('http://adam24eve.tistory.com/934#comment15492756', 2),\n",
       " ('http://adam24eve.tistory.com/114#comment15492408', 2),\n",
       " ('http://adam24eve.tistory.com/820#comment15492397', 2),\n",
       " ('https://adam24eve.tistory.com/manage', 2),\n",
       " ('https://adam24eve.tistory.com/manage/entry/post', 2),\n",
       " ('https://cscs0717.tistory.com/rss', 2),\n",
       " ('http://cscs0717.tistory.com/category/', 2),\n",
       " ('https://cscs0717.tistory.com/10', 2),\n",
       " ('https://cscs0717.tistory.com/11', 2),\n",
       " ('https://cscs0717.tistory.com/18', 2),\n",
       " ('https://cscs0717.tistory.com/19', 2),\n",
       " ('https://cscs0717.tistory.com/17', 2),\n",
       " ('https://cscs0717.tistory.com/14', 2),\n",
       " ('http://cscs0717.tistory.com/29?category=713249', 2),\n",
       " ('http://cscs0717.tistory.com/28?category=713249', 2),\n",
       " ('http://cscs0717.tistory.com/27?category=713249', 2),\n",
       " ('http://cscs0717.tistory.com/26?category=713249', 2),\n",
       " ('http://cscs0717.tistory.com/24?category=713249', 2),\n",
       " ('http://cscs0717.tistory.com/23?category=713249', 2),\n",
       " ('http://cscs0717.tistory.com/tag/%EB%B0%95%EB%B3%B4%EC%98%81', 2),\n",
       " ('http://cscs0717.tistory.com/tag/%EB%B0%95%EB%B3%B4%EC%98%81%20%EB%AA%B8%EB%A7%A4',\n",
       "  2),\n",
       " ('http://cscs0717.tistory.com/tag/%EB%B0%95%EB%B3%B4%EC%98%81%20%ED%82%A4',\n",
       "  2),\n",
       " ('http://listup.tistory.com/248#dkBody', 2),\n",
       " ('http://listup.tistory.com/248#dkGnb', 2),\n",
       " ('https://listup.tistory.com/manage/entry/post', 2),\n",
       " ('https://listup.tistory.com/manage', 2),\n",
       " ('http://listup.tistory.com/tag', 2),\n",
       " ('http://listup.tistory.com/guestbook', 2),\n",
       " ('https://listup.tistory.com/rss', 2),\n",
       " ('http://listup.tistory.com/category', 2),\n",
       " ('http://listup.tistory.com/248', 2),\n",
       " ('http://listup.tistory.com/248#none', 2),\n",
       " ('http://listup.tistory.com/tag/%EB%B0%95%EB%B3%B4%EC%98%81', 2),\n",
       " ('http://listup.tistory.com/tag/%EB%B0%95%EB%B3%B4%EC%98%81%20%EB%82%98%EC%9D%B4',\n",
       "  2),\n",
       " ('http://listup.tistory.com/tag/%EB%B0%95%EB%B3%B4%EC%98%81%20%EB%93%9C%EB%9D%BC%EB%A7%88',\n",
       "  2),\n",
       " ('http://listup.tistory.com/tag/%EB%B0%95%EB%B3%B4%EC%98%81%20%EC%96%B4%EB%B9%84%EC%8A%A4',\n",
       "  2),\n",
       " ('http://listup.tistory.com/tag/%EB%B0%95%EB%B3%B4%EC%98%81%20%EC%9D%B8%EC%8A%A4%ED%83%80%EA%B7%B8%EB%9E%A8',\n",
       "  2),\n",
       " ('http://listup.tistory.com/tag/%EB%B0%95%EB%B3%B4%EC%98%81%20%ED%82%A4', 2),\n",
       " ('http://listup.tistory.com/249', 2),\n",
       " ('http://listup.tistory.com/321', 2),\n",
       " ('http://listup.tistory.com/253', 2),\n",
       " ('http://listup.tistory.com/251', 2),\n",
       " ('http://listup.tistory.com/250', 2),\n",
       " ('http://listup.tistory.com/247', 2),\n",
       " ('http://listup.tistory.com/246', 2),\n",
       " ('http://listup.tistory.com/245', 2),\n",
       " ('http://listup.tistory.com/244', 2),\n",
       " ('http://34344541.tistory.com/43#content', 2),\n",
       " ('http://34344541.tistory.com/tag', 2),\n",
       " ('http://34344541.tistory.com/guestbook', 2),\n",
       " ('http://34344541.tistory.com/45?category=0', 2),\n",
       " ('http://34344541.tistory.com/44?category=0', 2),\n",
       " ('http://34344541.tistory.com/42?category=0', 2),\n",
       " ('http://34344541.tistory.com/41?category=0', 2),\n",
       " ('https://34344541.tistory.com/manage', 2)]"
      ]
     },
     "execution_count": 124,
     "metadata": {},
     "output_type": "execute_result"
    }
   ],
   "source": [
    "seen"
   ]
  },
  {
   "cell_type": "markdown",
   "metadata": {},
   "source": [
    "***************************************"
   ]
  },
  {
   "cell_type": "markdown",
   "metadata": {},
   "source": [
    "## SQLite 연계"
   ]
  },
  {
   "cell_type": "markdown",
   "metadata": {},
   "source": [
    "- primary key 중요!(pk 값에 절대 문자열 쓰면 안된다.)\n",
    "- table 하나에 최소 (id, url, seen, date) 는 필요하다."
   ]
  },
  {
   "cell_type": "markdown",
   "metadata": {},
   "source": [
    "- table1 = id, path, param, seen, date\n",
    "- table2 = id, netloc, date\n",
    "- url = netloc + path + param"
   ]
  },
  {
   "cell_type": "code",
   "execution_count": 210,
   "metadata": {},
   "outputs": [],
   "source": [
    "import sqlite3\n",
    "\n",
    "con = sqlite3.connect(\"bot.db\")\n",
    "cur = con.cursor()"
   ]
  },
  {
   "cell_type": "code",
   "execution_count": 211,
   "metadata": {},
   "outputs": [],
   "source": [
    "# 실제 데이터는 path , param 만 입력\n",
    "cur.executescript(\"\"\"\n",
    "\n",
    "    DROP TABLE IF EXISTS table1;\n",
    "    CREATE TABLE table1(\n",
    "    id INTEGER PRIMARY KEY AUTOINCREMENT NOT NULL,\n",
    "    table2_id INTEGER NOT NULL,\n",
    "    path TEXT NOT NULL,\n",
    "    param TEXT,\n",
    "    depth INTEGER NOT NULL,\n",
    "    inbound INTEGER NOT NULL,\n",
    "    seen BOOLEAN DEFAULT FALSE NOT NULL,\n",
    "    date TIMESTAMP DEFAULT CURRENT_TIMESTAMP NOT NULL\n",
    "    );\n",
    "    \n",
    "    DROP TABLE IF EXISTS table2;\n",
    "    CREATE TABLE table2(\n",
    "    id INTEGER PRIMARY KEY AUTOINCREMENT NOT NULL,\n",
    "    netloc TEXT NOT NULL,\n",
    "    date TIMESTAMP DEFAULT CURRENT_TIMESTAMP NOT NULL\n",
    "    );\n",
    "\"\"\")\n",
    "con.commit()"
   ]
  },
  {
   "cell_type": "code",
   "execution_count": 207,
   "metadata": {},
   "outputs": [
    {
     "ename": "SyntaxError",
     "evalue": "invalid syntax (<ipython-input-207-4d28c2fcf62f>, line 24)",
     "output_type": "error",
     "traceback": [
      "\u001b[1;36m  File \u001b[1;32m\"<ipython-input-207-4d28c2fcf62f>\"\u001b[1;36m, line \u001b[1;32m24\u001b[0m\n\u001b[1;33m    con.commit()\u001b[0m\n\u001b[1;37m      ^\u001b[0m\n\u001b[1;31mSyntaxError\u001b[0m\u001b[1;31m:\u001b[0m invalid syntax\n"
     ]
    }
   ],
   "source": [
    "# Seed URLs --> DB Insert\n",
    "url = \"https://www.google.com/search\"\n",
    "html = download(\"get\", url, param= {\"q\":\"박보영\"})\n",
    "dom = BeautifulSoup(html.text, \"lxml\")\n",
    "\n",
    "for href in [_.find_parent()[\"href\"] for _ in dom.select(\".LC20lb\")]:\n",
    "    _urlparse = requests.compat.urlparse(href)\n",
    "    netloc = \"://\".join(requests.compat.urlparse(href)[:2])\n",
    "    cur.execute(\"SELECT id FROM table2 WHERE netloc=? LIMIT 0,1\", [netloc])\n",
    "    netlocID = cur.fetchone()\n",
    "    if not netlocID:\n",
    "        cur.execute(\"INSERT INTO table2(netloc) VALUES(?)\", [netloc])\n",
    "        \n",
    "        con.commit()\n",
    "        \n",
    "        cur.execute(\"SELECT id FROM table2 WHERE netloc=? LIMIT 0,1\", [netloc])\n",
    "        \n",
    "        netlocID = cur.fetchone()\n",
    "        \n",
    "    cur.execute(\"\"\"\n",
    "        INSERT INTO table1(table2_id, path, param, depth, inbound) VALUES(?, ?, ?, ?, ?)\n",
    "        \"\"\", [netlocID[0], _urlparse[2], _urlparse[4], 1, 0]\n",
    "\n",
    "    con.commit()\n",
    "    \n",
    "    \n",
    "# DB Select Limit 0,1 해서 못가져오면 다 한거다."
   ]
  },
  {
   "cell_type": "code",
   "execution_count": 209,
   "metadata": {},
   "outputs": [],
   "source": [
    "cur.close()\n",
    "con.close()"
   ]
  },
  {
   "cell_type": "code",
   "execution_count": 141,
   "metadata": {},
   "outputs": [
    {
     "data": {
      "text/plain": [
       "ParseResult(scheme='https', netloc='www.google.com', path='/search', params='', query='q=%EB%B0%95%EB%B3%B4%EC%98%81', fragment='')"
      ]
     },
     "execution_count": 141,
     "metadata": {},
     "output_type": "execute_result"
    }
   ],
   "source": [
    "requests.compat.urlparse(html.request.url)"
   ]
  },
  {
   "cell_type": "code",
   "execution_count": 206,
   "metadata": {},
   "outputs": [],
   "source": [
    "while True:\n",
    "    cur.execute(\"\"\"\n",
    "                SELECT table1.id, table2.netloc, table1.path, table1.param\n",
    "                FROM table1\n",
    "                JOIN table2\n",
    "                    ON table1.table2_id = table2.id\n",
    "                WHERE table1.seen=FALSE\n",
    "                ORDER BY table1.date ASC\n",
    "                LIMIT 0 ,1;\n",
    "            \"\"\")\n",
    "    seed = cur.fetchone()\n",
    "    if not seed:\n",
    "        break;\n",
    "        \n",
    "    print(seed)\n",
    "    print(\"{0}{1}?{2}\".format(seed[1], seed[2], seed[3]))\n",
    "    break"
   ]
  },
  {
   "cell_type": "markdown",
   "metadata": {},
   "source": [
    "-------------------------------"
   ]
  },
  {
   "cell_type": "code",
   "execution_count": 202,
   "metadata": {},
   "outputs": [],
   "source": [
    "def parseURL(seed):\n",
    "    html = download(\"get\", seed)\n",
    "    dom = BeautifulSoup(html.text, 'lxml')\n",
    "    \n",
    "    return [requests.compat.urljoin(seed, _[\"href\"]) for _ in dom.find_all(\"a\") if _.has_attr(\"href\") and len(_[\"href\"]) > 3]"
   ]
  },
  {
   "cell_type": "code",
   "execution_count": 203,
   "metadata": {},
   "outputs": [],
   "source": [
    "i = 0\n",
    "while True:\n",
    "    cur.execute(\"\"\"\n",
    "                SELECT table1.id, table2.netloc, table1.path, table1.param, table1.depth, table2.id\n",
    "                FROM table1\n",
    "                JOIN table2\n",
    "                    ON table1.table2_id = table2.id\n",
    "                WHERE table1.seen=FALSE and table1.depth < 3\n",
    "                ORDER BY table1.date ASC\n",
    "                LIMIT 0 ,1;\n",
    "            \"\"\")\n",
    "    seed = cur.fetchone()\n",
    "    if not seed or i > 1000:\n",
    "        break;\n",
    "    i += 1\n",
    "        \n",
    "    cur.execute(\"\"\"\n",
    "        UPDATE table1\n",
    "        SET seen=TRUE\n",
    "        WHERE id=?\n",
    "    \"\"\", [seed[0]])\n",
    "    con.commit()\n",
    "    \n",
    "    baseURL = \"{0}{1}?{2}\".format(seed[1], seed[2], seed[3])\n",
    "    for href in parseURL(baseURL):\n",
    "        _urlparse = requests.compat.urlparse(href)\n",
    "        netloc = \"://\".join(_urlparse[:2])\n",
    "        cur.execute(\"SELECT id FROM table2 WHERE netloc=? LIMIT 0,1\", [netloc])\n",
    "        netlocID = cur.fetchone()\n",
    "        if not netlocID:\n",
    "            cur.execute(\"INSERT INTO table2(netloc) VALUES(?)\", [netloc])\n",
    "\n",
    "            con.commit()\n",
    "\n",
    "            cur.execute(\"SELECT id FROM table2 WHERE netloc=? LIMIT 0,1\", [netloc])\n",
    "\n",
    "            netlocID = cur.fetchone()\n",
    "        \n",
    "    cur.execute(\"INSERT INTO table1(table2_id, path, param, depth, inbound) VALUES(?, ?, ?, ?, ?)\",\\\n",
    "                [netlocID[0], _urlparse[2], _urlparse[4], seed[4]+1, seed[5]])\n",
    "    con.commit()\n",
    "    print(cur.lastrowid, netlocID)"
   ]
  },
  {
   "cell_type": "code",
   "execution_count": 204,
   "metadata": {},
   "outputs": [
    {
     "data": {
      "text/plain": [
       "[]"
      ]
     },
     "execution_count": 204,
     "metadata": {},
     "output_type": "execute_result"
    }
   ],
   "source": [
    "cur.execute(\"\"\"\n",
    "    select inbound, count(inbound)\n",
    "    from table1\n",
    "    where table2_id=10 group by inbound;\n",
    "\"\"\")\n",
    "cur.fetchall()"
   ]
  },
  {
   "cell_type": "code",
   "execution_count": 205,
   "metadata": {},
   "outputs": [
    {
     "data": {
      "text/plain": [
       "[(None, 0)]"
      ]
     },
     "execution_count": 205,
     "metadata": {},
     "output_type": "execute_result"
    }
   ],
   "source": [
    "cur.execute(\"\"\"\n",
    "    select inbound, count(inbound)\n",
    "    from table1\n",
    "    where inbound=1;\n",
    "\"\"\")\n",
    "cur.fetchall()"
   ]
  },
  {
   "cell_type": "code",
   "execution_count": null,
   "metadata": {},
   "outputs": [],
   "source": []
  },
  {
   "cell_type": "code",
   "execution_count": null,
   "metadata": {},
   "outputs": [],
   "source": []
  }
 ],
 "metadata": {
  "kernelspec": {
   "display_name": "Python 3",
   "language": "python",
   "name": "python3"
  },
  "language_info": {
   "codemirror_mode": {
    "name": "ipython",
    "version": 3
   },
   "file_extension": ".py",
   "mimetype": "text/x-python",
   "name": "python",
   "nbconvert_exporter": "python",
   "pygments_lexer": "ipython3",
   "version": "3.7.3"
  }
 },
 "nbformat": 4,
 "nbformat_minor": 2
}
