{
 "cells": [
  {
   "cell_type": "markdown",
   "metadata": {},
   "source": [
    "# Preprocessing(1)"
   ]
  },
  {
   "cell_type": "markdown",
   "metadata": {},
   "source": [
    "- 전처리.\n",
    "- 텍스트 데이터를 어떻게 처리할 수 있을까.\n",
    "- NLP 기반 텍스트 마이닝."
   ]
  },
  {
   "cell_type": "markdown",
   "metadata": {},
   "source": [
    "## KoNLPy, NLTK"
   ]
  },
  {
   "cell_type": "code",
   "execution_count": 1,
   "metadata": {},
   "outputs": [
    {
     "name": "stdout",
     "output_type": "stream",
     "text": [
      "Requirement already satisfied: nltk in c:\\users\\cdetg\\anaconda3\\lib\\site-packages (3.4)\n",
      "Requirement already satisfied: six in c:\\users\\cdetg\\anaconda3\\lib\\site-packages (from nltk) (1.12.0)\n",
      "Requirement already satisfied: singledispatch in c:\\users\\cdetg\\anaconda3\\lib\\site-packages (from nltk) (3.4.0.3)\n"
     ]
    }
   ],
   "source": [
    "# NLTK 설치하기\n",
    "!pip install nltk"
   ]
  },
  {
   "cell_type": "markdown",
   "metadata": {},
   "source": [
    "### Tokenizing"
   ]
  },
  {
   "cell_type": "code",
   "execution_count": 4,
   "metadata": {},
   "outputs": [
    {
     "name": "stderr",
     "output_type": "stream",
     "text": [
      "[nltk_data] Downloading package punkt to\n",
      "[nltk_data]     C:\\Users\\cdetg\\AppData\\Roaming\\nltk_data...\n",
      "[nltk_data]   Unzipping tokenizers\\punkt.zip.\n"
     ]
    },
    {
     "data": {
      "text/plain": [
       "True"
      ]
     },
     "execution_count": 4,
     "metadata": {},
     "output_type": "execute_result"
    }
   ],
   "source": [
    "import nltk\n",
    "from nltk.tokenize import sent_tokenize\n",
    "nltk.download('punkt')"
   ]
  },
  {
   "cell_type": "code",
   "execution_count": 5,
   "metadata": {},
   "outputs": [],
   "source": [
    "import sqlite3\n",
    "con = sqlite3.connect(\"news.db\")\n",
    "cur = con.cursor()"
   ]
  },
  {
   "cell_type": "code",
   "execution_count": 15,
   "metadata": {},
   "outputs": [],
   "source": [
    "cur.execute(\"\"\"\n",
    "    SELECT content\n",
    "    FROM table2\n",
    "    ORDER BY id ASC\n",
    "\"\"\")\n",
    "corpus = [_[0] for _ in cur.fetchall()]"
   ]
  },
  {
   "cell_type": "code",
   "execution_count": 27,
   "metadata": {},
   "outputs": [
    {
     "data": {
      "text/plain": [
       "(1942, 424, 51)"
      ]
     },
     "execution_count": 27,
     "metadata": {},
     "output_type": "execute_result"
    }
   ],
   "source": [
    "len(corpus[0]), len(corpus[0].split()), len(corpus[0].splitlines())"
   ]
  },
  {
   "cell_type": "code",
   "execution_count": 28,
   "metadata": {},
   "outputs": [
    {
     "data": {
      "text/plain": [
       "(519, 23)"
      ]
     },
     "execution_count": 28,
     "metadata": {},
     "output_type": "execute_result"
    }
   ],
   "source": [
    "# 어절 519개. \n",
    "len(word_tokenize(corpus[0])), len(sent_tokenize(corpus[0]))"
   ]
  },
  {
   "cell_type": "code",
   "execution_count": null,
   "metadata": {},
   "outputs": [],
   "source": [
    "# 이거는 오류나니 참고만 하기\n",
    "# 출력값 (형태소 분석한 개수, 어절 단위로 쪼갠 개수)\n",
    "from konlpy.tag import Kkma\n",
    "len(Kkma().morphs(corpus[0])), len(word_tokenize(corpus[0]))"
   ]
  },
  {
   "cell_type": "code",
   "execution_count": 17,
   "metadata": {},
   "outputs": [
    {
     "data": {
      "text/plain": [
       "23"
      ]
     },
     "execution_count": 17,
     "metadata": {},
     "output_type": "execute_result"
    }
   ],
   "source": [
    "# 실제 23개의 문장이 있다.\n",
    "from nltk.tokenize import sent_tokenize\n",
    "len(sent_tokenize(corpus[0]))"
   ]
  },
  {
   "cell_type": "code",
   "execution_count": 18,
   "metadata": {},
   "outputs": [
    {
     "data": {
      "text/plain": [
       "'1년 반만에 또 분당의 길로…당권파·반당권파 갈등 폭발 조짐'"
      ]
     },
     "execution_count": 18,
     "metadata": {},
     "output_type": "execute_result"
    }
   ],
   "source": [
    "corpus[0].splitlines()[0]"
   ]
  },
  {
   "cell_type": "code",
   "execution_count": 19,
   "metadata": {},
   "outputs": [
    {
     "data": {
      "text/plain": [
       "\"1년 반만에 또 분당의 길로…당권파·반당권파 갈등 폭발 조짐\\n\\n(서울=연합뉴스) 설승은 기자 = 민주평화당이 17일 옛 국민의당에서 분당해 창당한 지 1년 5개월 만에 또다시 '분당열차'에 올라탔다.\""
      ]
     },
     "execution_count": 19,
     "metadata": {},
     "output_type": "execute_result"
    }
   ],
   "source": [
    "sent_tokenize(corpus[0])[0]"
   ]
  },
  {
   "cell_type": "code",
   "execution_count": 22,
   "metadata": {},
   "outputs": [
    {
     "data": {
      "text/plain": [
       "['\\n    Life is too short, Life is too short\\n    Life is too short']"
      ]
     },
     "execution_count": 22,
     "metadata": {},
     "output_type": "execute_result"
    }
   ],
   "source": [
    "sent_tokenize(\"\"\"\n",
    "    Life is too short, Life is too short\n",
    "    Life is too short\n",
    "\"\"\")"
   ]
  },
  {
   "cell_type": "code",
   "execution_count": 23,
   "metadata": {},
   "outputs": [
    {
     "data": {
      "text/plain": [
       "['\\n    Life is too short.', 'Life is too short\\n    Life is too short']"
      ]
     },
     "execution_count": 23,
     "metadata": {},
     "output_type": "execute_result"
    }
   ],
   "source": [
    "# 중간에 .(온점)을 넣으니 문장을 잘랐다.\n",
    "sent_tokenize(\"\"\"\n",
    "    Life is too short. Life is too short\n",
    "    Life is too short\n",
    "\"\"\")"
   ]
  },
  {
   "cell_type": "code",
   "execution_count": 24,
   "metadata": {},
   "outputs": [
    {
     "data": {
      "text/plain": [
       "['\\n    Life is too short..... Life is too short\\n    Life is too short']"
      ]
     },
     "execution_count": 24,
     "metadata": {},
     "output_type": "execute_result"
    }
   ],
   "source": [
    "# 중간에 ..... 말줄임은 안자르네.\n",
    "sent_tokenize(\"\"\"\n",
    "    Life is too short..... Life is too short\n",
    "    Life is too short\n",
    "\"\"\")"
   ]
  },
  {
   "cell_type": "code",
   "execution_count": 21,
   "metadata": {},
   "outputs": [
    {
     "data": {
      "text/plain": [
       "'!\"#$%&\\'()*+,-./:;<=>?@[\\\\]^_`{|}~'"
      ]
     },
     "execution_count": 21,
     "metadata": {},
     "output_type": "execute_result"
    }
   ],
   "source": [
    "# 구두점을 기반으로 해서 짜른다.\n",
    "from string import punctuation\n",
    "punctuation"
   ]
  },
  {
   "cell_type": "code",
   "execution_count": 25,
   "metadata": {},
   "outputs": [
    {
     "data": {
      "text/plain": [
       "['Life', 'is', 'too', 'short', ',', 'Life', 'is', 'too', 'short']"
      ]
     },
     "execution_count": 25,
     "metadata": {},
     "output_type": "execute_result"
    }
   ],
   "source": [
    "# 하나의 어절 단위로 매핑.\n",
    "from nltk.tokenize import word_tokenize\n",
    "word_tokenize(\"Life is too short, Life is too short\")"
   ]
  },
  {
   "cell_type": "code",
   "execution_count": 26,
   "metadata": {},
   "outputs": [
    {
     "data": {
      "text/plain": [
       "['술',\n",
       " '한잔',\n",
       " '마셨습니다',\n",
       " '...',\n",
       " '``',\n",
       " '저',\n",
       " \"''\",\n",
       " '도',\n",
       " '더',\n",
       " '이상',\n",
       " \"'\",\n",
       " '어',\n",
       " \"'\",\n",
       " '쩔',\n",
       " '수',\n",
       " '없습니다',\n",
       " '.',\n",
       " '...',\n",
       " '최선을',\n",
       " '다했고',\n",
       " '열심히',\n",
       " '했습니다',\n",
       " '.',\n",
       " '저의',\n",
       " '진심이',\n",
       " '느껴지길',\n",
       " '바랍니다',\n",
       " '.',\n",
       " '고맙습니다',\n",
       " '...',\n",
       " '.']"
      ]
     },
     "execution_count": 26,
     "metadata": {},
     "output_type": "execute_result"
    }
   ],
   "source": [
    "word_tokenize(\"\"\"\n",
    "    술 한잔 마셨습니다...\n",
    "    \"저\"도 더 이상 '어'쩔 수 없습니다.\n",
    "    ...최선을 다했고 열심히 했습니다.\n",
    "    저의 진심이 느껴지길 바랍니다. 고맙습니다....\n",
    "\"\"\")"
   ]
  },
  {
   "cell_type": "markdown",
   "metadata": {},
   "source": [
    "    '마음' : 다섯 개의 음소\n",
    "    '마음' : 두 개의 음절\n",
    "    '저의 진심이' : 두 개의 어절"
   ]
  },
  {
   "cell_type": "code",
   "execution_count": 31,
   "metadata": {},
   "outputs": [
    {
     "data": {
      "text/plain": [
       "['You', 'need', 'Python', '=', ')']"
      ]
     },
     "execution_count": 31,
     "metadata": {},
     "output_type": "execute_result"
    }
   ],
   "source": [
    "# 우리나라는 상관이 별루 읍다. 본인의 감정상태를 얻음\n",
    "from nltk.tokenize import TweetTokenizer\n",
    "word_tokenize(\"You need Python =)\")"
   ]
  },
  {
   "cell_type": "code",
   "execution_count": 34,
   "metadata": {},
   "outputs": [
    {
     "data": {
      "text/plain": [
       "['You', 'need', 'Python', '=)', ';(']"
      ]
     },
     "execution_count": 34,
     "metadata": {},
     "output_type": "execute_result"
    }
   ],
   "source": [
    "TweetTokenizer().tokenize(\"You need Python =);(\")"
   ]
  },
  {
   "cell_type": "code",
   "execution_count": 40,
   "metadata": {},
   "outputs": [
    {
     "data": {
      "text/plain": [
       "['You', 'need', 'Python', '12', '한글']"
      ]
     },
     "execution_count": 40,
     "metadata": {},
     "output_type": "execute_result"
    }
   ],
   "source": [
    "import re\n",
    "from nltk.tokenize import regexp_tokenize\n",
    "pattern = re.compile(r\"\\b(\\w+)\\b\") # 영어와 숫자로만 이루어진 어절 찾기\n",
    "#pattern = re.compile(r\"\\b([가-힣]+)\\b\") # 한글 찾기\n",
    "regexp_tokenize(\"You need Python!!!! 12 한글\", pattern)"
   ]
  },
  {
   "cell_type": "code",
   "execution_count": 41,
   "metadata": {},
   "outputs": [
    {
     "data": {
      "text/plain": [
       "'한글'"
      ]
     },
     "execution_count": 41,
     "metadata": {},
     "output_type": "execute_result"
    }
   ],
   "source": [
    "re.sub(r\"[^가-힣]\", \"\", \"ㅠㅠ ㅜㅜ ㅋㅋ 한글\")"
   ]
  },
  {
   "cell_type": "code",
   "execution_count": 42,
   "metadata": {},
   "outputs": [
    {
     "data": {
      "text/plain": [
       "['한글']"
      ]
     },
     "execution_count": 42,
     "metadata": {},
     "output_type": "execute_result"
    }
   ],
   "source": [
    "regexp_tokenize(re.sub(r\"[^가-힣]\", \"\", \"ㅠㅠ ㅜㅜ ㅋㅋ 한글\"), pattern)"
   ]
  },
  {
   "cell_type": "code",
   "execution_count": 45,
   "metadata": {},
   "outputs": [],
   "source": [
    "from nltk import Text\n",
    "text = Text(word_tokenize(corpus[0])) # 어절로."
   ]
  },
  {
   "cell_type": "code",
   "execution_count": 46,
   "metadata": {},
   "outputs": [
    {
     "data": {
      "text/plain": [
       "(365, 519)"
      ]
     },
     "execution_count": 46,
     "metadata": {},
     "output_type": "execute_result"
    }
   ],
   "source": [
    "# N - 전체 인스턴스 개수, B - 유니크 개수.\n",
    "text.vocab().B(), text.vocab().N()"
   ]
  },
  {
   "cell_type": "code",
   "execution_count": 47,
   "metadata": {},
   "outputs": [
    {
     "data": {
      "text/plain": [
       "[('.', 21),\n",
       " (\"'\", 8),\n",
       " ('등', 8),\n",
       " ('``', 8),\n",
       " (\"''\", 8),\n",
       " ('(', 7),\n",
       " (')', 7),\n",
       " ('있다', 7),\n",
       " ('제3지대', 5),\n",
       " ('의원', 5),\n",
       " ('정', 5),\n",
       " ('반당권파는', 4),\n",
       " (',', 4),\n",
       " ('서울=연합뉴스', 3),\n",
       " ('기자', 3),\n",
       " ('=', 3),\n",
       " ('에', 3),\n",
       " ('민주평화당', 3),\n",
       " ('정동영', 3),\n",
       " ('대표', 3),\n",
       " ('대표가', 3),\n",
       " ('@', 3),\n",
       " ('yna.co.kr', 3),\n",
       " ('지난', 3),\n",
       " ('정당', 3),\n",
       " ('창당을', 3),\n",
       " ('유성엽', 3),\n",
       " ('대안정치', 3),\n",
       " ('바른미래당', 3),\n",
       " ('것은', 3)]"
      ]
     },
     "execution_count": 47,
     "metadata": {},
     "output_type": "execute_result"
    }
   ],
   "source": [
    "text.vocab().most_common(30)"
   ]
  },
  {
   "cell_type": "code",
   "execution_count": 50,
   "metadata": {},
   "outputs": [
    {
     "data": {
      "image/png": "[encoded data removed]",
      "text/plain": [
       "<Figure size 432x288 with 1 Axes>"
      ]
     },
     "metadata": {
      "needs_background": "light"
     },
     "output_type": "display_data"
    }
   ],
   "source": [
    "text.plot(30)"
   ]
  },
  {
   "cell_type": "code",
   "execution_count": 51,
   "metadata": {},
   "outputs": [
    {
     "data": {
      "image/png": "[encoded data removed]",
      "text/plain": [
       "<Figure size 432x288 with 1 Axes>"
      ]
     },
     "metadata": {
      "needs_background": "light"
     },
     "output_type": "display_data"
    }
   ],
   "source": [
    "text.plot()"
   ]
  },
  {
   "cell_type": "code",
   "execution_count": 53,
   "metadata": {},
   "outputs": [
    {
     "data": {
      "image/png": "[encoded data removed]",
      "text/plain": [
       "<Figure size 432x288 with 1 Axes>"
      ]
     },
     "metadata": {
      "needs_background": "light"
     },
     "output_type": "display_data"
    }
   ],
   "source": [
    "from matplotlib import rc, font_manager\n",
    "\n",
    "path = \"c:/Windows/Fonts/malgun.ttf\"\n",
    "font = font_manager.FontProperties(fname=path).get_name()\n",
    "rc(\"font\", family=font)\n",
    "\n",
    "text.plot(15)"
   ]
  },
  {
   "cell_type": "markdown",
   "metadata": {},
   "source": [
    "## Empirical Law"
   ]
  },
  {
   "cell_type": "code",
   "execution_count": 54,
   "metadata": {},
   "outputs": [
    {
     "data": {
      "text/plain": [
       "FreqDist({'.': 21, \"'\": 8, '등': 8, '``': 8, \"''\": 8, '(': 7, ')': 7, '있다': 7, '제3지대': 5, '의원': 5, ...})"
      ]
     },
     "execution_count": 54,
     "metadata": {},
     "output_type": "execute_result"
    }
   ],
   "source": [
    "# 지프의 법칙 : 어느 것이 더 중요도가 높은지에 대해 도움을 준다.\n",
    "text.vocab()\n",
    "# 제 3지대 이외에는 다 쓸모가 없다."
   ]
  },
  {
   "cell_type": "code",
   "execution_count": 55,
   "metadata": {},
   "outputs": [
    {
     "data": {
      "text/plain": [
       "0.009633911368015413"
      ]
     },
     "execution_count": 55,
     "metadata": {},
     "output_type": "execute_result"
    }
   ],
   "source": [
    "text.vocab().freq(\"제3지대\")"
   ]
  },
  {
   "cell_type": "code",
   "execution_count": 56,
   "metadata": {},
   "outputs": [
    {
     "name": "stdout",
     "output_type": "stream",
     "text": [
      "0.04046242774566474\n",
      "0.015414258188824663\n",
      "0.015414258188824663\n",
      "0.015414258188824663\n",
      "0.015414258188824663\n",
      "0.01348747591522158\n",
      "0.01348747591522158\n",
      "0.01348747591522158\n",
      "0.009633911368015413\n",
      "0.009633911368015413\n",
      "0.161849710982659\n"
     ]
    }
   ],
   "source": [
    "ratio = 0.0\n",
    "for _ in [_[0] for _ in text.vocab().most_common(10)]:\n",
    "    ratio += text.vocab().freq(_)\n",
    "    print(text.vocab().freq(_))\n",
    "print(ratio)\n",
    "\n",
    "# 전체의 단어 중 \"제3지대\"가 16% 나 있다는 것이다."
   ]
  },
  {
   "cell_type": "code",
   "execution_count": 60,
   "metadata": {},
   "outputs": [
    {
     "data": {
      "image/png": "[encoded data removed]",
      "text/plain": [
       "<Figure size 432x288 with 1 Axes>"
      ]
     },
     "metadata": {
      "needs_background": "light"
     },
     "output_type": "display_data"
    },
    {
     "data": {
      "image/png": "[encoded data removed]",
      "text/plain": [
       "<Figure size 432x288 with 1 Axes>"
      ]
     },
     "metadata": {
      "needs_background": "light"
     },
     "output_type": "display_data"
    }
   ],
   "source": [
    "import matplotlib.pyplot as plt\n",
    "from math import log\n",
    "token = [_[0] for _ in sorted(text.vocab().items(), key=lambda x : x[1], reverse=True)]\n",
    "freq = [_[1]/text.vocab().most_common(1)[0][1]\n",
    "        for _ in sorted(text.vocab().items(), key=lambda x : x[1], reverse=True)]\n",
    "\n",
    "_freq = [log(_) for _ in freq]\n",
    "rank = [1/(_+1) for _ in range(len(token))]\n",
    "_rank = [log(_) for _ in rank]\n",
    "\n",
    "plt.plot([i for i in range(len(token))], freq, \"r-\")\n",
    "plt.plot([i for i in range(len(token))], rank, \"b-\")\n",
    "plt.show()\n",
    "\n",
    "plt.plot([i for i in range(len(token))], _freq, \"r-\")\n",
    "plt.plot([i for i in range(len(token))], _rank, \"b-\")\n",
    "plt.show()"
   ]
  },
  {
   "cell_type": "markdown",
   "metadata": {},
   "source": [
    "### Heaps' law"
   ]
  },
  {
   "cell_type": "markdown",
   "metadata": {},
   "source": [
    "- M =kT^b\n",
    "- k, b == 특정 상수\n",
    "- T = 전체 단어 수"
   ]
  },
  {
   "cell_type": "code",
   "execution_count": null,
   "metadata": {},
   "outputs": [],
   "source": []
  },
  {
   "cell_type": "code",
   "execution_count": 75,
   "metadata": {},
   "outputs": [],
   "source": [
    "K = 10#10 - 100\n",
    "B = 0.5#0.4 - 0.6\n",
    "unique = list()\n",
    "total = list()\n",
    "largeText = \"\"\n",
    "heaps = list()\n",
    "for _ in corpus:\n",
    "    largeText += _\n",
    "    text = Text(largeText)\n",
    "    unique.append(text.vocab().B())\n",
    "    total.append(text.vocab().N())\n",
    "    heaps.append(K*text.vocab().N()**B)"
   ]
  },
  {
   "cell_type": "code",
   "execution_count": 76,
   "metadata": {},
   "outputs": [
    {
     "data": {
      "image/png": "[encoded data removed]",
      "text/plain": [
       "<Figure size 432x288 with 1 Axes>"
      ]
     },
     "metadata": {
      "needs_background": "light"
     },
     "output_type": "display_data"
    }
   ],
   "source": [
    "plt.plot(total, unique, \"r-\")\n",
    "plt.plot(total, heaps, \"b-\")\n",
    "plt.show()"
   ]
  },
  {
   "cell_type": "markdown",
   "metadata": {},
   "source": [
    "### n-gram"
   ]
  },
  {
   "cell_type": "markdown",
   "metadata": {},
   "source": [
    "- language model\n",
    "- 빈도와 통계적인 정보를 가짐.\n",
    "- 한글에서는 피쳐를 어떻게 추출할까. 거기에서 더 나아가 어간을 찾기 좋은 방법\n",
    "- 많은 쌍들을 보고 다음에 무엇이 올까 예측."
   ]
  },
  {
   "cell_type": "code",
   "execution_count": null,
   "metadata": {},
   "outputs": [],
   "source": [
    "sentence = \"Life is too short, You need Python\"\n",
    "N=2\n",
    "Python?\n",
    "P(Python|need, You, short, too, is, Life)\n",
    "P(Python|need)\n",
    "P(need|You)\n",
    "N=3\n",
    "P(Python|need, You)\n",
    "P(need|You) P(Python|need) # 어절 단위의 n-gram\n",
    "술 한잔 마셨습니다.\n",
    "아버지 + 가 # 어간 추출\n",
    "술한잔마셨습니다. #띄어쓰기 판단도구로도 씀."
   ]
  },
  {
   "cell_type": "code",
   "execution_count": 92,
   "metadata": {},
   "outputs": [
    {
     "data": {
      "text/plain": [
       "1941"
      ]
     },
     "execution_count": 92,
     "metadata": {},
     "output_type": "execute_result"
    }
   ],
   "source": [
    "# n-gram 으로 패턴 만들기\n",
    "sentence = \"Life is too short, You need Python\"\n",
    "\n",
    "def eojeol(sentence, N=2):\n",
    "    #문장,문단을 받아서 N이 3이면 바로 2개전까지 돌거다.\n",
    "    tokens = word_tokenize(sentence)\n",
    "    ngram = list()\n",
    "    for i in range(len(tokens)-(N-1)):\n",
    "     #   ngram.append(\" \".join(tokens[i:i+N])) # 띄어쓰기 포함\n",
    "         ngram.append(tuple(tokens[i:i+N])) \n",
    "    return ngram\n",
    "\n",
    "def umjeol(token, N=2):\n",
    "    tokens = list(token)\n",
    "    ngram = list()\n",
    "    for i in range(len(tokens)-(N-1)):\n",
    "        ngram.append(\" \".join(tokens[i:i+N])) # 띄어쓰기 포함\n",
    "     #    ngram.append(tuple(tokens[i:i+N])) \n",
    "    return ngram\n",
    "\n",
    "eojeol(sentence, 3)\n",
    "umjeol(corpus[0].splitlines()[0])\n",
    "len(umjeol(corpus[0]))"
   ]
  },
  {
   "cell_type": "code",
   "execution_count": null,
   "metadata": {},
   "outputs": [],
   "source": [
    "list(\"\")"
   ]
  },
  {
   "cell_type": "code",
   "execution_count": 79,
   "metadata": {},
   "outputs": [],
   "source": [
    "from collections import defaultdict\n",
    "\n",
    "freq = defaultdict(int)\n",
    "for _ in eojeol(corpus[0]):\n",
    "    freq[_] += 1"
   ]
  },
  {
   "cell_type": "code",
   "execution_count": 81,
   "metadata": {},
   "outputs": [
    {
     "data": {
      "text/plain": [
       "[(('있다', '.'), 6),\n",
       " (('(', '서울=연합뉴스'), 3),\n",
       " (('서울=연합뉴스', ')'), 3),\n",
       " (('기자', '='), 3),\n",
       " ((\"'\", '에'), 3),\n",
       " (('@', 'yna.co.kr'), 3),\n",
       " (('제3지대', '정당'), 3),\n",
       " (('의원', '등'), 3),\n",
       " (('말했다', '.'), 3),\n",
       " (('.', '정'), 3)]"
      ]
     },
     "execution_count": 81,
     "metadata": {},
     "output_type": "execute_result"
    }
   ],
   "source": [
    "# 제일 많이 나타난 상위 10개 출력\n",
    "sorted(freq.items(), key=lambda x:x[1], reverse=True)[:10]"
   ]
  },
  {
   "cell_type": "code",
   "execution_count": 82,
   "metadata": {},
   "outputs": [
    {
     "data": {
      "text/plain": [
       "0.011583011583011582"
      ]
     },
     "execution_count": 82,
     "metadata": {},
     "output_type": "execute_result"
    }
   ],
   "source": [
    "freq[('있다', '.')]/sum(freq.values())"
   ]
  },
  {
   "cell_type": "code",
   "execution_count": 85,
   "metadata": {},
   "outputs": [
    {
     "data": {
      "text/plain": [
       "0.0001341661573321805"
      ]
     },
     "execution_count": 85,
     "metadata": {},
     "output_type": "execute_result"
    }
   ],
   "source": [
    "freq[('있다', '.')]/sum(freq.values()) * freq[('있다', '.')]/sum(freq.values()) * \\\n",
    "freq[('(', '서울=연합뉴스')]/freq[('서울=연합뉴스', ')')]"
   ]
  },
  {
   "cell_type": "code",
   "execution_count": 86,
   "metadata": {},
   "outputs": [
    {
     "data": {
      "text/plain": [
       "[('서울=연합뉴스', ')'), ('反', ')'), (\"'\", ')'), ('순', ')'), ('당내기구인', ')')]"
      ]
     },
     "execution_count": 86,
     "metadata": {},
     "output_type": "execute_result"
    }
   ],
   "source": [
    "# 괄호로 끝나는 경우\n",
    "[_ for _ in freq if _[1] == \")\"]"
   ]
  },
  {
   "cell_type": "markdown",
   "metadata": {},
   "source": [
    "## WPM"
   ]
  },
  {
   "cell_type": "markdown",
   "metadata": {},
   "source": [
    "하나의 단어를 내부 단어(Subword Unit)들로 분리하는 단어 분리 모델"
   ]
  },
  {
   "cell_type": "markdown",
   "metadata": {},
   "source": [
    "## 불용어"
   ]
  },
  {
   "cell_type": "code",
   "execution_count": 95,
   "metadata": {},
   "outputs": [
    {
     "name": "stderr",
     "output_type": "stream",
     "text": [
      "[nltk_data] Downloading package stopwords to\n",
      "[nltk_data]     C:\\Users\\cdetg\\AppData\\Roaming\\nltk_data...\n",
      "[nltk_data]   Unzipping corpora\\stopwords.zip.\n"
     ]
    },
    {
     "data": {
      "text/plain": [
       "True"
      ]
     },
     "execution_count": 95,
     "metadata": {},
     "output_type": "execute_result"
    }
   ],
   "source": [
    "import nltk\n",
    "nltk.download('stopwords')"
   ]
  },
  {
   "cell_type": "code",
   "execution_count": 96,
   "metadata": {},
   "outputs": [
    {
     "name": "stdout",
     "output_type": "stream",
     "text": [
      "i\n",
      "me\n",
      "my\n",
      "myself\n",
      "we\n",
      "our\n",
      "ours\n",
      "ourselves\n",
      "you\n",
      "you're\n",
      "you've\n",
      "you'll\n",
      "you'd\n",
      "your\n",
      "yours\n",
      "yourself\n",
      "yourselves\n",
      "he\n",
      "him\n",
      "his\n",
      "himself\n",
      "she\n",
      "she's\n",
      "her\n",
      "hers\n",
      "herself\n",
      "it\n",
      "it's\n",
      "its\n",
      "itself\n",
      "they\n",
      "them\n",
      "their\n",
      "theirs\n",
      "themselves\n",
      "what\n",
      "which\n",
      "who\n",
      "whom\n",
      "this\n",
      "that\n",
      "that'll\n",
      "these\n",
      "those\n",
      "am\n",
      "is\n",
      "are\n",
      "was\n",
      "were\n",
      "be\n",
      "been\n",
      "being\n",
      "have\n",
      "has\n",
      "had\n",
      "having\n",
      "do\n",
      "does\n",
      "did\n",
      "doing\n",
      "a\n",
      "an\n",
      "the\n",
      "and\n",
      "but\n",
      "if\n",
      "or\n",
      "because\n",
      "as\n",
      "until\n",
      "while\n",
      "of\n",
      "at\n",
      "by\n",
      "for\n",
      "with\n",
      "about\n",
      "against\n",
      "between\n",
      "into\n",
      "through\n",
      "during\n",
      "before\n",
      "after\n",
      "above\n",
      "below\n",
      "to\n",
      "from\n",
      "up\n",
      "down\n",
      "in\n",
      "out\n",
      "on\n",
      "off\n",
      "over\n",
      "under\n",
      "again\n",
      "further\n",
      "then\n",
      "once\n",
      "here\n",
      "there\n",
      "when\n",
      "where\n",
      "why\n",
      "how\n",
      "all\n",
      "any\n",
      "both\n",
      "each\n",
      "few\n",
      "more\n",
      "most\n",
      "other\n",
      "some\n",
      "such\n",
      "no\n",
      "nor\n",
      "not\n",
      "only\n",
      "own\n",
      "same\n",
      "so\n",
      "than\n",
      "too\n",
      "very\n",
      "s\n",
      "t\n",
      "can\n",
      "will\n",
      "just\n",
      "don\n",
      "don't\n",
      "should\n",
      "should've\n",
      "now\n",
      "d\n",
      "ll\n",
      "m\n",
      "o\n",
      "re\n",
      "ve\n",
      "y\n",
      "ain\n",
      "aren\n",
      "aren't\n",
      "couldn\n",
      "couldn't\n",
      "didn\n",
      "didn't\n",
      "doesn\n",
      "doesn't\n",
      "hadn\n",
      "hadn't\n",
      "hasn\n",
      "hasn't\n",
      "haven\n",
      "haven't\n",
      "isn\n",
      "isn't\n",
      "ma\n",
      "mightn\n",
      "mightn't\n",
      "mustn\n",
      "mustn't\n",
      "needn\n",
      "needn't\n",
      "shan\n",
      "shan't\n",
      "shouldn\n",
      "shouldn't\n",
      "wasn\n",
      "wasn't\n",
      "weren\n",
      "weren't\n",
      "won\n",
      "won't\n",
      "wouldn\n",
      "wouldn't\n",
      "\n"
     ]
    }
   ],
   "source": [
    "from nltk.corpus import stopwords\n",
    "print(stopwords.open(\"english\").read())"
   ]
  },
  {
   "cell_type": "code",
   "execution_count": null,
   "metadata": {},
   "outputs": [],
   "source": []
  },
  {
   "cell_type": "markdown",
   "metadata": {},
   "source": [
    "## BPE\n",
    "Byte Pair Encoding(어간 추출)"
   ]
  },
  {
   "cell_type": "markdown",
   "metadata": {},
   "source": [
    "----------------------"
   ]
  },
  {
   "cell_type": "code",
   "execution_count": 168,
   "metadata": {},
   "outputs": [
    {
     "name": "stdout",
     "output_type": "stream",
     "text": [
      "{'아버지', '아버지를'}\n"
     ]
    }
   ],
   "source": [
    "tokens = {\n",
    "    \"l o w </w>\" : 5, # low 가 들어오면 단어가 끝이라는 것을 알린다.\n",
    "    \"l o w e s t </w>\" : 2,\n",
    "    \"n e w e r </w>\" : 6,\n",
    "    \"r i d e r </w>\" : 2\n",
    "}\n",
    "\n",
    "tokens = {\n",
    "    \"아 버 지 가 </w>\" : 5, # low 가 들어오면 단어가 끝이라는 것을 알린다.\n",
    "    \"아 버 지 께 서 </w>\" : 2,\n",
    "    \"아 버 지 를 </w>\" : 6,\n",
    "    \"아 버 지 에 게 </w>\" : 2\n",
    "}\n",
    "K = max(tokens.values())\n",
    "for _ in range(100):\n",
    "    maxKey = findBigram(tokens)\n",
    "    tokens = mergeMaxkey(maxKey, tokens, K)\n",
    "\n",
    "pattern = r\"[가-힣A-Za-z\\/\\<\\>]{2,}\"\n",
    "result = list()\n",
    "for _ in tokens:\n",
    "    result.extend([_ for _ in re.findall(pattern, _)\n",
    "                  if _ != \"</w>\"])\n",
    "print(set(result))"
   ]
  },
  {
   "cell_type": "code",
   "execution_count": 99,
   "metadata": {},
   "outputs": [
    {
     "name": "stdout",
     "output_type": "stream",
     "text": [
      "['l', 'o', 'w', '</w>']\n",
      "['l', 'o', 'w', 'e', 's', 't', '</w>']\n",
      "['n', 'e', 'w', 'e', 'r', '</w>']\n",
      "['r', 'i', 'd', 'e', 'r', '</w>']\n"
     ]
    }
   ],
   "source": [
    "# by gram?\n",
    "for token, freq in tokens.items():\n",
    "    print(token.split())"
   ]
  },
  {
   "cell_type": "code",
   "execution_count": 103,
   "metadata": {},
   "outputs": [],
   "source": [
    "ngram = defaultdict(int)\n",
    "for token, freq in tokens.items():\n",
    "    syllables = token.split()\n",
    "    for i in range(len(syllables)-1):\n",
    "        ngram[tuple(syllables[i:i+2])] += freq"
   ]
  },
  {
   "cell_type": "code",
   "execution_count": 104,
   "metadata": {},
   "outputs": [
    {
     "data": {
      "text/plain": [
       "defaultdict(int,\n",
       "            {('l', 'o'): 7,\n",
       "             ('o', 'w'): 7,\n",
       "             ('w', '</w>'): 5,\n",
       "             ('w', 'e'): 8,\n",
       "             ('e', 's'): 2,\n",
       "             ('s', 't'): 2,\n",
       "             ('t', '</w>'): 2,\n",
       "             ('n', 'e'): 6,\n",
       "             ('e', 'w'): 6,\n",
       "             ('e', 'r'): 8,\n",
       "             ('r', '</w>'): 8,\n",
       "             ('r', 'i'): 2,\n",
       "             ('i', 'd'): 2,\n",
       "             ('d', 'e'): 2})"
      ]
     },
     "execution_count": 104,
     "metadata": {},
     "output_type": "execute_result"
    }
   ],
   "source": [
    "ngram"
   ]
  },
  {
   "cell_type": "code",
   "execution_count": 147,
   "metadata": {},
   "outputs": [],
   "source": [
    "def findBigram(tokens):\n",
    "    ngram = defaultdict(int)\n",
    "    for token, freq in tokens.items():\n",
    "        syllables = token.split()\n",
    "        for i in range(len(syllables)-1):\n",
    "            ngram[tuple(syllables[i:i+2])] += freq\n",
    "    return ngram"
   ]
  },
  {
   "cell_type": "code",
   "execution_count": 150,
   "metadata": {},
   "outputs": [],
   "source": [
    "def mergeMaxkey(ngram, tokens, K):\n",
    "    maxKey = max(ngram, key=ngram.get)\n",
    "    maxValue = max(ngram.values())\n",
    "    newTokens = dict()\n",
    "    for token, freq in tokens.items():\n",
    "        newTokens[re.sub(\" \".join(maxKey), \"\".join(maxKey), token) \n",
    "                  if maxValue >= K else token] = freq\n",
    "        \n",
    "    #print(maxKey)\n",
    "    return newTokens"
   ]
  },
  {
   "cell_type": "code",
   "execution_count": 164,
   "metadata": {},
   "outputs": [],
   "source": [
    "tokens = {\n",
    "    \"l o w </w>\" : 5, # low 가 들어오면 단어가 끝이라는 것을 알린다.\n",
    "    \"l o w e s t </w>\" : 2,\n",
    "    \"n e w e r </w>\" : 6,\n",
    "    \"r i d e r </w>\" : 2\n",
    "}\n",
    "for _ in range(100):\n",
    "    maxKey = findBigram(tokens)\n",
    "    tokens = mergeMaxkey(maxKey, tokens, K)\n"
   ]
  },
  {
   "cell_type": "code",
   "execution_count": 165,
   "metadata": {},
   "outputs": [
    {
     "name": "stdout",
     "output_type": "stream",
     "text": [
      "['lo', '</w>']\n",
      "['lo', 'we', '</w>']\n",
      "['newer</w>']\n",
      "['r</w>']\n"
     ]
    },
    {
     "data": {
      "text/plain": [
       "{'</w>', 'lo', 'newer</w>', 'r</w>', 'we'}"
      ]
     },
     "execution_count": 165,
     "metadata": {},
     "output_type": "execute_result"
    }
   ],
   "source": [
    "pattern = r\"[A-Za-z\\/\\<\\>]{2,}\"\n",
    "result = list()\n",
    "for _ in tokens:\n",
    "    result.extend([_ for _ in re.findall(pattern, _) if _ != \"<\\w>\"])\n",
    "    print([_ for _ in re.findall(pattern, _) if _ != \"<\\w>\"])\n",
    "set(result)"
   ]
  },
  {
   "cell_type": "code",
   "execution_count": 112,
   "metadata": {},
   "outputs": [],
   "source": [
    "tokens = newTokens"
   ]
  },
  {
   "cell_type": "code",
   "execution_count": 113,
   "metadata": {},
   "outputs": [
    {
     "data": {
      "text/plain": [
       "({'l o w </w>': 5,\n",
       "  'l o we s t </w>': 2,\n",
       "  'n e we r </w>': 6,\n",
       "  'r i d e r </w>': 2},\n",
       " ('w', 'e'))"
      ]
     },
     "execution_count": 113,
     "metadata": {},
     "output_type": "execute_result"
    }
   ],
   "source": [
    "newTokens, maxKey"
   ]
  },
  {
   "cell_type": "code",
   "execution_count": null,
   "metadata": {},
   "outputs": [],
   "source": []
  }
 ],
 "metadata": {
  "kernelspec": {
   "display_name": "Python 3",
   "language": "python",
   "name": "python3"
  },
  "language_info": {
   "codemirror_mode": {
    "name": "ipython",
    "version": 3
   },
   "file_extension": ".py",
   "mimetype": "text/x-python",
   "name": "python",
   "nbconvert_exporter": "python",
   "pygments_lexer": "ipython3",
   "version": "3.7.3"
  }
 },
 "nbformat": 4,
 "nbformat_minor": 2
}
