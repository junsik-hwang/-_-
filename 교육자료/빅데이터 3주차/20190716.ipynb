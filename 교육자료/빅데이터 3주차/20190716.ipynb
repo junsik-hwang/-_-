{
 "cells": [
  {
   "cell_type": "code",
   "execution_count": 1,
   "metadata": {},
   "outputs": [
    {
     "name": "stdout",
     "output_type": "stream",
     "text": [
      "Requirement already satisfied: beautifulsoup4 in c:\\users\\cdetg\\anaconda3\\lib\\site-packages (4.7.1)\n",
      "Requirement already satisfied: soupsieve>=1.2 in c:\\users\\cdetg\\anaconda3\\lib\\site-packages (from beautifulsoup4) (1.8)\n"
     ]
    }
   ],
   "source": [
    "import requests\n",
    "import time\n",
    "import json\n",
    "\n",
    "import re\n",
    "from html import unescape\n",
    "\n",
    "headers = {\"user-agent\" : \"Mozilla/5.0 (Windows NT 6.3; Win64; x64) AppleWebKit/537.36 (KHTML, like Gecko) Chrome/75.0.3770.100 Safari/537.36\"}\n",
    "\n",
    "def download(method, url, param=None, data=None, timeout=1 , maxretires=3):\n",
    "    try : \n",
    "        resp = requests.request(method, url, params=param, data=data, headers=headers)\n",
    "        resp.raise_for_status()\n",
    "    except requests.exceptions.HTTPError as e :\n",
    "        if 500 <= e.response.status_code < 600 and maxretires > 0:\n",
    "            print(maxretires)\n",
    "            time.sleep(timeout)\n",
    "            resp = download(method, url, param, data, timeout, maxretires-1)\n",
    "        else:\n",
    "            print(e.response.status_code)\n",
    "            print(e.response.reason)\n",
    "    return resp\n",
    "\n",
    "# beautifulSoup : Parsing library\n",
    "!pip install beautifulsoup4\n",
    "from bs4 import BeautifulSoup"
   ]
  },
  {
   "cell_type": "code",
   "execution_count": null,
   "metadata": {},
   "outputs": [],
   "source": [
    "import sqlite3\n",
    "con = sqlite3.connect(\"bot.db\")\n",
    "cur = con.cursor()"
   ]
  },
  {
   "cell_type": "markdown",
   "metadata": {},
   "source": [
    "# Scraping"
   ]
  },
  {
   "cell_type": "markdown",
   "metadata": {},
   "source": [
    "    내가 결정할 수 있다. 얼만큼 가져올건지. (네이버 첫페이지나... 내가 원하는 만큼. 규모가 적다.)\n",
    "    내가 원하는 부분만 쓰고 버려버린다.\n",
    "    특정 사이트에 가서 내가 원하는 부분만 긁어온다.\n",
    "    큐를 이용해 스케줄러를 대신했다."
   ]
  },
  {
   "cell_type": "markdown",
   "metadata": {},
   "source": [
    "- http://validator.w3.org/unicorn/?ucn_lang=ko\n",
    "- 제목, 추천수, 조회수 를 페이지 게시물만큼 긁을 예정."
   ]
  },
  {
   "cell_type": "code",
   "execution_count": 69,
   "metadata": {},
   "outputs": [],
   "source": [
    "url = \"http://www.ppomppu.co.kr/zboard/zboard.php?\"\n",
    "\n",
    "param = {\n",
    "    \"id\":\"ppomppu\",\n",
    "    \"page\":1\n",
    "}\n",
    "html = download(\"get\", url, param)\n",
    "dom = BeautifulSoup(html.text, \"lxml\")"
   ]
  },
  {
   "cell_type": "code",
   "execution_count": 70,
   "metadata": {
    "scrolled": true
   },
   "outputs": [
    {
     "data": {
      "text/plain": [
       "['[G마켓] 햇반컵반 버터장조림비빔밥 216g 6개 (15,900원 /무배)',\n",
       " '[G마켓] LG 휘센 제습기 DQ168PBE (368,470원/ 무료배송)',\n",
       " '[11번가] LG 공식판매점 디오스 인덕션 전기레인지 BEF3G 3구 (1,490,000/무료)',\n",
       " '[위메프] EVA 30CM 마사지 폼롤러 (5900/무료)',\n",
       " '[위메프] LG 미니빔 HF60LA FHD 1400루멘 (835,640/무료)',\n",
       " '[11번가] 리스테린 그린티 마일드 750mlx2+250mlx2  (13,500/무료배송)',\n",
       " '[Gsuite] Gsuite Basic India (3700원(월) / 무료)',\n",
       " '[하이마트몰] 갤럭시버즈 (138,500원 / 무배) 오너스 첫달 무료체험시, 최대 50% 페이백',\n",
       " '[옥션] 식사에반하다25개입 (26,530원 / 무배)',\n",
       " '[티몬] (티몬페이전용)해피머니 10만원권 3장(271,500원/쿠폰적용시 269,900원)',\n",
       " '[티몬] 해피머니 10만원권 (90,900원/0원)',\n",
       " '[티몬] 1등급 한돈 삼겹살 600g (6,500/무료배송)',\n",
       " '[우체국쇼핑] 진안 매콤화끈 중독의맛 뼈없는 직화불닭발 1+1(2팩)(8500/무료) 쿠폰적용시7650',\n",
       " '[유튜브] 유튜브프리미엄 인도 ( 2200원(월), 3200원(월)6명 / 무료)',\n",
       " '[11번가] 벨킨 스마트폰 전기종 호환 충전케이블(9,900/무배)',\n",
       " '[네이버스토어팜] 뉴발란스 잔테v3 (49,800원/무료)',\n",
       " '[LG생활건강] 홈스타 뿌리는 곰팡이 (9,900/무료)']"
      ]
     },
     "execution_count": 70,
     "metadata": {},
     "output_type": "execute_result"
    }
   ],
   "source": [
    "[(_.text) for _ in dom.select(\"#revolution_main_table .list_title\")]"
   ]
  },
  {
   "cell_type": "code",
   "execution_count": 140,
   "metadata": {},
   "outputs": [
    {
     "ename": "AttributeError",
     "evalue": "'NoneType' object has no attribute 'img'",
     "output_type": "error",
     "traceback": [
      "\u001b[1;31m---------------------------------------------------------------------------\u001b[0m",
      "\u001b[1;31mAttributeError\u001b[0m                            Traceback (most recent call last)",
      "\u001b[1;32m<ipython-input-140-bd5f959244fd>\u001b[0m in \u001b[0;36m<module>\u001b[1;34m\u001b[0m\n\u001b[0;32m      1\u001b[0m \u001b[1;32mfor\u001b[0m \u001b[0mtr\u001b[0m \u001b[1;32min\u001b[0m \u001b[0mdom\u001b[0m\u001b[1;33m.\u001b[0m\u001b[0mselect\u001b[0m\u001b[1;33m(\u001b[0m\u001b[1;34m\"tr[class^=list]\"\u001b[0m\u001b[1;33m)\u001b[0m\u001b[1;33m[\u001b[0m\u001b[1;36m1\u001b[0m\u001b[1;33m:\u001b[0m\u001b[1;33m]\u001b[0m\u001b[1;33m:\u001b[0m\u001b[1;33m\u001b[0m\u001b[1;33m\u001b[0m\u001b[0m\n\u001b[0;32m      2\u001b[0m     \u001b[0mtd\u001b[0m \u001b[1;33m=\u001b[0m \u001b[0mtr\u001b[0m\u001b[1;33m.\u001b[0m\u001b[0mfind_all\u001b[0m\u001b[1;33m(\u001b[0m\u001b[1;34m\"td\"\u001b[0m\u001b[1;33m,\u001b[0m \u001b[0mrecursive\u001b[0m\u001b[1;33m=\u001b[0m\u001b[1;32mFalse\u001b[0m\u001b[1;33m)\u001b[0m\u001b[1;33m\u001b[0m\u001b[1;33m\u001b[0m\u001b[0m\n\u001b[1;32m----> 3\u001b[1;33m     \u001b[0mprint\u001b[0m\u001b[1;33m(\u001b[0m\u001b[0mrequests\u001b[0m\u001b[1;33m.\u001b[0m\u001b[0mcompat\u001b[0m\u001b[1;33m.\u001b[0m\u001b[0murljoin\u001b[0m\u001b[1;33m(\u001b[0m\u001b[0murl\u001b[0m\u001b[1;33m,\u001b[0m \u001b[0mtd\u001b[0m\u001b[1;33m[\u001b[0m\u001b[1;36m3\u001b[0m\u001b[1;33m]\u001b[0m\u001b[1;33m.\u001b[0m\u001b[0ma\u001b[0m\u001b[1;33m.\u001b[0m\u001b[0mimg\u001b[0m\u001b[1;33m[\u001b[0m\u001b[1;34m\"src\"\u001b[0m\u001b[1;33m]\u001b[0m\u001b[1;33m)\u001b[0m\u001b[1;33m)\u001b[0m\u001b[1;33m\u001b[0m\u001b[1;33m\u001b[0m\u001b[0m\n\u001b[0m\u001b[0;32m      4\u001b[0m     \u001b[0mprint\u001b[0m\u001b[1;33m(\u001b[0m\u001b[0mtd\u001b[0m\u001b[1;33m[\u001b[0m\u001b[1;36m3\u001b[0m\u001b[1;33m]\u001b[0m\u001b[1;33m.\u001b[0m\u001b[0mselect\u001b[0m\u001b[1;33m(\u001b[0m\u001b[1;34m\"td[valign=middle] > a\"\u001b[0m\u001b[1;33m)\u001b[0m\u001b[1;33m[\u001b[0m\u001b[1;36m0\u001b[0m\u001b[1;33m]\u001b[0m\u001b[1;33m.\u001b[0m\u001b[0mtext\u001b[0m\u001b[1;33m)\u001b[0m\u001b[1;33m\u001b[0m\u001b[1;33m\u001b[0m\u001b[0m\n\u001b[0;32m      5\u001b[0m     \u001b[0mprint\u001b[0m\u001b[1;33m(\u001b[0m\u001b[0mre\u001b[0m\u001b[1;33m,\u001b[0m\u001b[0mfindall\u001b[0m\u001b[1;33m(\u001b[0m\u001b[1;34m\".+\\((.+?)\\).*\"\u001b[0m\u001b[1;33m,\u001b[0m \u001b[0mtemp\u001b[0m\u001b[1;33m)\u001b[0m\u001b[1;33m[\u001b[0m\u001b[1;36m0\u001b[0m\u001b[1;33m]\u001b[0m\u001b[1;33m.\u001b[0m\u001b[0msplit\u001b[0m\u001b[1;33m(\u001b[0m\u001b[1;34m\"/\"\u001b[0m\u001b[1;33m)\u001b[0m\u001b[1;33m)\u001b[0m\u001b[1;33m\u001b[0m\u001b[1;33m\u001b[0m\u001b[0m\n",
      "\u001b[1;31mAttributeError\u001b[0m: 'NoneType' object has no attribute 'img'"
     ]
    }
   ],
   "source": [
    "for tr in dom.select(\"tr[class^=list]\")[1:]:\n",
    "    td = tr.find_all(\"td\", recursive=False)\n",
    "    print(requests.compat.urljoin(url, td[3].a.img[\"src\"]))\n",
    "    print(td[3].select(\"td[valign=middle] > a\")[0].text)\n",
    "    print(re,findall(\".+\\((.+?)\\).*\", temp)[0].split(\"/\"))\n",
    "    temp = td[5].text.split(\"-\")\n",
    "    print((0,0) if len(temp) < 2 else \",\".join(temp))\n",
    "    print(td[6].text.split())\n",
    "    print()"
   ]
  },
  {
   "cell_type": "markdown",
   "metadata": {},
   "source": [
    "# 실습\n",
    "## 뽐뿌 자유게시판 Crawling\n",
    "- Focused Crawling(10페이지 내에서)\n",
    "- 각 페이지 당 게시글(제목) 부분의 a 수집\n",
    "- 수집된 a로부터 Scraping\n",
    "## scraping\n",
    "- 제목, 본문내용, 댓글 파싱 (댓글은 있거나 없거나)"
   ]
  },
  {
   "cell_type": "code",
   "execution_count": 190,
   "metadata": {},
   "outputs": [],
   "source": [
    "def parseURL(seed):\n",
    "    html = download(\"get\", seed)\n",
    "    dom = BeautifulSoup(html.text, 'lxml')\n",
    "    \n",
    "    return [requests.compat.urljoin(seed, _.find_parent()[\"href\"])\n",
    "     for _ in dom.select(\"font.list_title\")\n",
    "            if _.find_parent() and _.find_parent().has_attr(\"href\")]"
   ]
  },
  {
   "cell_type": "code",
   "execution_count": 201,
   "metadata": {},
   "outputs": [],
   "source": [
    "def parseContent(url):\n",
    "    html = download(\"get\", url)\n",
    "    dom = BeautifulSoup(html.text, 'lxml')\n",
    "    \n",
    "    return {\"title\":dom.select_one(\"font.view_title2\").text.strip(),\n",
    "           \"body\":dom.select_one(\"td.board-contents\").text.strip(),\n",
    "           \"comments\":[_.text.strip() for _ in dom.select(\"div[id^=commentContent_]\")]}"
   ]
  },
  {
   "cell_type": "code",
   "execution_count": 210,
   "metadata": {},
   "outputs": [
    {
     "name": "stdout",
     "output_type": "stream",
     "text": [
      "Queue: 30, Seen : 1\n",
      "Queue: 60, Seen : 2\n",
      "Queue: 90, Seen : 3\n",
      "Queue: 120, Seen : 4\n",
      "Queue: 150, Seen : 5\n",
      "Queue: 180, Seen : 6\n",
      "Queue: 210, Seen : 7\n",
      "Queue: 240, Seen : 8\n",
      "Queue: 270, Seen : 9\n",
      "Queue: 300, Seen : 10\n"
     ]
    }
   ],
   "source": [
    "url = \"http://www.ppomppu.co.kr/zboard/zboard.php\"\n",
    "html = download(\"get\", url, param = {\"id\":\"freeboard\"})\n",
    "dom = BeautifulSoup(html.text, \"lxml\")\n",
    "\n",
    "seed = list()\n",
    "seed.extend([requests.compat.urljoin(url, _[\"href\"]) for _ in dom.select(\"#page_list a\")])\n",
    "seen = list()\n",
    "\n",
    "queue = list()\n",
    "\n",
    "while seed:\n",
    "    baseURL = seed.pop(0)\n",
    "    seen.append(baseURL)\n",
    "    linkList = parseURL(baseURL)\n",
    "    for link in linkList:\n",
    "        if link not in queue and link not in seen:\n",
    "            queue.append(link)\n",
    "    print(\"Queue: {0}, Seen : {1}\".format(len(queue), len(seen)))"
   ]
  },
  {
   "cell_type": "code",
   "execution_count": 203,
   "metadata": {
    "scrolled": true
   },
   "outputs": [],
   "source": [
    "# 확인하는 용도. 코드 실행 하지 마라. 아래꺼 안된다.\n",
    "contents = list()\n",
    "while queue:\n",
    "    baseURL = queue.pop(0)\n",
    "    seen.append(baseURL)\n",
    "    contents.append(parseContent(baseURL))"
   ]
  },
  {
   "cell_type": "code",
   "execution_count": 204,
   "metadata": {},
   "outputs": [
    {
     "data": {
      "text/plain": [
       "300"
      ]
     },
     "execution_count": 204,
     "metadata": {},
     "output_type": "execute_result"
    }
   ],
   "source": [
    "len(contents)"
   ]
  },
  {
   "cell_type": "code",
   "execution_count": 195,
   "metadata": {
    "collapsed": true
   },
   "outputs": [
    {
     "name": "stdout",
     "output_type": "stream",
     "text": [
      "http://www.ppomppu.co.kr/zboard/view.php?id=issue&no=160987\n",
      "http://www.ppomppu.co.kr/zboard/zboard.php?id=freeboard&page=1&divpage=1221&no=6543291\n",
      "http://www.ppomppu.co.kr/zboard/zboard.php?id=freeboard&page=1&divpage=1221&no=6543290\n",
      "http://www.ppomppu.co.kr/zboard/zboard.php?id=freeboard&page=1&divpage=1221&no=6543289\n",
      "http://www.ppomppu.co.kr/zboard/zboard.php?id=freeboard&page=1&divpage=1221&no=6543288\n",
      "http://www.ppomppu.co.kr/zboard/zboard.php?id=freeboard&page=1&divpage=1221&no=6543287\n",
      "http://www.ppomppu.co.kr/zboard/zboard.php?id=freeboard&page=1&divpage=1221&no=6543285\n",
      "http://www.ppomppu.co.kr/zboard/zboard.php?id=freeboard&page=1&divpage=1221&no=6543284\n",
      "http://www.ppomppu.co.kr/zboard/zboard.php?id=freeboard&page=1&divpage=1221&no=6543283\n",
      "http://www.ppomppu.co.kr/zboard/zboard.php?id=freeboard&page=1&divpage=1221&no=6543281\n",
      "http://www.ppomppu.co.kr/zboard/zboard.php?id=freeboard&page=1&divpage=1221&no=6543280\n",
      "http://www.ppomppu.co.kr/zboard/zboard.php?id=freeboard&page=1&divpage=1221&no=6543278\n",
      "http://www.ppomppu.co.kr/zboard/zboard.php?id=freeboard&page=1&divpage=1221&no=6543277\n",
      "http://www.ppomppu.co.kr/zboard/zboard.php?id=freeboard&page=1&divpage=1221&no=6543274\n",
      "http://www.ppomppu.co.kr/zboard/zboard.php?id=freeboard&page=1&divpage=1221&no=6543273\n",
      "http://www.ppomppu.co.kr/zboard/zboard.php?id=freeboard&page=1&divpage=1221&no=6543272\n",
      "http://www.ppomppu.co.kr/zboard/zboard.php?id=freeboard&page=1&divpage=1221&no=6543271\n",
      "http://www.ppomppu.co.kr/zboard/zboard.php?id=freeboard&page=1&divpage=1221&no=6543270\n",
      "http://www.ppomppu.co.kr/zboard/zboard.php?id=freeboard&page=1&divpage=1221&no=6543269\n",
      "http://www.ppomppu.co.kr/zboard/zboard.php?id=freeboard&page=1&divpage=1221&no=6543268\n",
      "http://www.ppomppu.co.kr/zboard/zboard.php?id=freeboard&page=1&divpage=1221&no=6543267\n",
      "http://www.ppomppu.co.kr/zboard/zboard.php?id=freeboard&page=1&divpage=1221&no=6543265\n",
      "http://www.ppomppu.co.kr/zboard/zboard.php?id=freeboard&page=1&divpage=1221&no=6543263\n",
      "http://www.ppomppu.co.kr/zboard/zboard.php?id=freeboard&page=1&divpage=1221&no=6543262\n",
      "http://www.ppomppu.co.kr/zboard/zboard.php?id=freeboard&page=1&divpage=1221&no=6543261\n",
      "http://www.ppomppu.co.kr/zboard/zboard.php?id=freeboard&page=1&divpage=1221&no=6543260\n",
      "http://www.ppomppu.co.kr/zboard/zboard.php?id=freeboard&page=1&divpage=1221&no=6543259\n",
      "http://www.ppomppu.co.kr/zboard/zboard.php?id=freeboard&page=1&divpage=1221&no=6543258\n",
      "http://www.ppomppu.co.kr/zboard/zboard.php?id=freeboard&page=1&divpage=1221&no=6543257\n",
      "http://www.ppomppu.co.kr/zboard/zboard.php?id=freeboard&page=1&divpage=1221&no=6543256\n",
      "http://www.ppomppu.co.kr/zboard/zboard.php?id=freeboard&page=1&divpage=1221&no=6543255\n"
     ]
    }
   ],
   "source": [
    "# 참고 코드. 이해만 할 것.\n",
    "for tr in dom.select(\"tr[class^=list]\")[1:]:\n",
    "    td = tr.find_all(\"td\", recursive=False)\n",
    "    print(requests.compat.urljoin(url, td[2].a[\"href\"]))"
   ]
  },
  {
   "cell_type": "code",
   "execution_count": 150,
   "metadata": {},
   "outputs": [],
   "source": [
    "import sqlite3\n",
    "\n",
    "con = sqlite3.connect(\"bot.db\")\n",
    "cur = con.cursor()"
   ]
  },
  {
   "cell_type": "code",
   "execution_count": 151,
   "metadata": {},
   "outputs": [],
   "source": [
    "cur.executescript(\"\"\"\n",
    "\n",
    "    DROP TABLE IF EXISTS table3;\n",
    "    CREATE TABLE table3(\n",
    "        id INTEGER PRIMARY KEY AUTOINCREMENT NOT NULL,\n",
    "        title TEXT NOT NULL,\n",
    "        content TEXT NOT NULL,\n",
    "        date TIMESTAMP DEFAULT CURRENT_TIMESTAMP NOT NULL\n",
    "    );\n",
    "    \n",
    "    DROP TABLE IF EXISTS table4;\n",
    "    CREATE TABLE table4(\n",
    "        id INTEGER PRIMARY KEY AUTOINCREMENT NOT NULL,\n",
    "        table3_id INTEGER NOT NULL,\n",
    "        comment TEXT NOT NULL\n",
    "    );\n",
    "\"\"\")\n",
    "con.commit()"
   ]
  },
  {
   "cell_type": "code",
   "execution_count": 211,
   "metadata": {},
   "outputs": [],
   "source": [
    "contents = list()\n",
    "while queue:\n",
    "    baseURL = queue.pop(0)\n",
    "    seen.append(baseURL)\n",
    "    content = parseContent(baseURL)\n",
    "    cur.execute(\"\"\"\n",
    "        INSERT INTO table3(title, content) values (?, ?)\n",
    "    \"\"\", [content[\"title\"], content[\"body\"]])\n",
    "    con.commit()\n",
    "    \n",
    "    cur.execute(\"\"\"\n",
    "        select id\n",
    "        from table3\n",
    "        where title=? and content=?;\n",
    "    \"\"\", [content[\"title\"], content[\"body\"]])\n",
    "    table3_id = cur.fetchone()[0]\n",
    "    \n",
    "    for comment in content[\"comments\"]:\n",
    "        cur.execute(\"\"\"\n",
    "            insert into table4(table3_id, comment) values(?, ?)\n",
    "        \"\"\", [table3_id, comment])\n",
    "    con.commit()\n",
    "    #contents.appennd(parseContent(baseURL))"
   ]
  }
 ],
 "metadata": {
  "kernelspec": {
   "display_name": "Python 3",
   "language": "python",
   "name": "python3"
  },
  "language_info": {
   "codemirror_mode": {
    "name": "ipython",
    "version": 3
   },
   "file_extension": ".py",
   "mimetype": "text/x-python",
   "name": "python",
   "nbconvert_exporter": "python",
   "pygments_lexer": "ipython3",
   "version": "3.7.3"
  }
 },
 "nbformat": 4,
 "nbformat_minor": 2
}
