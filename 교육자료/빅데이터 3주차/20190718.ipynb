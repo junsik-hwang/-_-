{
 "cells": [
  {
   "cell_type": "code",
   "execution_count": 1,
   "metadata": {},
   "outputs": [],
   "source": [
    "import requests\n",
    "import time\n",
    "import json\n",
    "import re\n",
    "\n",
    "from bs4 import BeautifulSoup\n",
    "from selenium import webdriver\n",
    "from html import unescape\n",
    "\n",
    "headers = {\"user-agent\" : \"Mozilla/5.0 (Windows NT 6.3; Win64; x64) AppleWebKit/537.36 (KHTML, like Gecko) Chrome/75.0.3770.100 Safari/537.36\"}\n",
    "\n",
    "def download(method, url, param=None, data=None, timeout=1 , maxretires=3):\n",
    "    try : \n",
    "        resp = requests.request(method, url, params=param, data=data, headers=headers)\n",
    "        resp.raise_for_status()\n",
    "    except requests.exceptions.HTTPError as e :\n",
    "        if 500 <= e.response.status_code < 600 and maxretires > 0:\n",
    "            print(maxretires)\n",
    "            time.sleep(timeout)\n",
    "            resp = download(method, url, param, data, timeout, maxretires-1)\n",
    "        else:\n",
    "            print(e.response.status_code)\n",
    "            print(e.response.reason)\n",
    "    return resp"
   ]
  },
  {
   "cell_type": "markdown",
   "metadata": {},
   "source": [
    "# 인터파크"
   ]
  },
  {
   "cell_type": "code",
   "execution_count": 235,
   "metadata": {},
   "outputs": [],
   "source": [
    "driver = webdriver.Chrome()\n",
    "driver.get(\"http://ticket.interpark.com\")"
   ]
  },
  {
   "cell_type": "code",
   "execution_count": 200,
   "metadata": {},
   "outputs": [
    {
     "name": "stdout",
     "output_type": "stream",
     "text": [
      "Overwriting interpark_login.json\n"
     ]
    }
   ],
   "source": [
    "%%writefile interpark_login.json\n",
    "{\n",
    "    \"id\":\"cdetgfr005\",\n",
    "    \"pw\":\"*wnsldj13*\"\n",
    "}"
   ]
  },
  {
   "cell_type": "code",
   "execution_count": 201,
   "metadata": {},
   "outputs": [],
   "source": [
    "with open(\"interpark_login.json\") as fp:\n",
    "    interpark_login = json.load(fp)"
   ]
  },
  {
   "cell_type": "code",
   "execution_count": 27,
   "metadata": {},
   "outputs": [],
   "source": [
    "# 로그인 전 쿠키 상태 확인.\n",
    "_logout = [_[\"name\"] for _ in driver.get_cookies()]"
   ]
  },
  {
   "cell_type": "code",
   "execution_count": 202,
   "metadata": {},
   "outputs": [],
   "source": [
    "# 로그인 버튼 찾기\n",
    "login = driver.find_element_by_css_selector(\"#logstatus > a\")\n",
    "if login and login.get_attribute(\"id\") == \"aLogin\":\n",
    "    driver.get(login.get_attribute(\"href\"))\n",
    "    driver.find_element_by_css_selector(\"#UID\").send_keys(interpark_login[\"id\"])\n",
    "    driver.find_element_by_css_selector(\"#PWD\").send_keys(interpark_login[\"pw\"])\n",
    "    driver.find_element_by_css_selector(\"div.loginBtn > button\").click()\n",
    "else:\n",
    "    print(\"이미 로그인 상태\")"
   ]
  },
  {
   "cell_type": "code",
   "execution_count": 196,
   "metadata": {},
   "outputs": [],
   "source": [
    "# 위 코드를 함수로 만들기\n",
    "def login(interpark_login, method=\"login\"):\n",
    "    try:\n",
    "        login = driver.find_element_by_css_selector(\"#logstatus > a\")\n",
    "        if login and login.get_attribute(\"id\") == \"aLogin\":\n",
    "            driver.get(login.get_attribute(\"href\"))\n",
    "            driver.find_element_by_css_selector(\"#UID\").send_keys(interpark_login[\"id\"])\n",
    "            driver.find_element_by_css_selector(\"#PWD\").send_keys(interpark_login[\"pw\"])\n",
    "            driver.find_element_by_css_selector(\"div.loginBtn > button\").click()\n",
    "        else:\n",
    "            login.click()\n",
    "    except:\n",
    "        return False\n",
    "    return True"
   ]
  },
  {
   "cell_type": "code",
   "execution_count": 23,
   "metadata": {},
   "outputs": [
    {
     "data": {
      "text/plain": [
       "True"
      ]
     },
     "execution_count": 23,
     "metadata": {},
     "output_type": "execute_result"
    }
   ],
   "source": [
    "login(interpark_login, \"login\")"
   ]
  },
  {
   "cell_type": "code",
   "execution_count": 26,
   "metadata": {},
   "outputs": [
    {
     "data": {
      "text/plain": [
       "True"
      ]
     },
     "execution_count": 26,
     "metadata": {},
     "output_type": "execute_result"
    }
   ],
   "source": [
    "login(interpark_login, \"logout\")"
   ]
  },
  {
   "cell_type": "code",
   "execution_count": 24,
   "metadata": {},
   "outputs": [],
   "source": [
    "# 로그인 후 쿠키 상태 확인.\n",
    "_login = [_[\"name\"] for _ in driver.get_cookies()]"
   ]
  },
  {
   "cell_type": "code",
   "execution_count": 28,
   "metadata": {},
   "outputs": [
    {
     "data": {
      "text/plain": [
       "(40, 22)"
      ]
     },
     "execution_count": 28,
     "metadata": {},
     "output_type": "execute_result"
    }
   ],
   "source": [
    "# 쿠키 길이 확인\n",
    "len(_login), len(_logout)"
   ]
  },
  {
   "cell_type": "code",
   "execution_count": 197,
   "metadata": {},
   "outputs": [],
   "source": [
    "# 로그인 상태면 로그아웃, 로그아웃 상태면 로그인.\n",
    "if \"ISession%5FID\" not in [_[\"name\"] for _ in driver.get_cookies()]:\n",
    "    login(interpark_login)\n",
    "else:\n",
    "    login(None, \"logout\")"
   ]
  },
  {
   "cell_type": "code",
   "execution_count": 31,
   "metadata": {},
   "outputs": [
    {
     "name": "stdout",
     "output_type": "stream",
     "text": [
      "전체메뉴보기\n",
      "뮤지컬\n",
      "콘서트\n",
      "연극\n",
      "클래식/무용\n",
      "스포츠\n",
      "레저\n",
      "전시/행사\n",
      "아동/가족\n",
      "TOPING\n",
      "랭킹\n",
      "지역\n",
      "공연장\n"
     ]
    }
   ],
   "source": [
    "for _ in driver.find_elements_by_css_selector(\"ul.gnbBtns a[class^=btn]\"):\n",
    "    print(_.find_element_by_css_selector(\"img\").get_attribute(\"alt\"))"
   ]
  },
  {
   "cell_type": "code",
   "execution_count": 203,
   "metadata": {},
   "outputs": [],
   "source": [
    "# 위 코드 함수 만들기\n",
    "def gnbbtns(category=\"콘서트\"):\n",
    "    links = [_ for _ in driver.find_elements_by_css_selector(\"ul.gnbBtns a[class^=btn]\")]\n",
    "    titles = [_.find_element_by_css_selector(\"img\").get_attribute(\"alt\") for _ in links]\n",
    "    \n",
    "    if category in titles:\n",
    "        return links[titles.index(category)].get_attribute(\"href\")\n",
    "    return False"
   ]
  },
  {
   "cell_type": "code",
   "execution_count": 204,
   "metadata": {},
   "outputs": [],
   "source": [
    "url = gnbbtns(\"콘서트\")\n",
    "if url:\n",
    "    driver.get(url)"
   ]
  },
  {
   "cell_type": "code",
   "execution_count": 40,
   "metadata": {
    "collapsed": true
   },
   "outputs": [
    {
     "data": {
      "text/plain": [
       "[<selenium.webdriver.remote.webelement.WebElement (session=\"d0e7ae03694f344102d37ed04183295f\", element=\"8b095e14-2d3f-4fc0-9f5d-0f0d52b48384\")>,\n",
       " <selenium.webdriver.remote.webelement.WebElement (session=\"d0e7ae03694f344102d37ed04183295f\", element=\"bbf0e464-c6f1-4cf2-ba3a-99b7773c0535\")>,\n",
       " <selenium.webdriver.remote.webelement.WebElement (session=\"d0e7ae03694f344102d37ed04183295f\", element=\"1c87ddd7-f181-47ee-bed9-de7b490d016f\")>,\n",
       " <selenium.webdriver.remote.webelement.WebElement (session=\"d0e7ae03694f344102d37ed04183295f\", element=\"18316ce6-e6af-432f-b229-649199d09fee\")>,\n",
       " <selenium.webdriver.remote.webelement.WebElement (session=\"d0e7ae03694f344102d37ed04183295f\", element=\"7defe839-d6ca-4126-8792-6317b68e5ff5\")>,\n",
       " <selenium.webdriver.remote.webelement.WebElement (session=\"d0e7ae03694f344102d37ed04183295f\", element=\"b2221fb2-b43d-42fd-8d39-631c7b64bc94\")>,\n",
       " <selenium.webdriver.remote.webelement.WebElement (session=\"d0e7ae03694f344102d37ed04183295f\", element=\"929fe73e-6475-4eb0-b33e-35112367b4e9\")>,\n",
       " <selenium.webdriver.remote.webelement.WebElement (session=\"d0e7ae03694f344102d37ed04183295f\", element=\"357b4a90-ae3b-4b7d-b9ab-c6c78563b582\")>,\n",
       " <selenium.webdriver.remote.webelement.WebElement (session=\"d0e7ae03694f344102d37ed04183295f\", element=\"bfb0b9a6-75ac-418c-aaa9-05c7dcc30ce1\")>,\n",
       " <selenium.webdriver.remote.webelement.WebElement (session=\"d0e7ae03694f344102d37ed04183295f\", element=\"102bf722-8272-4abd-8525-8ecbbe369fc7\")>,\n",
       " <selenium.webdriver.remote.webelement.WebElement (session=\"d0e7ae03694f344102d37ed04183295f\", element=\"68a0c49e-1648-46a6-b7d1-c94f100e2e6b\")>,\n",
       " <selenium.webdriver.remote.webelement.WebElement (session=\"d0e7ae03694f344102d37ed04183295f\", element=\"43777735-5b33-42dd-8d6c-17dfc412548a\")>,\n",
       " <selenium.webdriver.remote.webelement.WebElement (session=\"d0e7ae03694f344102d37ed04183295f\", element=\"1cf43e31-cdc6-481e-8a33-12b659bc64cc\")>,\n",
       " <selenium.webdriver.remote.webelement.WebElement (session=\"d0e7ae03694f344102d37ed04183295f\", element=\"aaaf4164-2264-4664-a10f-5299efbdb8a7\")>,\n",
       " <selenium.webdriver.remote.webelement.WebElement (session=\"d0e7ae03694f344102d37ed04183295f\", element=\"0a72f66d-63a9-43af-a552-70783fd21f71\")>,\n",
       " <selenium.webdriver.remote.webelement.WebElement (session=\"d0e7ae03694f344102d37ed04183295f\", element=\"7b2954bc-d1a5-42ba-a63b-e7e9b2a38a09\")>,\n",
       " <selenium.webdriver.remote.webelement.WebElement (session=\"d0e7ae03694f344102d37ed04183295f\", element=\"f7e01005-a8e9-468a-a7dc-218ce6caffca\")>,\n",
       " <selenium.webdriver.remote.webelement.WebElement (session=\"d0e7ae03694f344102d37ed04183295f\", element=\"24958053-6c0c-4d5c-bd67-5218e070c4ba\")>,\n",
       " <selenium.webdriver.remote.webelement.WebElement (session=\"d0e7ae03694f344102d37ed04183295f\", element=\"7587b1a7-6dd2-4a1f-916f-0063c71bc26c\")>,\n",
       " <selenium.webdriver.remote.webelement.WebElement (session=\"d0e7ae03694f344102d37ed04183295f\", element=\"7f01dfd0-8716-4eee-9c54-b0a52935fe71\")>,\n",
       " <selenium.webdriver.remote.webelement.WebElement (session=\"d0e7ae03694f344102d37ed04183295f\", element=\"3ef4f3dd-8a1b-4beb-a307-26cc1cf1d13f\")>,\n",
       " <selenium.webdriver.remote.webelement.WebElement (session=\"d0e7ae03694f344102d37ed04183295f\", element=\"b9684462-9b71-4683-bb0e-2ac6534743c6\")>,\n",
       " <selenium.webdriver.remote.webelement.WebElement (session=\"d0e7ae03694f344102d37ed04183295f\", element=\"6e3d52a3-ffab-4496-900e-a4a7068ea881\")>,\n",
       " <selenium.webdriver.remote.webelement.WebElement (session=\"d0e7ae03694f344102d37ed04183295f\", element=\"599845a1-0fc2-4cd5-8653-006b480cd6ff\")>,\n",
       " <selenium.webdriver.remote.webelement.WebElement (session=\"d0e7ae03694f344102d37ed04183295f\", element=\"22e51e2a-c40f-4400-8fba-dd7b4747b0eb\")>,\n",
       " <selenium.webdriver.remote.webelement.WebElement (session=\"d0e7ae03694f344102d37ed04183295f\", element=\"29227093-802d-40c9-8b75-fe26b7910677\")>,\n",
       " <selenium.webdriver.remote.webelement.WebElement (session=\"d0e7ae03694f344102d37ed04183295f\", element=\"e4bb1310-c16c-44e9-a7e4-3b32682815ae\")>,\n",
       " <selenium.webdriver.remote.webelement.WebElement (session=\"d0e7ae03694f344102d37ed04183295f\", element=\"3531d366-cab6-445c-8e8d-76f45ca9ae9d\")>,\n",
       " <selenium.webdriver.remote.webelement.WebElement (session=\"d0e7ae03694f344102d37ed04183295f\", element=\"3a74b086-51ef-4eb1-b20f-1b4c27db8f68\")>,\n",
       " <selenium.webdriver.remote.webelement.WebElement (session=\"d0e7ae03694f344102d37ed04183295f\", element=\"e5580c25-2a3e-4517-809c-d29734b8804a\")>,\n",
       " <selenium.webdriver.remote.webelement.WebElement (session=\"d0e7ae03694f344102d37ed04183295f\", element=\"6b549d70-48d7-4f19-8ce5-e4628894e63f\")>,\n",
       " <selenium.webdriver.remote.webelement.WebElement (session=\"d0e7ae03694f344102d37ed04183295f\", element=\"49af5d45-479e-43c0-ab12-93c522d86fdf\")>,\n",
       " <selenium.webdriver.remote.webelement.WebElement (session=\"d0e7ae03694f344102d37ed04183295f\", element=\"af88b502-0614-4a44-b314-25e1ed80396b\")>,\n",
       " <selenium.webdriver.remote.webelement.WebElement (session=\"d0e7ae03694f344102d37ed04183295f\", element=\"623f2802-5a5a-4fff-bb21-3190730183f5\")>,\n",
       " <selenium.webdriver.remote.webelement.WebElement (session=\"d0e7ae03694f344102d37ed04183295f\", element=\"1d346a0b-c9a8-42c7-b404-c9e3fc28fdb1\")>,\n",
       " <selenium.webdriver.remote.webelement.WebElement (session=\"d0e7ae03694f344102d37ed04183295f\", element=\"9cb481ec-43bc-46dc-b8b4-c78b9a37bb1b\")>,\n",
       " <selenium.webdriver.remote.webelement.WebElement (session=\"d0e7ae03694f344102d37ed04183295f\", element=\"620a1e34-b0e1-428c-8558-fa5713e745e9\")>,\n",
       " <selenium.webdriver.remote.webelement.WebElement (session=\"d0e7ae03694f344102d37ed04183295f\", element=\"ab4fb228-26eb-4f47-8840-3fdb45080d37\")>,\n",
       " <selenium.webdriver.remote.webelement.WebElement (session=\"d0e7ae03694f344102d37ed04183295f\", element=\"d5c1af0d-cfe2-4d06-947c-fa83f28e7cc7\")>,\n",
       " <selenium.webdriver.remote.webelement.WebElement (session=\"d0e7ae03694f344102d37ed04183295f\", element=\"24aa4a5e-b7cb-4496-8f0d-85fdc08b885f\")>,\n",
       " <selenium.webdriver.remote.webelement.WebElement (session=\"d0e7ae03694f344102d37ed04183295f\", element=\"6c01dfc4-2dae-4093-9be1-7fb158d58438\")>,\n",
       " <selenium.webdriver.remote.webelement.WebElement (session=\"d0e7ae03694f344102d37ed04183295f\", element=\"29014b62-3569-413b-97cf-56a774344908\")>,\n",
       " <selenium.webdriver.remote.webelement.WebElement (session=\"d0e7ae03694f344102d37ed04183295f\", element=\"5732584c-0130-4fcf-9bcc-4d2cd7fc7a91\")>,\n",
       " <selenium.webdriver.remote.webelement.WebElement (session=\"d0e7ae03694f344102d37ed04183295f\", element=\"6a484fc2-54bf-4702-b5f9-4475db24e3f0\")>,\n",
       " <selenium.webdriver.remote.webelement.WebElement (session=\"d0e7ae03694f344102d37ed04183295f\", element=\"30b61959-89d6-4993-bd1e-ff585e583024\")>,\n",
       " <selenium.webdriver.remote.webelement.WebElement (session=\"d0e7ae03694f344102d37ed04183295f\", element=\"04c107fb-1846-41f4-9d64-b53f6984508c\")>,\n",
       " <selenium.webdriver.remote.webelement.WebElement (session=\"d0e7ae03694f344102d37ed04183295f\", element=\"e662f1a7-913c-4a31-a281-2b1bdeb40623\")>,\n",
       " <selenium.webdriver.remote.webelement.WebElement (session=\"d0e7ae03694f344102d37ed04183295f\", element=\"e358ad1d-3322-4066-b9d3-00d9a0c1baee\")>,\n",
       " <selenium.webdriver.remote.webelement.WebElement (session=\"d0e7ae03694f344102d37ed04183295f\", element=\"cb938bdd-172d-4134-b69e-e07255f9cf72\")>,\n",
       " <selenium.webdriver.remote.webelement.WebElement (session=\"d0e7ae03694f344102d37ed04183295f\", element=\"5baf4083-e0b9-426c-96a1-dd8d4406dd04\")>,\n",
       " <selenium.webdriver.remote.webelement.WebElement (session=\"d0e7ae03694f344102d37ed04183295f\", element=\"b46483d1-a6b3-4c06-95d5-63238526e343\")>,\n",
       " <selenium.webdriver.remote.webelement.WebElement (session=\"d0e7ae03694f344102d37ed04183295f\", element=\"0dbdc038-db0c-4e40-a1c3-dfdde1710ded\")>,\n",
       " <selenium.webdriver.remote.webelement.WebElement (session=\"d0e7ae03694f344102d37ed04183295f\", element=\"86bfd345-e405-40d8-94da-3ae056904ec0\")>,\n",
       " <selenium.webdriver.remote.webelement.WebElement (session=\"d0e7ae03694f344102d37ed04183295f\", element=\"a6b0c5c8-723f-4fd2-9e14-f85496fcd962\")>,\n",
       " <selenium.webdriver.remote.webelement.WebElement (session=\"d0e7ae03694f344102d37ed04183295f\", element=\"223ec9d7-696e-4980-811a-db09bb759528\")>,\n",
       " <selenium.webdriver.remote.webelement.WebElement (session=\"d0e7ae03694f344102d37ed04183295f\", element=\"0bab71b5-d53d-4fad-b72f-a4114bf858c7\")>]"
      ]
     },
     "execution_count": 40,
     "metadata": {},
     "output_type": "execute_result"
    }
   ],
   "source": [
    "driver.find_elements_by_css_selector(\"div.wrap_issue dl.list > dt.issue_obj > a\")"
   ]
  },
  {
   "cell_type": "code",
   "execution_count": 205,
   "metadata": {},
   "outputs": [],
   "source": [
    "# 위 코드 함수로.\n",
    "def hotissue(issue=None):\n",
    "    issues = [_ for _ in driver.find_elements_by_css_selector(\"div.wrap_issue dl.list > dt.issue_obj > a\")]\n",
    "    title = [_.find_element_by_css_selector(\"span.txt1\").text for _ in issues]\n",
    "    \n",
    "    if issue in title:\n",
    "        return issues[title.index(issue)].get_attribute(\"href\")\n",
    "    else:\n",
    "        return issues[0].get_attribute(\"href\")"
   ]
  },
  {
   "cell_type": "code",
   "execution_count": 206,
   "metadata": {},
   "outputs": [],
   "source": [
    "url = hotissue(\"박정현\")"
   ]
  },
  {
   "cell_type": "code",
   "execution_count": 207,
   "metadata": {},
   "outputs": [],
   "source": [
    "driver.get(url)"
   ]
  },
  {
   "cell_type": "code",
   "execution_count": 242,
   "metadata": {},
   "outputs": [],
   "source": [
    "# 선생님 버전. 선택할 수 있는 날짜 선택.\n",
    "def bookWindow(options=None):\n",
    "    if options:\n",
    "        #iframe = driver.find_element_by_css_selector(\"#ifrCalendar\")\n",
    "        iframe = driver.find_element_by_name(\"ifrCalendar\")\n",
    "        \n",
    "        if iframe:\n",
    "            driver.switch_to_frame(iframe)\n",
    "            dates = [_ for _ in driver.find_elements_by_css_selector(\"td.able > a\")]\n",
    "            title = [_.text for _ in dates]\n",
    "    \n",
    "        if options in title :\n",
    "            driver.execute_script(dates[title.index(options)].get_attribute(\"onclick\"))\n",
    "        else :\n",
    "            driver.execute_script(dates[0].get_attribute(\"onclick\")) #제일 앞 날짜\n",
    "\n",
    "        driver.switch_to_default_content()\n",
    "    \n",
    "    driver.find_element_by_css_selector(\".tk_dt_btn_TArea > a.btn_rev\").click()\n",
    "    driver.switch_to_window(driver.window_handles[-1])\n",
    "    \n",
    "    #driver.find_element_by_css_selector(\"#LargeNextBtnImage\").click()"
   ]
  },
  {
   "cell_type": "code",
   "execution_count": 243,
   "metadata": {},
   "outputs": [
    {
     "name": "stderr",
     "output_type": "stream",
     "text": [
      "C:\\Users\\cdetg\\Anaconda3\\lib\\site-packages\\ipykernel_launcher.py:1: DeprecationWarning: use driver.switch_to.window instead\n",
      "  \"\"\"Entry point for launching an IPython kernel.\n"
     ]
    }
   ],
   "source": [
    "driver.switch_to_window(driver.window_handles[0])"
   ]
  },
  {
   "cell_type": "code",
   "execution_count": 217,
   "metadata": {},
   "outputs": [
    {
     "data": {
      "text/plain": [
       "['CDwindow-529BD0DE189FD9498500D763BDE2419C']"
      ]
     },
     "execution_count": 217,
     "metadata": {},
     "output_type": "execute_result"
    }
   ],
   "source": [
    "driver.window_handles"
   ]
  },
  {
   "cell_type": "code",
   "execution_count": 244,
   "metadata": {},
   "outputs": [
    {
     "name": "stderr",
     "output_type": "stream",
     "text": [
      "C:\\Users\\cdetg\\Anaconda3\\lib\\site-packages\\ipykernel_launcher.py:8: DeprecationWarning: use driver.switch_to.frame instead\n",
      "  \n",
      "C:\\Users\\cdetg\\Anaconda3\\lib\\site-packages\\ipykernel_launcher.py:17: DeprecationWarning: use driver.switch_to.default_content instead\n",
      "C:\\Users\\cdetg\\Anaconda3\\lib\\site-packages\\ipykernel_launcher.py:20: DeprecationWarning: use driver.switch_to.window instead\n"
     ]
    }
   ],
   "source": [
    "bookWindow(2)"
   ]
  },
  {
   "cell_type": "code",
   "execution_count": 155,
   "metadata": {},
   "outputs": [],
   "source": [
    "driver.close()"
   ]
  },
  {
   "cell_type": "code",
   "execution_count": 178,
   "metadata": {},
   "outputs": [
    {
     "name": "stderr",
     "output_type": "stream",
     "text": [
      "C:\\Users\\cdetg\\Anaconda3\\lib\\site-packages\\ipykernel_launcher.py:1: DeprecationWarning: use driver.switch_to.default_content instead\n",
      "  \"\"\"Entry point for launching an IPython kernel.\n"
     ]
    }
   ],
   "source": [
    "driver.switch_to_default_content()"
   ]
  },
  {
   "cell_type": "code",
   "execution_count": 106,
   "metadata": {},
   "outputs": [],
   "source": [
    "# 안전하게 창 닫기 함수.\n",
    "def safeClose():\n",
    "    if len(driver.window_handles) > 1:\n",
    "        for _ in driver.window_handles[1:]:\n",
    "            driver.switch_to_window(_)\n",
    "            driver.close()\n",
    "        driver.switch_to_window(driver.window_handles[0])\n",
    "        driver.switch_to_default_content()"
   ]
  },
  {
   "cell_type": "code",
   "execution_count": null,
   "metadata": {},
   "outputs": [],
   "source": []
  },
  {
   "cell_type": "code",
   "execution_count": null,
   "metadata": {},
   "outputs": [],
   "source": []
  },
  {
   "cell_type": "code",
   "execution_count": null,
   "metadata": {},
   "outputs": [],
   "source": []
  },
  {
   "cell_type": "code",
   "execution_count": null,
   "metadata": {},
   "outputs": [],
   "source": []
  },
  {
   "cell_type": "code",
   "execution_count": null,
   "metadata": {},
   "outputs": [],
   "source": []
  },
  {
   "cell_type": "code",
   "execution_count": null,
   "metadata": {},
   "outputs": [],
   "source": []
  },
  {
   "cell_type": "code",
   "execution_count": 245,
   "metadata": {},
   "outputs": [],
   "source": [
    "driver.close()"
   ]
  },
  {
   "cell_type": "code",
   "execution_count": null,
   "metadata": {},
   "outputs": [],
   "source": []
  }
 ],
 "metadata": {
  "kernelspec": {
   "display_name": "Python 3",
   "language": "python",
   "name": "python3"
  },
  "language_info": {
   "codemirror_mode": {
    "name": "ipython",
    "version": 3
   },
   "file_extension": ".py",
   "mimetype": "text/x-python",
   "name": "python",
   "nbconvert_exporter": "python",
   "pygments_lexer": "ipython3",
   "version": "3.7.3"
  }
 },
 "nbformat": 4,
 "nbformat_minor": 2
}
