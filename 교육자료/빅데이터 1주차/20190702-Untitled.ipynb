{
 "cells": [
  {
   "cell_type": "code",
   "execution_count": 1,
   "metadata": {},
   "outputs": [],
   "source": [
    "import moon"
   ]
  },
  {
   "cell_type": "code",
   "execution_count": 2,
   "metadata": {},
   "outputs": [],
   "source": [
    "import sun"
   ]
  },
  {
   "cell_type": "code",
   "execution_count": 3,
   "metadata": {},
   "outputs": [],
   "source": [
    "from star import *"
   ]
  },
  {
   "cell_type": "code",
   "execution_count": 4,
   "metadata": {},
   "outputs": [
    {
     "name": "stdout",
     "output_type": "stream",
     "text": [
      "Variable   Type      Data/Info\n",
      "------------------------------\n",
      "a          int       1\n",
      "moon       module    <module 'moon' from 'C:\\\\<...>ming\\\\SPB_Data\\\\moon.py'>\n",
      "sun        module    <module 'sun' from 'C:\\\\U<...>aming\\\\SPB_Data\\\\sun.py'>\n"
     ]
    }
   ],
   "source": [
    "# star 에 있는 a 만 들어왔다! __all__ 는 * 를 쳤을 때 import 되는 애를 지정할 수 있다.\n",
    "# * 만 한다고 모든 것이 다 들어오는 것이 아니다.\n",
    "# __all__ 에 문자열만 지정할 수 있다.\n",
    "%whos"
   ]
  },
  {
   "cell_type": "code",
   "execution_count": null,
   "metadata": {},
   "outputs": [],
   "source": []
  }
 ],
 "metadata": {
  "kernelspec": {
   "display_name": "Python 3",
   "language": "python",
   "name": "python3"
  },
  "language_info": {
   "codemirror_mode": {
    "name": "ipython",
    "version": 3
   },
   "file_extension": ".py",
   "mimetype": "text/x-python",
   "name": "python",
   "nbconvert_exporter": "python",
   "pygments_lexer": "ipython3",
   "version": "3.7.3"
  }
 },
 "nbformat": 4,
 "nbformat_minor": 2
}
