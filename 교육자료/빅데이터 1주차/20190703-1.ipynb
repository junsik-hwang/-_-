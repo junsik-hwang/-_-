{
 "cells": [
  {
   "cell_type": "markdown",
   "metadata": {},
   "source": [
    "# 함수형 패러다임 고급기법"
   ]
  },
  {
   "cell_type": "markdown",
   "metadata": {},
   "source": [
    "## First Class Function\n",
    "\n",
    "함수 세계에서 가장 중요한 것은 '값' / 함수를 값처럼 사용할 수 있다"
   ]
  },
  {
   "cell_type": "code",
   "execution_count": 1,
   "metadata": {},
   "outputs": [],
   "source": [
    "# 파이썬에서 함수는 객체이다.\n",
    "# 함수를 class 를 만들었다.\n",
    "a = print"
   ]
  },
  {
   "cell_type": "code",
   "execution_count": 3,
   "metadata": {},
   "outputs": [
    {
     "name": "stdout",
     "output_type": "stream",
     "text": [
      "문근영\n"
     ]
    }
   ],
   "source": [
    "a('문근영')"
   ]
  },
  {
   "cell_type": "code",
   "execution_count": 4,
   "metadata": {},
   "outputs": [
    {
     "data": {
      "text/plain": [
       "'print'"
      ]
     },
     "execution_count": 4,
     "metadata": {},
     "output_type": "execute_result"
    }
   ],
   "source": [
    "# 실제 이름 확인.\n",
    "a.__name__"
   ]
  },
  {
   "cell_type": "code",
   "execution_count": 5,
   "metadata": {},
   "outputs": [],
   "source": [
    "# 얇은 초록색은 함수\n",
    "sum = 0"
   ]
  },
  {
   "cell_type": "code",
   "execution_count": 7,
   "metadata": {},
   "outputs": [],
   "source": [
    "# 내가 덮었던 것만 없어진다.\n",
    "del sum"
   ]
  },
  {
   "cell_type": "code",
   "execution_count": 11,
   "metadata": {},
   "outputs": [],
   "source": [
    "a = [str, int, float]"
   ]
  },
  {
   "cell_type": "code",
   "execution_count": 12,
   "metadata": {},
   "outputs": [
    {
     "data": {
      "text/plain": [
       "'2'"
      ]
     },
     "execution_count": 12,
     "metadata": {},
     "output_type": "execute_result"
    }
   ],
   "source": [
    "a[0](2)"
   ]
  },
  {
   "cell_type": "code",
   "execution_count": 13,
   "metadata": {},
   "outputs": [],
   "source": [
    "# 이 경우로 클로저, 데코레이터 가능.\n",
    "# 함수 안에 함수를 집어 넣을 수 있다. (중첩된 함수)\n",
    "def a(x):\n",
    "    print(x())"
   ]
  },
  {
   "cell_type": "code",
   "execution_count": 14,
   "metadata": {},
   "outputs": [
    {
     "name": "stdout",
     "output_type": "stream",
     "text": [
      "\n",
      "None\n"
     ]
    }
   ],
   "source": [
    "a(print)"
   ]
  },
  {
   "cell_type": "markdown",
   "metadata": {},
   "source": [
    "## global, nonlocal"
   ]
  },
  {
   "cell_type": "code",
   "execution_count": 15,
   "metadata": {},
   "outputs": [],
   "source": [
    "x = 1 #global 변수"
   ]
  },
  {
   "cell_type": "code",
   "execution_count": 18,
   "metadata": {},
   "outputs": [],
   "source": [
    "def y():\n",
    "    x=2  # local 변수\n",
    "    print(x)"
   ]
  },
  {
   "cell_type": "code",
   "execution_count": 19,
   "metadata": {},
   "outputs": [
    {
     "name": "stdout",
     "output_type": "stream",
     "text": [
      "2\n"
     ]
    }
   ],
   "source": [
    "y()"
   ]
  },
  {
   "cell_type": "code",
   "execution_count": 20,
   "metadata": {},
   "outputs": [],
   "source": [
    "# LEGB rule\n",
    "# local 변수 : 함수 안에 있냐\n",
    "# enclosing Function local : 함수를 내포하는 또 다른 함수영역\n",
    "# global : 함수 영역 밖에 있는 영역\n",
    "# built in : 거슬러 올라가며 있는지 없는지 찾음."
   ]
  },
  {
   "cell_type": "code",
   "execution_count": 34,
   "metadata": {},
   "outputs": [],
   "source": [
    "x = 1\n",
    "def y():\n",
    "    import pdb; pdb.set_trace()\n",
    "    x = x+1\n",
    "    print(x)"
   ]
  },
  {
   "cell_type": "code",
   "execution_count": null,
   "metadata": {},
   "outputs": [
    {
     "name": "stdout",
     "output_type": "stream",
     "text": [
      "> <ipython-input-34-c5367d72fbbc>(4)y()\n",
      "-> x = x+1\n",
      "(Pdb) h\n",
      "\n",
      "Documented commands (type help <topic>):\n",
      "========================================\n",
      "EOF    c          d        h         list      q        rv       undisplay\n",
      "a      cl         debug    help      ll        quit     s        unt      \n",
      "alias  clear      disable  ignore    longlist  r        source   until    \n",
      "args   commands   display  interact  n         restart  step     up       \n",
      "b      condition  down     j         next      return   tbreak   w        \n",
      "break  cont       enable   jump      p         retval   u        whatis   \n",
      "bt     continue   exit     l         pp        run      unalias  where    \n",
      "\n",
      "Miscellaneous help topics:\n",
      "==========================\n",
      "exec  pdb\n",
      "\n",
      "(Pdb) p x\n",
      "1\n"
     ]
    }
   ],
   "source": [
    "# UnboundLocalError : 함수 밖의 변수에 접근은 할 수 있으나 변경을 못 함.\n",
    "# 파이썬에는 디버깅을 해주는 package 가 있다. [import pdb; pdb.set_trace()]\n",
    "# 디버깅을 통해 무엇을 수정해야 할 지 보는 것.\n",
    "y()"
   ]
  },
  {
   "cell_type": "code",
   "execution_count": 2,
   "metadata": {},
   "outputs": [],
   "source": [
    "x = 1"
   ]
  },
  {
   "cell_type": "code",
   "execution_count": 3,
   "metadata": {},
   "outputs": [],
   "source": [
    "def y():\n",
    "    global x # 함수 내에 글로벌을 선언하면 함수 밖에 있는 변수와 싱크(sinc)된다.\n",
    "    x = x+1\n",
    "    print(x)"
   ]
  },
  {
   "cell_type": "code",
   "execution_count": 4,
   "metadata": {},
   "outputs": [
    {
     "name": "stdout",
     "output_type": "stream",
     "text": [
      "2\n"
     ]
    }
   ],
   "source": [
    "y()"
   ]
  },
  {
   "cell_type": "code",
   "execution_count": 1,
   "metadata": {},
   "outputs": [],
   "source": [
    "# 함수 안에서는 함수 밖을 접근 할 수 있지만 바꿀 수 없다.\n",
    "# 단, global 쓰면 바꿀 수 있다.\n",
    "\n",
    "# 함수 밖에서는 함수 안에꺼 접근 불가. (캡슐화)\n",
    "\n",
    "def y():\n",
    "    global x # 함수 내에 글로벌을 선언하면 함수 밖에 있는 변수와 싱크(sinc)된다.\n",
    "    x = x+1\n",
    "    print(x)"
   ]
  },
  {
   "cell_type": "code",
   "execution_count": 4,
   "metadata": {},
   "outputs": [],
   "source": [
    "def y():\n",
    "    global x # 함수 내에 글로벌을 선언하면 함수 밖에 있는 변수와 싱크(sinc)된다.\n",
    "    z=1\n",
    "    print(z)"
   ]
  },
  {
   "cell_type": "code",
   "execution_count": 2,
   "metadata": {},
   "outputs": [],
   "source": [
    "y.z = 3"
   ]
  },
  {
   "cell_type": "code",
   "execution_count": 3,
   "metadata": {},
   "outputs": [
    {
     "name": "stdout",
     "output_type": "stream",
     "text": [
      "1\n"
     ]
    }
   ],
   "source": [
    "y()"
   ]
  },
  {
   "cell_type": "code",
   "execution_count": 8,
   "metadata": {},
   "outputs": [
    {
     "data": {
      "text/plain": [
       "3"
      ]
     },
     "execution_count": 8,
     "metadata": {},
     "output_type": "execute_result"
    }
   ],
   "source": [
    "y.z"
   ]
  },
  {
   "cell_type": "code",
   "execution_count": 9,
   "metadata": {},
   "outputs": [],
   "source": [
    "# class는 밖에서 안에 꺼 바꿀 수 있다.\n",
    "class A:\n",
    "    x = 1"
   ]
  },
  {
   "cell_type": "code",
   "execution_count": 10,
   "metadata": {},
   "outputs": [],
   "source": [
    "A.x = 2"
   ]
  },
  {
   "cell_type": "code",
   "execution_count": 11,
   "metadata": {},
   "outputs": [],
   "source": [
    "a = A()"
   ]
  },
  {
   "cell_type": "code",
   "execution_count": 12,
   "metadata": {},
   "outputs": [
    {
     "data": {
      "text/plain": [
       "2"
      ]
     },
     "execution_count": 12,
     "metadata": {},
     "output_type": "execute_result"
    }
   ],
   "source": [
    "a.x"
   ]
  },
  {
   "cell_type": "code",
   "execution_count": 14,
   "metadata": {},
   "outputs": [],
   "source": [
    "# 중첩\n",
    "def y():\n",
    "    def z():\n",
    "        return 1\n",
    "    return z()"
   ]
  },
  {
   "cell_type": "code",
   "execution_count": 15,
   "metadata": {},
   "outputs": [
    {
     "data": {
      "text/plain": [
       "1"
      ]
     },
     "execution_count": 15,
     "metadata": {},
     "output_type": "execute_result"
    }
   ],
   "source": [
    "y()"
   ]
  },
  {
   "cell_type": "code",
   "execution_count": 16,
   "metadata": {},
   "outputs": [],
   "source": [
    "def y():\n",
    "    def z():\n",
    "        return 1\n",
    "    return z"
   ]
  },
  {
   "cell_type": "code",
   "execution_count": 18,
   "metadata": {},
   "outputs": [
    {
     "data": {
      "text/plain": [
       "1"
      ]
     },
     "execution_count": 18,
     "metadata": {},
     "output_type": "execute_result"
    }
   ],
   "source": [
    "y()()"
   ]
  },
  {
   "cell_type": "code",
   "execution_count": 26,
   "metadata": {},
   "outputs": [],
   "source": [
    "def y(x): # 파라미터 1개\n",
    "    def z():\n",
    "        return x+1\n",
    "    return z"
   ]
  },
  {
   "cell_type": "code",
   "execution_count": 29,
   "metadata": {},
   "outputs": [
    {
     "data": {
      "text/plain": [
       "4"
      ]
     },
     "execution_count": 29,
     "metadata": {},
     "output_type": "execute_result"
    }
   ],
   "source": [
    "y(3)()"
   ]
  },
  {
   "cell_type": "markdown",
   "metadata": {},
   "source": [
    "## closure(클로저)"
   ]
  },
  {
   "cell_type": "code",
   "execution_count": 30,
   "metadata": {},
   "outputs": [],
   "source": [
    "# 클로저 : 함수 안에 함수를 중첩시킨다!\n",
    "def y(x): # 파라미터 1개\n",
    "    def z(n):\n",
    "        return x+n\n",
    "    return z"
   ]
  },
  {
   "cell_type": "code",
   "execution_count": 31,
   "metadata": {},
   "outputs": [],
   "source": [
    "two_add = y(3)"
   ]
  },
  {
   "cell_type": "code",
   "execution_count": 32,
   "metadata": {},
   "outputs": [
    {
     "data": {
      "text/plain": [
       "5"
      ]
     },
     "execution_count": 32,
     "metadata": {},
     "output_type": "execute_result"
    }
   ],
   "source": [
    "two_add(2)"
   ]
  },
  {
   "cell_type": "code",
   "execution_count": 40,
   "metadata": {},
   "outputs": [
    {
     "name": "stdout",
     "output_type": "stream",
     "text": [
      "Writing moon.txt\n"
     ]
    }
   ],
   "source": [
    "%%writefile moon.txt\n",
    "sagjkdagjlajflsajfa"
   ]
  },
  {
   "cell_type": "code",
   "execution_count": 42,
   "metadata": {},
   "outputs": [],
   "source": [
    "# 현재 작업하고 있는 위치에 txt 파일을 만들 수 있음. %%writefile"
   ]
  },
  {
   "cell_type": "code",
   "execution_count": 45,
   "metadata": {},
   "outputs": [
    {
     "ename": "AssertionError",
     "evalue": "",
     "output_type": "error",
     "traceback": [
      "\u001b[1;31m---------------------------------------------------------------------------\u001b[0m",
      "\u001b[1;31mAssertionError\u001b[0m                            Traceback (most recent call last)",
      "\u001b[1;32m<ipython-input-45-0fc29a8090bc>\u001b[0m in \u001b[0;36m<module>\u001b[1;34m\u001b[0m\n\u001b[0;32m      1\u001b[0m \u001b[1;31m# assert : False 면 에러를 발생시킴.\u001b[0m\u001b[1;33m\u001b[0m\u001b[1;33m\u001b[0m\u001b[1;33m\u001b[0m\u001b[0m\n\u001b[0;32m      2\u001b[0m \u001b[0ma\u001b[0m \u001b[1;33m=\u001b[0m \u001b[1;36m1\u001b[0m\u001b[1;33m\u001b[0m\u001b[1;33m\u001b[0m\u001b[0m\n\u001b[1;32m----> 3\u001b[1;33m \u001b[1;32massert\u001b[0m \u001b[0ma\u001b[0m\u001b[1;33m>\u001b[0m\u001b[1;36m2\u001b[0m\u001b[1;33m\u001b[0m\u001b[1;33m\u001b[0m\u001b[0m\n\u001b[0m",
      "\u001b[1;31mAssertionError\u001b[0m: "
     ]
    }
   ],
   "source": [
    "# assert : False 면 에러를 발생시킴.\n",
    "a = 1\n",
    "assert a>2"
   ]
  },
  {
   "cell_type": "code",
   "execution_count": 53,
   "metadata": {},
   "outputs": [],
   "source": [
    "from operator import add, mul, sub"
   ]
  },
  {
   "cell_type": "code",
   "execution_count": 56,
   "metadata": {},
   "outputs": [
    {
     "name": "stdout",
     "output_type": "stream",
     "text": [
      "0\n",
      "1\n",
      "2\n",
      "3\n",
      "4\n",
      "5\n",
      "6\n",
      "7\n",
      "8\n",
      "9\n"
     ]
    }
   ],
   "source": [
    "for z in range(10):\n",
    "    print(z)"
   ]
  },
  {
   "cell_type": "code",
   "execution_count": 57,
   "metadata": {},
   "outputs": [
    {
     "data": {
      "text/plain": [
       "9"
      ]
     },
     "execution_count": 57,
     "metadata": {},
     "output_type": "execute_result"
    }
   ],
   "source": [
    "z"
   ]
  },
  {
   "cell_type": "code",
   "execution_count": 58,
   "metadata": {},
   "outputs": [
    {
     "data": {
      "text/plain": [
       "[0, 1, 2, 3, 4, 5, 6, 7, 8, 9]"
      ]
     },
     "execution_count": 58,
     "metadata": {},
     "output_type": "execute_result"
    }
   ],
   "source": [
    "# 컴프리헨션 써보기\n",
    "[zz for zz in range(10)]"
   ]
  },
  {
   "cell_type": "code",
   "execution_count": 59,
   "metadata": {},
   "outputs": [
    {
     "ename": "NameError",
     "evalue": "name 'zz' is not defined",
     "output_type": "error",
     "traceback": [
      "\u001b[1;31m---------------------------------------------------------------------------\u001b[0m",
      "\u001b[1;31mNameError\u001b[0m                                 Traceback (most recent call last)",
      "\u001b[1;32m<ipython-input-59-15546de8c3b0>\u001b[0m in \u001b[0;36m<module>\u001b[1;34m\u001b[0m\n\u001b[1;32m----> 1\u001b[1;33m \u001b[0mzz\u001b[0m\u001b[1;33m\u001b[0m\u001b[1;33m\u001b[0m\u001b[0m\n\u001b[0m",
      "\u001b[1;31mNameError\u001b[0m: name 'zz' is not defined"
     ]
    }
   ],
   "source": [
    "# 파이썬은 for를 쓰면 살아있지만 컨프리헨션 쓰면 살아남지 못하다.\n",
    "zz"
   ]
  },
  {
   "cell_type": "code",
   "execution_count": 60,
   "metadata": {},
   "outputs": [
    {
     "data": {
      "text/plain": [
       "9"
      ]
     },
     "execution_count": 60,
     "metadata": {},
     "output_type": "execute_result"
    }
   ],
   "source": [
    "# _숫자를 넣으면 그 줄에 있는 데이터 불러옴.\n",
    "_57"
   ]
  },
  {
   "cell_type": "code",
   "execution_count": 61,
   "metadata": {
    "collapsed": true
   },
   "outputs": [
    {
     "name": "stdout",
     "output_type": "stream",
     "text": [
      "def y():\n",
      "    breakpoint() # 에러가 날 것 같으니까 이 지점에 잠시 멈추자.\n",
      "    x = x+1\n",
      "    print(x)\n",
      "x = 1\n",
      "def y():\n",
      "    global x # 함수 내에 글로벌을 선언하면 함수 밖에 있는 변수와 싱크(sinc)된다.\n",
      "    x = x+1\n",
      "    print(x)\n",
      "y()\n",
      "def y():\n",
      "    global x # 함수 내에 글로벌을 선언하면 함수 밖에 있는 변수와 싱크(sinc)된다.\n",
      "    z=1\n",
      "    print(z)\n",
      "y.z = 3\n",
      "y()\n",
      "y.z\n",
      "class A:\n",
      "    x = 1\n",
      "A.x = 2\n",
      "a = A()\n",
      "a.x\n",
      "# 중첩 : \n",
      "def y():\n",
      "    def z():\n",
      "        return 1\n",
      "# 중첩 : \n",
      "def y():\n",
      "    def z():\n",
      "        return 1\n",
      "    return z()\n",
      "y()\n",
      "def y():\n",
      "    def z():\n",
      "        return 1\n",
      "    return z\n",
      "y()\n",
      "y()()\n",
      "def y():\n",
      "    print('힘들어')\n",
      "    return y\n",
      "y()\n",
      "y()()()()()()()()()()()()\n",
      "def y():\n",
      "    print('어려워')\n",
      "    return y\n",
      "y()()()()()()()()()()()()\n",
      "def y(x): # 파라미터 1개\n",
      "    def z():\n",
      "        return 1\n",
      "    return z\n",
      "y(3)()\n",
      "def y(x): # 파라미터 1개\n",
      "    def z():\n",
      "        return x+1\n",
      "    return z\n",
      "y(3)()\n",
      "y(3)(1)\n",
      "y(3)()\n",
      "def y(x): # 파라미터 1개\n",
      "    def z(n):\n",
      "        return x+n\n",
      "    return z\n",
      "two_add = y(3)\n",
      "two_add(2)\n",
      "# 현재 작업하고 있는 위치에 txt 파일을 만들 수 있음.\n",
      "%%writefile moon.txt\n",
      "sagjkdagjl;ajflsajfa\n",
      "agksjg;asjg;assjg;lag\n",
      "agkajgk;jas;gja;s\n",
      "# 현재 작업하고 있는 위치에 txt 파일을 만들 수 있음.\n",
      "%writefile moon.txt\n",
      "sagjkdagjl;ajflsajfa\n",
      "agksjg;asjg;assjg;lag\n",
      "agkajgk;jas;gja;s\n",
      "# 현재 작업하고 있는 위치에 txt 파일을 만들 수 있음.\n",
      "%% writefile moon.txt\n",
      "sagjkdagjl;ajflsajfa\n",
      "agksjg;asjg;assjg;lag\n",
      "agkajgk;jas;gja;s\n",
      "# 현재 작업하고 있는 위치에 txt 파일을 만들 수 있음.\n",
      "%%writefile 'moon.txt'\n",
      "sagjkdagjl;ajflsajfa\n",
      "agksjg;asjg;assjg;lag\n",
      "agkajgk;jas;gja;s\n",
      "# 현재 작업하고 있는 위치에 txt 파일을 만들 수 있음.\n",
      "%%writefile moon.txt\n",
      "sagjkdagjl;ajflsajfa\n",
      "agksjg;asjg;assjglag\n",
      "agkajgk;jas;gja;s\n",
      "# 현재 작업하고 있는 위치에 txt 파일을 만들 수 있음.\n",
      "%%writefile moon.txt\n",
      "sagjkdagjlajflsajfa\n",
      "# 현재 작업하고 있는 위치에 txt 파일을 만들 수 있음.\n",
      "%%writefile moon.txt\n",
      "%%writefile moon.txt\n",
      "sagjkdagjlajflsajfa\n",
      "# 현재 작업하고 있는 위치에 txt 파일을 만들 수 있음.\n",
      "# 현재 작업하고 있는 위치에 txt 파일을 만들 수 있음. %%writefile\n",
      "# assert : False 면 에러를 발생시킴.\n",
      "a = 1\n",
      "assert a>2\n",
      "# assert : False 면 에러를 발생시킴.\n",
      "a = 3\n",
      "assert a>2\n",
      "# assert : False 면 에러를 발생시킴.\n",
      "a = 1\n",
      "assert a>2\n",
      "from operator import add\n",
      "from operator import add, mul\n",
      "from operator import add, mul, sub\n",
      "from operator import add, mul\n",
      "sub(4,1)\n",
      "from operator import add, mul\n",
      "sub(4,1)\n",
      "from operator import add, mul, sub\n",
      "sub(4,1)\n",
      "for x in range(10):\n",
      "    print(z)\n",
      "for z in range(10):\n",
      "    print(z)\n",
      "z\n",
      "# 컴프리헨션\n",
      "[zz for zz in range(10)]\n",
      "zz\n",
      "_57\n",
      "%history\n"
     ]
    }
   ],
   "source": [
    "%history"
   ]
  },
  {
   "cell_type": "code",
   "execution_count": 62,
   "metadata": {},
   "outputs": [
    {
     "data": {
      "text/plain": [
       "True"
      ]
     },
     "execution_count": 62,
     "metadata": {},
     "output_type": "execute_result"
    }
   ],
   "source": [
    "# int() : 클래스 뒤에 괄호 있네?\n",
    "# 클래스도 callable 하면 True 가 나온다.\n",
    "callable(int)"
   ]
  },
  {
   "cell_type": "code",
   "execution_count": 63,
   "metadata": {},
   "outputs": [],
   "source": [
    "# lambda 로 함수 대체 가능하다.\n",
    "def x(a):\n",
    "    return a"
   ]
  },
  {
   "cell_type": "code",
   "execution_count": 64,
   "metadata": {},
   "outputs": [],
   "source": [
    "y = lambda a: a"
   ]
  },
  {
   "cell_type": "code",
   "execution_count": 65,
   "metadata": {},
   "outputs": [
    {
     "data": {
      "text/plain": [
       "set()"
      ]
     },
     "execution_count": 65,
     "metadata": {},
     "output_type": "execute_result"
    }
   ],
   "source": [
    "set(dir(x)) ^ set(dir(y))"
   ]
  },
  {
   "cell_type": "code",
   "execution_count": 66,
   "metadata": {},
   "outputs": [
    {
     "data": {
      "text/plain": [
       "'<lambda>'"
      ]
     },
     "execution_count": 66,
     "metadata": {},
     "output_type": "execute_result"
    }
   ],
   "source": [
    "# lambda 로 쓰면 이름이 없다.\n",
    "# lambda 대수?\n",
    "y.__name__"
   ]
  },
  {
   "cell_type": "code",
   "execution_count": 67,
   "metadata": {},
   "outputs": [
    {
     "data": {
      "text/plain": [
       "'x'"
      ]
     },
     "execution_count": 67,
     "metadata": {},
     "output_type": "execute_result"
    }
   ],
   "source": [
    "x.__name__"
   ]
  },
  {
   "cell_type": "code",
   "execution_count": 68,
   "metadata": {},
   "outputs": [],
   "source": [
    "from itertools import cycle"
   ]
  },
  {
   "cell_type": "code",
   "execution_count": 69,
   "metadata": {},
   "outputs": [],
   "source": [
    "a = cycle([1,2,3])"
   ]
  },
  {
   "cell_type": "code",
   "execution_count": 77,
   "metadata": {},
   "outputs": [
    {
     "data": {
      "text/plain": [
       "1"
      ]
     },
     "execution_count": 77,
     "metadata": {},
     "output_type": "execute_result"
    }
   ],
   "source": [
    "next(a)"
   ]
  },
  {
   "cell_type": "code",
   "execution_count": 81,
   "metadata": {},
   "outputs": [],
   "source": [
    "from itertools import count"
   ]
  },
  {
   "cell_type": "code",
   "execution_count": 84,
   "metadata": {},
   "outputs": [],
   "source": [
    "a = count()"
   ]
  },
  {
   "cell_type": "code",
   "execution_count": 91,
   "metadata": {},
   "outputs": [
    {
     "data": {
      "text/plain": [
       "6"
      ]
     },
     "execution_count": 91,
     "metadata": {},
     "output_type": "execute_result"
    }
   ],
   "source": [
    "next(a)"
   ]
  }
 ],
 "metadata": {
  "kernelspec": {
   "display_name": "Python 3",
   "language": "python",
   "name": "python3"
  },
  "language_info": {
   "codemirror_mode": {
    "name": "ipython",
    "version": 3
   },
   "file_extension": ".py",
   "mimetype": "text/x-python",
   "name": "python",
   "nbconvert_exporter": "python",
   "pygments_lexer": "ipython3",
   "version": "3.7.3"
  }
 },
 "nbformat": 4,
 "nbformat_minor": 2
}
